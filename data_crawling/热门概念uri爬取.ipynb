{
 "cells": [
  {
   "cell_type": "code",
   "id": "initial_id",
   "metadata": {
    "collapsed": true,
    "ExecuteTime": {
     "end_time": "2024-05-11T07:21:31.150147Z",
     "start_time": "2024-05-11T07:21:31.146300Z"
    }
   },
   "source": [
    "import pandas as pd\n",
    "import re\n",
    "import warnings\n",
    "import pickle\n",
    "warnings.filterwarnings(\"ignore\", category=UserWarning)"
   ],
   "outputs": [],
   "execution_count": 1
  },
  {
   "metadata": {},
   "cell_type": "code",
   "outputs": [],
   "execution_count": null,
   "source": [
    "# from selenium import webdriver\n",
    "# import selenium.webdriver.support.wait as WA\n",
    "# from selenium.webdriver.edge.service import Service\n",
    "# from selenium.webdriver.edge.options import Options\n",
    "# options = Options()\n",
    "# prefs = {\n",
    "#     \"download.prompt_for_download\": False,\n",
    "#     \"download.directory_upgrade\": True,\n",
    "#     \"plugins.always_open_pdf_externally\": True\n",
    "# }\n",
    "# options.add_experimental_option(\"prefs\", prefs)\n",
    "# \n",
    "# edge_driver_path = r'E:\\PythonProject\\edgedriver_win64\\msedgedriver.exe'\n",
    "# service = Service(edge_driver_path)\n",
    "# \n",
    "# driver = webdriver.Edge(service=service, options=options)"
   ],
   "id": "bf0e4e57d20ab1ff"
  },
  {
   "metadata": {
    "ExecuteTime": {
     "end_time": "2024-05-11T07:43:46.503028Z",
     "start_time": "2024-05-11T07:41:07.573593Z"
    }
   },
   "cell_type": "code",
   "source": [
    "from selenium import webdriver\n",
    "from selenium.webdriver.common.by import By\n",
    "from selenium.webdriver.support.ui import WebDriverWait\n",
    "from selenium.webdriver.support import expected_conditions as EC\n",
    "from selenium.webdriver.edge.service import Service\n",
    "from selenium.webdriver.edge.options import Options\n",
    "from selenium.common.exceptions import TimeoutException, NoSuchElementException\n",
    "import time\n",
    "# 设置浏览器选项\n",
    "options = Options()\n",
    "prefs = {\n",
    "    \"download.prompt_for_download\": False,\n",
    "    \"download.directory_upgrade\": True,\n",
    "    \"plugins.always_open_pdf_externally\": True\n",
    "}\n",
    "options.add_experimental_option(\"prefs\", prefs)\n",
    "\n",
    "# 指定Edge WebDriver的路径\n",
    "edge_driver_path = r'E:\\PythonProject\\edgedriver_win64\\msedgedriver.exe'\n",
    "service = Service(edge_driver_path)\n",
    "driver = webdriver.Edge(service=service, options=options)\n",
    "\n",
    "# 打开页面\n",
    "driver.get(\"https://vip.stock.finance.sina.com.cn/mkt/#gn_hjgn\")\n",
    "\n",
    "# 设置等待时间\n",
    "wait = WebDriverWait(driver, 30)\n",
    "\n",
    "data_list = []  # 使用列表存储数据\n",
    "\n",
    "for i in range(1, 657):  # 从1到656\n",
    "    xpath = f'/html/body/div[3]/div[5]/div[1]/ul[1]/li[5]/div/dl/dd[{i}]/a'\n",
    "    try:\n",
    "        if wait.until(EC.presence_of_element_located((By.XPATH, xpath))):  # 预先检查元素的存在\n",
    "            element = wait.until(EC.element_to_be_clickable((By.XPATH, xpath)))\n",
    "            driver.execute_script(\"arguments[0].click();\", element)\n",
    "            time.sleep(1)  # 延时1秒，等待页面加载\n",
    "            current_url = driver.current_url\n",
    "            print(f\"Item {i} baseURI: {current_url}\")\n",
    "            data_list.append({'Item': i, 'baseURI': current_url})\n",
    "    except (TimeoutException, NoSuchElementException) as e:\n",
    "        print(f\"Encountered an error for item {i}: {e}. Skipping.\")\n",
    "\n",
    "results = pd.DataFrame(data_list)  # 一次性转换为DataFrame\n",
    "\n",
    "print(results)\n",
    "driver.quit()"
   ],
   "id": "1ebcd4a081450c99",
   "outputs": [
    {
     "name": "stdout",
     "output_type": "stream",
     "text": [
      "Encountered an error for item 1: Message: \n",
      "Stacktrace:\n",
      "\tGetHandleVerifier [0x00007FF7CDA9E4E2+63026]\n",
      "\tMicrosoft::Applications::Events::ILogConfiguration::operator* [0x00007FF7CDA30FA2+213730]\n",
      "\t(No symbol) [0x00007FF7CD85E7A7]\n",
      "\t(No symbol) [0x00007FF7CD8A55EE]\n",
      "\t(No symbol) [0x00007FF7CD8A56D6]\n",
      "\t(No symbol) [0x00007FF7CD8E0717]\n",
      "\t(No symbol) [0x00007FF7CD8C4F1F]\n",
      "\t(No symbol) [0x00007FF7CD89AE17]\n",
      "\t(No symbol) [0x00007FF7CD8DE313]\n",
      "\t(No symbol) [0x00007FF7CD8C4B43]\n",
      "\t(No symbol) [0x00007FF7CD89A33E]\n",
      "\t(No symbol) [0x00007FF7CD8994EC]\n",
      "\t(No symbol) [0x00007FF7CD899EF1]\n",
      "\tMicrosoft::Applications::Events::EventProperty::to_string [0x00007FF7CDC45B94+1026500]\n",
      "\t(No symbol) [0x00007FF7CD90F29C]\n",
      "\tMicrosoft::Applications::Events::EventProperty::~EventProperty [0x00007FF7CD9ABD3C+34028]\n",
      "\tMicrosoft::Applications::Events::EventProperty::~EventProperty [0x00007FF7CD9A4525+3285]\n",
      "\tMicrosoft::Applications::Events::EventProperty::to_string [0x00007FF7CDC44B55+1022341]\n",
      "\tMicrosoft::Applications::Events::ILogConfiguration::operator* [0x00007FF7CDA39A61+249249]\n",
      "\tMicrosoft::Applications::Events::ILogConfiguration::operator* [0x00007FF7CDA354E4+231460]\n",
      "\tMicrosoft::Applications::Events::ILogConfiguration::operator* [0x00007FF7CDA3561B+231771]\n",
      "\tMicrosoft::Applications::Events::ILogConfiguration::operator* [0x00007FF7CDA2B245+189829]\n",
      "\tBaseThreadInitThunk [0x00007FF8359F257D+29]\n",
      "\tRtlUserThreadStart [0x00007FF83678AA48+40]\n",
      ". Skipping.\n",
      "Encountered an error for item 2: Message: \n",
      "Stacktrace:\n",
      "\tGetHandleVerifier [0x00007FF7CDA9E4E2+63026]\n",
      "\tMicrosoft::Applications::Events::ILogConfiguration::operator* [0x00007FF7CDA30FA2+213730]\n",
      "\t(No symbol) [0x00007FF7CD85E7A7]\n",
      "\t(No symbol) [0x00007FF7CD8A55EE]\n",
      "\t(No symbol) [0x00007FF7CD8A56D6]\n",
      "\t(No symbol) [0x00007FF7CD8E0717]\n",
      "\t(No symbol) [0x00007FF7CD8C4F1F]\n",
      "\t(No symbol) [0x00007FF7CD89AE17]\n",
      "\t(No symbol) [0x00007FF7CD8DE313]\n",
      "\t(No symbol) [0x00007FF7CD8C4B43]\n",
      "\t(No symbol) [0x00007FF7CD89A33E]\n",
      "\t(No symbol) [0x00007FF7CD8994EC]\n",
      "\t(No symbol) [0x00007FF7CD899EF1]\n",
      "\tMicrosoft::Applications::Events::EventProperty::to_string [0x00007FF7CDC45B94+1026500]\n",
      "\t(No symbol) [0x00007FF7CD90F29C]\n",
      "\tMicrosoft::Applications::Events::EventProperty::~EventProperty [0x00007FF7CD9ABD3C+34028]\n",
      "\tMicrosoft::Applications::Events::EventProperty::~EventProperty [0x00007FF7CD9A4525+3285]\n",
      "\tMicrosoft::Applications::Events::EventProperty::to_string [0x00007FF7CDC44B55+1022341]\n",
      "\tMicrosoft::Applications::Events::ILogConfiguration::operator* [0x00007FF7CDA39A61+249249]\n",
      "\tMicrosoft::Applications::Events::ILogConfiguration::operator* [0x00007FF7CDA354E4+231460]\n",
      "\tMicrosoft::Applications::Events::ILogConfiguration::operator* [0x00007FF7CDA3561B+231771]\n",
      "\tMicrosoft::Applications::Events::ILogConfiguration::operator* [0x00007FF7CDA2B245+189829]\n",
      "\tBaseThreadInitThunk [0x00007FF8359F257D+29]\n",
      "\tRtlUserThreadStart [0x00007FF83678AA48+40]\n",
      ". Skipping.\n",
      "Encountered an error for item 3: Message: \n",
      "Stacktrace:\n",
      "\tGetHandleVerifier [0x00007FF7CDA9E4E2+63026]\n",
      "\tMicrosoft::Applications::Events::ILogConfiguration::operator* [0x00007FF7CDA30FA2+213730]\n",
      "\t(No symbol) [0x00007FF7CD85E7A7]\n",
      "\t(No symbol) [0x00007FF7CD8A55EE]\n",
      "\t(No symbol) [0x00007FF7CD8A56D6]\n",
      "\t(No symbol) [0x00007FF7CD8E0717]\n",
      "\t(No symbol) [0x00007FF7CD8C4F1F]\n",
      "\t(No symbol) [0x00007FF7CD89AE17]\n",
      "\t(No symbol) [0x00007FF7CD8DE313]\n",
      "\t(No symbol) [0x00007FF7CD8C4B43]\n",
      "\t(No symbol) [0x00007FF7CD89A33E]\n",
      "\t(No symbol) [0x00007FF7CD8994EC]\n",
      "\t(No symbol) [0x00007FF7CD899EF1]\n",
      "\tMicrosoft::Applications::Events::EventProperty::to_string [0x00007FF7CDC45B94+1026500]\n",
      "\t(No symbol) [0x00007FF7CD90F29C]\n",
      "\tMicrosoft::Applications::Events::EventProperty::~EventProperty [0x00007FF7CD9ABD3C+34028]\n",
      "\tMicrosoft::Applications::Events::EventProperty::~EventProperty [0x00007FF7CD9A4525+3285]\n",
      "\tMicrosoft::Applications::Events::EventProperty::to_string [0x00007FF7CDC44B55+1022341]\n",
      "\tMicrosoft::Applications::Events::ILogConfiguration::operator* [0x00007FF7CDA39A61+249249]\n",
      "\tMicrosoft::Applications::Events::ILogConfiguration::operator* [0x00007FF7CDA354E4+231460]\n",
      "\tMicrosoft::Applications::Events::ILogConfiguration::operator* [0x00007FF7CDA3561B+231771]\n",
      "\tMicrosoft::Applications::Events::ILogConfiguration::operator* [0x00007FF7CDA2B245+189829]\n",
      "\tBaseThreadInitThunk [0x00007FF8359F257D+29]\n",
      "\tRtlUserThreadStart [0x00007FF83678AA48+40]\n",
      ". Skipping.\n",
      "Encountered an error for item 4: Message: \n",
      "Stacktrace:\n",
      "\tGetHandleVerifier [0x00007FF7CDA9E4E2+63026]\n",
      "\tMicrosoft::Applications::Events::ILogConfiguration::operator* [0x00007FF7CDA30FA2+213730]\n",
      "\t(No symbol) [0x00007FF7CD85E7A7]\n",
      "\t(No symbol) [0x00007FF7CD8A55EE]\n",
      "\t(No symbol) [0x00007FF7CD8A56D6]\n",
      "\t(No symbol) [0x00007FF7CD8E0717]\n",
      "\t(No symbol) [0x00007FF7CD8C4F1F]\n",
      "\t(No symbol) [0x00007FF7CD89AE17]\n",
      "\t(No symbol) [0x00007FF7CD8DE313]\n",
      "\t(No symbol) [0x00007FF7CD8C4B43]\n",
      "\t(No symbol) [0x00007FF7CD89A33E]\n",
      "\t(No symbol) [0x00007FF7CD8994EC]\n",
      "\t(No symbol) [0x00007FF7CD899EF1]\n",
      "\tMicrosoft::Applications::Events::EventProperty::to_string [0x00007FF7CDC45B94+1026500]\n",
      "\t(No symbol) [0x00007FF7CD90F29C]\n",
      "\tMicrosoft::Applications::Events::EventProperty::~EventProperty [0x00007FF7CD9ABD3C+34028]\n",
      "\tMicrosoft::Applications::Events::EventProperty::~EventProperty [0x00007FF7CD9A4525+3285]\n",
      "\tMicrosoft::Applications::Events::EventProperty::to_string [0x00007FF7CDC44B55+1022341]\n",
      "\tMicrosoft::Applications::Events::ILogConfiguration::operator* [0x00007FF7CDA39A61+249249]\n",
      "\tMicrosoft::Applications::Events::ILogConfiguration::operator* [0x00007FF7CDA354E4+231460]\n",
      "\tMicrosoft::Applications::Events::ILogConfiguration::operator* [0x00007FF7CDA3561B+231771]\n",
      "\tMicrosoft::Applications::Events::ILogConfiguration::operator* [0x00007FF7CDA2B245+189829]\n",
      "\tBaseThreadInitThunk [0x00007FF8359F257D+29]\n",
      "\tRtlUserThreadStart [0x00007FF83678AA48+40]\n",
      ". Skipping.\n"
     ]
    },
    {
     "name": "stderr",
     "output_type": "stream",
     "text": [
      "Exception ignored in: <function Service.__del__ at 0x00000237A727AC00>\n",
      "Traceback (most recent call last):\n",
      "  File \"D:\\python3.12\\Lib\\site-packages\\selenium\\webdriver\\common\\service.py\", line 189, in __del__\n",
      "    self.stop()\n",
      "  File \"D:\\python3.12\\Lib\\site-packages\\selenium\\webdriver\\common\\service.py\", line 146, in stop\n",
      "    self.send_remote_shutdown_command()\n",
      "  File \"D:\\python3.12\\Lib\\site-packages\\selenium\\webdriver\\common\\service.py\", line 131, in send_remote_shutdown_command\n",
      "    if not self.is_connectable():\n",
      "           ^^^^^^^^^^^^^^^^^^^^^\n",
      "  File \"D:\\python3.12\\Lib\\site-packages\\selenium\\webdriver\\common\\service.py\", line 120, in is_connectable\n",
      "    return utils.is_connectable(self.port)\n",
      "           ^^^^^^^^^^^^^^^^^^^^^^^^^^^^^^^\n",
      "  File \"D:\\python3.12\\Lib\\site-packages\\selenium\\webdriver\\common\\utils.py\", line 101, in is_connectable\n",
      "    socket_ = socket.create_connection((host, port), 1)\n",
      "              ^^^^^^^^^^^^^^^^^^^^^^^^^^^^^^^^^^^^^^^^^\n",
      "  File \"D:\\python3.12\\Lib\\socket.py\", line 844, in create_connection\n",
      "    exceptions.clear()  # raise only the last error\n",
      "    ^^^^^^^^^^^^^^^^^^\n",
      "KeyboardInterrupt: \n"
     ]
    },
    {
     "ename": "KeyboardInterrupt",
     "evalue": "",
     "output_type": "error",
     "traceback": [
      "\u001B[1;31m---------------------------------------------------------------------------\u001B[0m",
      "\u001B[1;31mKeyboardInterrupt\u001B[0m                         Traceback (most recent call last)",
      "Cell \u001B[1;32mIn[7], line 34\u001B[0m\n\u001B[0;32m     32\u001B[0m xpath \u001B[38;5;241m=\u001B[39m \u001B[38;5;124mf\u001B[39m\u001B[38;5;124m'\u001B[39m\u001B[38;5;124m/html/body/div[3]/div[5]/div[1]/ul[1]/li[5]/div/dl/dd[\u001B[39m\u001B[38;5;132;01m{\u001B[39;00mi\u001B[38;5;132;01m}\u001B[39;00m\u001B[38;5;124m]/a\u001B[39m\u001B[38;5;124m'\u001B[39m\n\u001B[0;32m     33\u001B[0m \u001B[38;5;28;01mtry\u001B[39;00m:\n\u001B[1;32m---> 34\u001B[0m     \u001B[38;5;28;01mif\u001B[39;00m \u001B[43mwait\u001B[49m\u001B[38;5;241;43m.\u001B[39;49m\u001B[43muntil\u001B[49m\u001B[43m(\u001B[49m\u001B[43mEC\u001B[49m\u001B[38;5;241;43m.\u001B[39;49m\u001B[43mpresence_of_element_located\u001B[49m\u001B[43m(\u001B[49m\u001B[43m(\u001B[49m\u001B[43mBy\u001B[49m\u001B[38;5;241;43m.\u001B[39;49m\u001B[43mXPATH\u001B[49m\u001B[43m,\u001B[49m\u001B[43m \u001B[49m\u001B[43mxpath\u001B[49m\u001B[43m)\u001B[49m\u001B[43m)\u001B[49m\u001B[43m)\u001B[49m:  \u001B[38;5;66;03m# 预先检查元素的存在\u001B[39;00m\n\u001B[0;32m     35\u001B[0m         element \u001B[38;5;241m=\u001B[39m wait\u001B[38;5;241m.\u001B[39muntil(EC\u001B[38;5;241m.\u001B[39melement_to_be_clickable((By\u001B[38;5;241m.\u001B[39mXPATH, xpath)))\n\u001B[0;32m     36\u001B[0m         driver\u001B[38;5;241m.\u001B[39mexecute_script(\u001B[38;5;124m\"\u001B[39m\u001B[38;5;124marguments[0].click();\u001B[39m\u001B[38;5;124m\"\u001B[39m, element)\n",
      "File \u001B[1;32mD:\\python3.12\\Lib\\site-packages\\selenium\\webdriver\\support\\wait.py:102\u001B[0m, in \u001B[0;36mWebDriverWait.until\u001B[1;34m(self, method, message)\u001B[0m\n\u001B[0;32m    100\u001B[0m     screen \u001B[38;5;241m=\u001B[39m \u001B[38;5;28mgetattr\u001B[39m(exc, \u001B[38;5;124m\"\u001B[39m\u001B[38;5;124mscreen\u001B[39m\u001B[38;5;124m\"\u001B[39m, \u001B[38;5;28;01mNone\u001B[39;00m)\n\u001B[0;32m    101\u001B[0m     stacktrace \u001B[38;5;241m=\u001B[39m \u001B[38;5;28mgetattr\u001B[39m(exc, \u001B[38;5;124m\"\u001B[39m\u001B[38;5;124mstacktrace\u001B[39m\u001B[38;5;124m\"\u001B[39m, \u001B[38;5;28;01mNone\u001B[39;00m)\n\u001B[1;32m--> 102\u001B[0m \u001B[43mtime\u001B[49m\u001B[38;5;241;43m.\u001B[39;49m\u001B[43msleep\u001B[49m\u001B[43m(\u001B[49m\u001B[38;5;28;43mself\u001B[39;49m\u001B[38;5;241;43m.\u001B[39;49m\u001B[43m_poll\u001B[49m\u001B[43m)\u001B[49m\n\u001B[0;32m    103\u001B[0m \u001B[38;5;28;01mif\u001B[39;00m time\u001B[38;5;241m.\u001B[39mmonotonic() \u001B[38;5;241m>\u001B[39m end_time:\n\u001B[0;32m    104\u001B[0m     \u001B[38;5;28;01mbreak\u001B[39;00m\n",
      "\u001B[1;31mKeyboardInterrupt\u001B[0m: "
     ]
    }
   ],
   "execution_count": 7
  },
  {
   "metadata": {
    "ExecuteTime": {
     "end_time": "2024-05-11T12:59:56.326613Z",
     "start_time": "2024-05-11T12:59:45.363424Z"
    }
   },
   "cell_type": "code",
   "source": [
    "df = pd.read_excel('E:/ggq的文件/比赛/24统计建模/regress/e东方财富概念列表.xlsx')\n",
    "print(df.head())"
   ],
   "id": "3f976b4ac173577d",
   "outputs": [
    {
     "name": "stdout",
     "output_type": "stream",
     "text": [
      "   排名                                        板块名称_链接     板块名称  是否政策内容  \\\n",
      "0   1  https://quote.eastmoney.com/unify/r/90.BK0866      人造肉       0   \n",
      "1   2  https://quote.eastmoney.com/unify/r/90.BK0822     租售同权       0   \n",
      "2   3  https://quote.eastmoney.com/unify/r/90.BK1024     绿色电力       1   \n",
      "3   4  https://quote.eastmoney.com/unify/r/90.BK1003     抽水蓄能       0   \n",
      "4   5  https://quote.eastmoney.com/unify/r/90.BK0992  REITs概念       1   \n",
      "\n",
      "                                      相关链接_链接 相关链接  \\\n",
      "0  http://guba.eastmoney.com/list,BK0866.html   股吧   \n",
      "1  http://guba.eastmoney.com/list,BK0822.html   股吧   \n",
      "2  http://guba.eastmoney.com/list,BK1024.html   股吧   \n",
      "3  http://guba.eastmoney.com/list,BK1003.html   股吧   \n",
      "4  http://guba.eastmoney.com/list,BK0992.html   股吧   \n",
      "\n",
      "                                     相关链接_链接1 相关链接2  \\\n",
      "0  http://data.eastmoney.com/bkzj/BK0866.html   资金流   \n",
      "1  http://data.eastmoney.com/bkzj/BK0822.html   资金流   \n",
      "2  http://data.eastmoney.com/bkzj/BK1024.html   资金流   \n",
      "3  http://data.eastmoney.com/bkzj/BK1003.html   资金流   \n",
      "4  http://data.eastmoney.com/bkzj/BK0992.html   资金流   \n",
      "\n",
      "                                       相关链接_链接3 相关链接4      最新价    涨跌额    涨跌幅  \\\n",
      "0  http://data.eastmoney.com/report/0866yb.html    研报   935.75  49.03  5.53%   \n",
      "1  http://data.eastmoney.com/report/0822yb.html    研报   611.07  23.90  4.07%   \n",
      "2  http://data.eastmoney.com/report/1024yb.html    研报   953.53  16.82  1.80%   \n",
      "3  http://data.eastmoney.com/report/1003yb.html    研报  1139.63  15.60  1.39%   \n",
      "4  http://data.eastmoney.com/report/0992yb.html    研报   667.80   8.27  1.25%   \n",
      "\n",
      "         总市值    换手率  上涨家数  下跌家数                                       领涨股票_链接  \\\n",
      "0   1753.93亿  4.23%    15     2  https://quote.eastmoney.com/unify/r/0.002481   \n",
      "1   4153.09亿  4.54%    16     2  https://quote.eastmoney.com/unify/r/0.002244   \n",
      "2  48493.98亿  1.26%    95    28  https://quote.eastmoney.com/unify/r/1.600505   \n",
      "3   9120.68亿  1.13%    23     7  https://quote.eastmoney.com/unify/r/1.688676   \n",
      "4   7974.57亿  2.53%    16     7  https://quote.eastmoney.com/unify/r/0.001979   \n",
      "\n",
      "   领涨股票    涨跌幅5  \n",
      "0  双塔食品  10.09%  \n",
      "1  滨江集团  10.01%  \n",
      "2  西昌电力  10.02%  \n",
      "3  金盘科技   7.07%  \n",
      "4  招商蛇口   9.97%  \n"
     ]
    }
   ],
   "execution_count": 8
  },
  {
   "metadata": {
    "ExecuteTime": {
     "end_time": "2024-05-11T13:01:36.985987Z",
     "start_time": "2024-05-11T13:01:36.976300Z"
    }
   },
   "cell_type": "code",
   "source": [
    "df = df[df['是否政策内容'] == 1]\n",
    "df = df[['相关链接_链接1', '板块名称']]\n",
    "print(df.head())"
   ],
   "id": "ece0160d000781d0",
   "outputs": [
    {
     "name": "stdout",
     "output_type": "stream",
     "text": [
      "                                      相关链接_链接1     板块名称\n",
      "2   http://data.eastmoney.com/bkzj/BK1024.html     绿色电力\n",
      "4   http://data.eastmoney.com/bkzj/BK0992.html  REITs概念\n",
      "5   http://data.eastmoney.com/bkzj/BK0958.html     虚拟电厂\n",
      "9   http://data.eastmoney.com/bkzj/BK1096.html   光伏高速公路\n",
      "10  http://data.eastmoney.com/bkzj/BK1087.html   超超临界发电\n"
     ]
    }
   ],
   "execution_count": 9
  },
  {
   "metadata": {
    "ExecuteTime": {
     "end_time": "2024-05-11T13:02:05.356692Z",
     "start_time": "2024-05-11T13:02:05.313310Z"
    }
   },
   "cell_type": "code",
   "source": "df.to_excel('E:/ggq的文件/比赛/24统计建模/regress/e东方财富概念列表数据中心.xlsx', index=False)",
   "id": "d96fffe4d51c33d7",
   "outputs": [],
   "execution_count": 10
  },
  {
   "metadata": {},
   "cell_type": "code",
   "outputs": [],
   "execution_count": null,
   "source": "",
   "id": "a2d47bba83ac58f"
  }
 ],
 "metadata": {
  "kernelspec": {
   "display_name": "Python 3",
   "language": "python",
   "name": "python3"
  },
  "language_info": {
   "codemirror_mode": {
    "name": "ipython",
    "version": 2
   },
   "file_extension": ".py",
   "mimetype": "text/x-python",
   "name": "python",
   "nbconvert_exporter": "python",
   "pygments_lexer": "ipython2",
   "version": "2.7.6"
  }
 },
 "nbformat": 4,
 "nbformat_minor": 5
}
