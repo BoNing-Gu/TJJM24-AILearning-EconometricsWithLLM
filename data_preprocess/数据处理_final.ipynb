{
 "cells": [
  {
   "metadata": {
    "ExecuteTime": {
     "end_time": "2024-05-12T04:14:57.540897Z",
     "start_time": "2024-05-12T04:14:54.829244Z"
    }
   },
   "cell_type": "code",
   "source": [
    "import pandas as pd\n",
    "import numpy as np\n",
    "# 设置工作目录\n",
    "import os\n",
    "address = r'E:\\ggq的文件\\比赛\\24统计建模'\n",
    "os.chdir(address)"
   ],
   "id": "407be998de70ff64",
   "outputs": [],
   "execution_count": 1
  },
  {
   "metadata": {},
   "cell_type": "markdown",
   "source": [
    "## data文件夹项下数据整理  \n",
    "data  \n",
    "a：证券交易所提供的原始公司列表  \n",
    "│  a上交所主板600_.xlsx  \n",
    "│  a上交所科创板688_.xlsx  \n",
    "│  a深交所主板000_.xlsx  \n",
    "│  a深交所创业板300_.xlsx  \n",
    "│  a上市公司地区分类列表_上海证券交易所.xlsx  \n",
    "│  a上市公司行业分类列表_上海证券交易所.xlsx  \n",
    "b：经过整理后的公司列表，包含所属省份和行业  \n",
    "│  b上交所主板.xlsx  \n",
    "│  b上交所科创板.xlsx  \n",
    "│  b深交所主板.xlsx  \n",
    "│  b深交所创业板.xlsx  \n",
    "c：新浪财经年度报告链接（不全）  \n",
    "│  c上交所主板_年报链接.xlsx  \n",
    "│  c上交所科创板_年报链接.xlsx   \n",
    "│  c深交所主板_年报链接.xlsx   \n",
    "│  c深交所创业板_年报链接.xlsx  \n",
    "d：新浪财经年度报告链接（所有可获得）  \n",
    "│  d上交所主板_年报链接全.xlsx  \n",
    "│  d上交所科创板_年报链接全.xlsx  \n",
    "│  d深交所主板_年报链接全.xlsx  \n",
    "│  d深交所创业板_年报链接全.xlsx  \n",
    "e：最终筛选后的公司列表（drop ST金融科研）  \n",
    "│  final_公司年报列表_dropST金融科研_去不平衡_28483条_1994家企业.xlsx  \n",
    "│  final_公司年报列表_dropST金融科研_去不平衡_29051条_2033家企业.xlsx  \n",
    "f：GPT打分结果  \n",
    "│  gptscore_2022.xlsx  \n",
    "z：其他  \n",
    "|  zCSMAR企业数字化转型库.xlsx"
   ],
   "id": "14b258d2c4bca704"
  },
  {
   "metadata": {
    "ExecuteTime": {
     "end_time": "2024-05-12T04:14:57.549638Z",
     "start_time": "2024-05-12T04:14:57.542240Z"
    }
   },
   "cell_type": "code",
   "source": [
    "def read_xlsx(address, symbol, year):\n",
    "    data = pd.read_excel(address, dtype={symbol: str})\n",
    "    data.columns = data.columns.str.strip()   # 删除空格\n",
    "    data[symbol] = data[symbol].astype(str).str.extract(r'(\\d+)')   # 删除标点和英文字符\n",
    "    data[symbol] = data[symbol].astype(str).str.zfill(6)    # 规范股票代码格式\n",
    "    data = data.rename(columns={symbol: '股票代码'})\n",
    "    # 如果year非空\n",
    "    if year:\n",
    "        data = data.rename(columns={year: '年份'})\n",
    "    print(\"形状：\", data.shape)\n",
    "    print(\"列名：\", data.columns)\n",
    "    print(\"包含公司数量：\", len(data['股票代码'].unique()))\n",
    "    return data\n",
    "\n",
    "def print_df(df):\n",
    "    print(\"形状：\", df.shape)\n",
    "    print(\"列名：\", df.columns)\n",
    "    print(\"包含公司数量：\", len(df['股票代码'].unique()))\n",
    "    \n",
    "def print_col(df):\n",
    "    for column in df.columns:\n",
    "        print(column, df[column].dtype)\n",
    "        \n",
    "def missing_values(df):\n",
    "    grouped = df.groupby('股票代码')\n",
    "    missing_values_count = grouped.apply(lambda x: x.isnull().sum())\n",
    "    missing_values = missing_values_count.groupby(level=0).sum()\n",
    "    print(missing_values)\n",
    "    return missing_values\n",
    "\n",
    "def check_list(df_1, col_1, df_2, col_2):\n",
    "    \"\"\"\n",
    "    检查DataFrame df_1 中指定列 col_1 的每个唯一值是否存在于 DataFrame df_2 的指定列 col_2 中。\n",
    "    \"\"\"\n",
    "    unique_values = df_1[col_1].unique()\n",
    "    reference_values = df_2[col_2].unique()\n",
    "    missing_values = list(set(unique_values) - set(reference_values))\n",
    "    return missing_values"
   ],
   "id": "d931a74096807e6c",
   "outputs": [],
   "execution_count": 2
  },
  {
   "metadata": {
    "ExecuteTime": {
     "end_time": "2024-05-10T05:52:37.114710Z",
     "start_time": "2024-05-10T05:52:36.232779Z"
    }
   },
   "cell_type": "code",
   "source": [
    "# 完整上市公司列表\n",
    "all_company_df = pd.DataFrame()\n",
    "all_company_file_list = ['b上交所主板.xlsx', 'b上交所科创板.xlsx', 'b深交所主板.xlsx', 'b深交所创业板.xlsx']  \n",
    "for i in range (len(all_company_file_list)):\n",
    "    df_address = 'data/'+all_company_file_list[i]\n",
    "    df = read_xlsx(df_address, 'A股代码', None)\n",
    "    all_company_df = pd.concat([all_company_df, df], axis=0)\n",
    "print_df(all_company_df)"
   ],
   "id": "cd24cb91b07beb26",
   "outputs": [
    {
     "name": "stdout",
     "output_type": "stream",
     "text": [
      "形状： (1696, 7)\n",
      "列名： Index(['股票代码', 'A股简称', '英文名称', 'A股上市日期', '省份', '所属行业', '板块'], dtype='object')\n",
      "包含公司数量： 1696\n",
      "形状： (571, 7)\n",
      "列名： Index(['股票代码', 'A股简称', '英文名称', 'A股上市日期', '省份', '所属行业', '板块'], dtype='object')\n",
      "包含公司数量： 571\n",
      "形状： (1503, 9)\n",
      "列名： Index(['股票代码', 'A股简称', '英文名称', 'A股上市日期', '地区', '省份', '城市', '所属行业', '板块'], dtype='object')\n",
      "包含公司数量： 1503\n",
      "形状： (1343, 9)\n",
      "列名： Index(['股票代码', 'A股简称', '英文名称', 'A股上市日期', '地区', '省份', '城市', '所属行业', '板块'], dtype='object')\n",
      "包含公司数量： 1343\n",
      "形状： (5113, 9)\n",
      "列名： Index(['股票代码', 'A股简称', '英文名称', 'A股上市日期', '省份', '所属行业', '板块', '地区', '城市'], dtype='object')\n",
      "包含公司数量： 5113\n"
     ]
    }
   ],
   "execution_count": 3
  },
  {
   "metadata": {},
   "cell_type": "markdown",
   "source": [
    "## regress文件夹项下数据整理\n",
    "a：绿色生产率和AI词频  \n",
    "│  a人工智能词频AIDIC.xlsx  \n",
    "│  a绿色生产率.xlsx  \n",
    "b：控制变量1  \n",
    "│  b控制变量-人员构成.xlsx  \n",
    "│  b控制变量-企业创新.xlsx  \n",
    "│  b控制变量-企业绿色专利.xlsx  \n",
    "│  b控制变量-企业财务信息.xlsx   \n",
    "│  b控制变量-常用.xlsx  \n",
    "│  b控制变量-环保投资营收比.xlsx  \n",
    "│  b控制变量-环保投资资产比.xlsx  \n",
    "│  b控制变量-融资约束SA指数.xlsx  \n",
    "c：控制变量2  \n",
    "│  c控制变量-专利与创新效率.xlsx  \n",
    "│  c控制变量-企业创新投入.xlsx  \n",
    "│  c控制变量-企业创新质量.xlsx  \n",
    "│  c控制变量-平均创新质量.xlsx  \n",
    "│  c控制变量-持续绿色创新水平.xlsx  \n",
    "│  c控制变量-整体创新质量.xlsx  \n",
    "│  c控制变量-绿色创新效率.xlsx  \n",
    "│  c控制变量-绿色科技研发成果转化效率.xlsx  \n",
    "│  c控制变量-绿色管理创新.xlsx  "
   ],
   "id": "86081b4b5fc00286"
  },
  {
   "metadata": {
    "ExecuteTime": {
     "end_time": "2024-05-10T05:53:34.652873Z",
     "start_time": "2024-05-10T05:52:37.115746Z"
    }
   },
   "cell_type": "code",
   "source": [
    "# 常用控制变量\n",
    "df_address = 'regress/b控制变量-常用.xlsx '\n",
    "control_regular = read_xlsx(df_address, '股票代码', '年份')\n",
    "columns = [\n",
    "    \"股票代码\", \"年份\", \"ShortName\", \"当年是否ST或PT\", \"样本区间内是否ST或PT\",\t\"样本区间内是否退市\", \"Province\", \"City\",\n",
    "    \"Size\", \"Lev\", \"Cashflow\", \"FIXED\", \"Growth\", \"Board\", \"Dual\", \"Top1\", \"TobinQ\",\n",
    "    \"FirmAge\", \"Employee\", \"REC\", \"INV\", \"Intangible\", \"AssetGrowth\", \"NetProfitGrowth\",\n",
    "    \"ITR\", \"CAP\", \"Invest1\", \"Indep\", \"Balance1\", \"Seperate\", \"BM\", \"PB\", \"Ofee\",\n",
    "    \"Mfee\", \"ATO\", \"SA\", \"WW\", \"FC\", \"KZ\", \"East\", \"West\", \"Mid\", \"HighTech_1\",\n",
    "    \"HighTech_2\", \"HighTech_3\", \"HighTech_4\", \"HighTech_5\", \"Pollute_1\", \"Pollute_2\",\n",
    "    \"Pollute_3\", \"SOE\", \"Loss\"\n",
    "]\n",
    "control_regular = control_regular[columns]"
   ],
   "id": "d880b80a42ee27b",
   "outputs": [
    {
     "name": "stdout",
     "output_type": "stream",
     "text": [
      "形状： (57522, 123)\n",
      "列名： Index(['股票代码', '年份', 'ShortName', '当年是否ST或PT', '样本区间内是否ST或PT', '样本区间内是否退市',\n",
      "       '金融业', '制造业', '沪深上市', '北京上市',\n",
      "       ...\n",
      "       'HighTech_2', 'HighTech_3', 'HighTech_4', 'HighTech_5', 'Pollute_1',\n",
      "       'Pollute_2', 'Pollute_3', '劳动密集型', '技术密集型', '资产密集型'],\n",
      "      dtype='object', length=123)\n",
      "包含公司数量： 5338\n"
     ]
    }
   ],
   "execution_count": 4
  },
  {
   "metadata": {
    "ExecuteTime": {
     "end_time": "2024-05-10T05:53:45.370889Z",
     "start_time": "2024-05-10T05:53:34.655378Z"
    }
   },
   "cell_type": "code",
   "source": [
    "# 绿色控制变量\n",
    "control_green = control_regular[['股票代码', '年份']].copy()\n",
    "# 整体创新质量LnCit1, 平均创新质量LnCit2, 绿色创新效率GreenInnov, 企业绿色科技研发效率grd和绿色科技成果转化效率gcon, 创新投入持续性IIP和创新产出持续性OIP\n",
    "control_green_file_list = ['c控制变量-整体创新质量.xlsx', 'c控制变量-平均创新质量.xlsx', 'c控制变量-绿色创新效率.xlsx', 'c控制变量-绿色科技研发成果转化效率.xlsx', 'c控制变量-持续绿色创新水平.xlsx  ']\n",
    "for i in range (len(control_green_file_list)):\n",
    "    df_address = 'regress/'+control_green_file_list[i]\n",
    "    df = read_xlsx(df_address, '股票代码', '年份')\n",
    "    control_green = pd.merge(control_green, df, on=['股票代码', '年份'], how='left')\n",
    "print_df(control_green)"
   ],
   "id": "32945e3c260816b1",
   "outputs": [
    {
     "name": "stdout",
     "output_type": "stream",
     "text": [
      "形状： (36634, 3)\n",
      "列名： Index(['股票代码', '年份', 'LnCit1'], dtype='object')\n",
      "包含公司数量： 3961\n",
      "形状： (36634, 3)\n",
      "列名： Index(['股票代码', '年份', 'LnCit2'], dtype='object')\n",
      "包含公司数量： 3961\n",
      "形状： (31039, 3)\n",
      "列名： Index(['年份', '股票代码', 'GreenInnov'], dtype='object')\n",
      "包含公司数量： 4464\n",
      "形状： (46408, 4)\n",
      "列名： Index(['股票代码', '年份', 'grd', 'gcon'], dtype='object')\n",
      "包含公司数量： 4581\n",
      "形状： (59989, 4)\n",
      "列名： Index(['年份', '股票代码', 'IIP', 'OIP'], dtype='object')\n",
      "包含公司数量： 5299\n",
      "形状： (57522, 9)\n",
      "列名： Index(['股票代码', '年份', 'LnCit1', 'LnCit2', 'GreenInnov', 'grd', 'gcon', 'IIP',\n",
      "       'OIP'],\n",
      "      dtype='object')\n",
      "包含公司数量： 5338\n"
     ]
    }
   ],
   "execution_count": 5
  },
  {
   "metadata": {
    "ExecuteTime": {
     "end_time": "2024-05-10T05:53:50.853353Z",
     "start_time": "2024-05-10T05:53:45.371888Z"
    }
   },
   "cell_type": "code",
   "source": [
    "gtfp = read_xlsx('regress/a绿色生产率.xlsx', '股票代码', '年份')\n",
    "aidic = read_xlsx('regress/a人工智能词频AIDIC.xlsx', '股票代码', '年份')\n",
    "aigpt = read_xlsx('data/gptscore_2022.xlsx', '股票代码', '年份')"
   ],
   "id": "36e0ef9c0b3d56f8",
   "outputs": [
    {
     "name": "stdout",
     "output_type": "stream",
     "text": [
      "形状： (46419, 5)\n",
      "列名： Index(['股票代码', '年份', '企业绿色全要素生产率', '绿色技术效率变化指数', '绿色技术进步变化指数'], dtype='object')\n",
      "包含公司数量： 4581\n",
      "形状： (55354, 5)\n",
      "列名： Index(['股票代码', '年份', '全文-文本总长度', '仅中英文-文本总长度', 'AIDIC'], dtype='object')\n",
      "包含公司数量： 5155\n",
      "形状： (1994, 7)\n",
      "列名： Index(['AIGPT', '股票代码', '年份', 'A股简称', '所属行业', '板块', '省份'], dtype='object')\n",
      "包含公司数量： 1994\n"
     ]
    }
   ],
   "execution_count": 6
  },
  {
   "metadata": {
    "ExecuteTime": {
     "end_time": "2024-05-10T05:53:50.876906Z",
     "start_time": "2024-05-10T05:53:50.855214Z"
    }
   },
   "cell_type": "code",
   "source": [
    "gtfp = gtfp[['股票代码', '年份', '企业绿色全要素生产率']]\n",
    "gtfp = gtfp.rename(columns={'企业绿色全要素生产率': 'GTFP'})\n",
    "aidic = aidic[['股票代码', '年份', 'AIDIC']]\n",
    "aidic['AIDIC_累加后log'] = aidic.groupby('股票代码')['AIDIC'].cumsum()\n",
    "aidic['AIDIC_累加后log'] = np.log(aidic['AIDIC_累加后log'] + 1)\n",
    "aigpt = aigpt[['股票代码', '年份', 'AIGPT']]"
   ],
   "id": "7a40c5b18c843dd0",
   "outputs": [],
   "execution_count": 7
  },
  {
   "metadata": {
    "ExecuteTime": {
     "end_time": "2024-05-10T05:53:51.059542Z",
     "start_time": "2024-05-10T05:53:50.877906Z"
    }
   },
   "cell_type": "code",
   "source": [
    "control_df = pd.merge(control_regular, control_green, on=['股票代码', '年份'], how='left')\n",
    "explain_df = pd.merge(control_df, gtfp, on=['股票代码', '年份'], how='left')\n",
    "explain_df = pd.merge(explain_df, aidic, on=['股票代码', '年份'], how='left')\n",
    "explain_df = pd.merge(explain_df, aigpt, on=['股票代码', '年份'], how='left')\n",
    "all_df = pd.merge(explain_df, all_company_df, on=['股票代码'], how='left')\n",
    "print_df(all_df)"
   ],
   "id": "11a8fc84c31fa707",
   "outputs": [
    {
     "name": "stdout",
     "output_type": "stream",
     "text": [
      "形状： (57522, 71)\n",
      "列名： Index(['股票代码', '年份', 'ShortName', '当年是否ST或PT', '样本区间内是否ST或PT', '样本区间内是否退市',\n",
      "       'Province', 'City', 'Size', 'Lev', 'Cashflow', 'FIXED', 'Growth',\n",
      "       'Board', 'Dual', 'Top1', 'TobinQ', 'FirmAge', 'Employee', 'REC', 'INV',\n",
      "       'Intangible', 'AssetGrowth', 'NetProfitGrowth', 'ITR', 'CAP', 'Invest1',\n",
      "       'Indep', 'Balance1', 'Seperate', 'BM', 'PB', 'Ofee', 'Mfee', 'ATO',\n",
      "       'SA', 'WW', 'FC', 'KZ', 'East', 'West', 'Mid', 'HighTech_1',\n",
      "       'HighTech_2', 'HighTech_3', 'HighTech_4', 'HighTech_5', 'Pollute_1',\n",
      "       'Pollute_2', 'Pollute_3', 'SOE', 'Loss', 'LnCit1', 'LnCit2',\n",
      "       'GreenInnov', 'grd', 'gcon', 'IIP', 'OIP', 'GTFP', 'AIDIC',\n",
      "       'AIDIC_累加后log', 'AIGPT', 'A股简称', '英文名称', 'A股上市日期', '省份', '所属行业', '板块',\n",
      "       '地区', '城市'],\n",
      "      dtype='object')\n",
      "包含公司数量： 5338\n"
     ]
    }
   ],
   "execution_count": 8
  },
  {
   "metadata": {
    "ExecuteTime": {
     "end_time": "2024-05-10T05:53:51.064346Z",
     "start_time": "2024-05-10T05:53:51.060905Z"
    }
   },
   "cell_type": "code",
   "source": "ID_list = aigpt['股票代码'].unique().tolist()",
   "id": "939d4adfc3c0a02f",
   "outputs": [],
   "execution_count": 9
  },
  {
   "metadata": {
    "ExecuteTime": {
     "end_time": "2024-05-10T05:53:51.080616Z",
     "start_time": "2024-05-10T05:53:51.066462Z"
    }
   },
   "cell_type": "code",
   "source": [
    "# 打印filtered_df各列数据类型\n",
    "print_col(all_df)"
   ],
   "id": "82b79603e602297",
   "outputs": [
    {
     "name": "stdout",
     "output_type": "stream",
     "text": [
      "股票代码 object\n",
      "年份 int64\n",
      "ShortName object\n",
      "当年是否ST或PT int64\n",
      "样本区间内是否ST或PT int64\n",
      "样本区间内是否退市 int64\n",
      "Province object\n",
      "City object\n",
      "Size float64\n",
      "Lev float64\n",
      "Cashflow float64\n",
      "FIXED float64\n",
      "Growth float64\n",
      "Board float64\n",
      "Dual int64\n",
      "Top1 float64\n",
      "TobinQ float64\n",
      "FirmAge float64\n",
      "Employee float64\n",
      "REC float64\n",
      "INV float64\n",
      "Intangible float64\n",
      "AssetGrowth float64\n",
      "NetProfitGrowth float64\n",
      "ITR float64\n",
      "CAP float64\n",
      "Invest1 float64\n",
      "Indep float64\n",
      "Balance1 float64\n",
      "Seperate float64\n",
      "BM float64\n",
      "PB float64\n",
      "Ofee float64\n",
      "Mfee float64\n",
      "ATO float64\n",
      "SA float64\n",
      "WW float64\n",
      "FC float64\n",
      "KZ float64\n",
      "East float64\n",
      "West float64\n",
      "Mid float64\n",
      "HighTech_1 int64\n",
      "HighTech_2 int64\n",
      "HighTech_3 int64\n",
      "HighTech_4 int64\n",
      "HighTech_5 int64\n",
      "Pollute_1 int64\n",
      "Pollute_2 int64\n",
      "Pollute_3 int64\n",
      "SOE float64\n",
      "Loss int64\n",
      "LnCit1 float64\n",
      "LnCit2 float64\n",
      "GreenInnov float64\n",
      "grd float64\n",
      "gcon float64\n",
      "IIP float64\n",
      "OIP float64\n",
      "GTFP float64\n",
      "AIDIC float64\n",
      "AIDIC_累加后log float64\n",
      "AIGPT float64\n",
      "A股简称 object\n",
      "英文名称 object\n",
      "A股上市日期 object\n",
      "省份 object\n",
      "所属行业 object\n",
      "板块 object\n",
      "地区 object\n",
      "城市 object\n"
     ]
    }
   ],
   "execution_count": 10
  },
  {
   "metadata": {
    "ExecuteTime": {
     "end_time": "2024-05-10T05:53:51.118141Z",
     "start_time": "2024-05-10T05:53:51.081660Z"
    }
   },
   "cell_type": "code",
   "source": [
    "filtered_df = all_df[all_df['股票代码'].isin(ID_list)]\n",
    "filtered_df = filtered_df[(filtered_df['年份'] >= 2007) & (filtered_df['年份'] <= 2022)]\n",
    "print_df(filtered_df)"
   ],
   "id": "e62aa4d1854de738",
   "outputs": [
    {
     "name": "stdout",
     "output_type": "stream",
     "text": [
      "形状： (29489, 71)\n",
      "列名： Index(['股票代码', '年份', 'ShortName', '当年是否ST或PT', '样本区间内是否ST或PT', '样本区间内是否退市',\n",
      "       'Province', 'City', 'Size', 'Lev', 'Cashflow', 'FIXED', 'Growth',\n",
      "       'Board', 'Dual', 'Top1', 'TobinQ', 'FirmAge', 'Employee', 'REC', 'INV',\n",
      "       'Intangible', 'AssetGrowth', 'NetProfitGrowth', 'ITR', 'CAP', 'Invest1',\n",
      "       'Indep', 'Balance1', 'Seperate', 'BM', 'PB', 'Ofee', 'Mfee', 'ATO',\n",
      "       'SA', 'WW', 'FC', 'KZ', 'East', 'West', 'Mid', 'HighTech_1',\n",
      "       'HighTech_2', 'HighTech_3', 'HighTech_4', 'HighTech_5', 'Pollute_1',\n",
      "       'Pollute_2', 'Pollute_3', 'SOE', 'Loss', 'LnCit1', 'LnCit2',\n",
      "       'GreenInnov', 'grd', 'gcon', 'IIP', 'OIP', 'GTFP', 'AIDIC',\n",
      "       'AIDIC_累加后log', 'AIGPT', 'A股简称', '英文名称', 'A股上市日期', '省份', '所属行业', '板块',\n",
      "       '地区', '城市'],\n",
      "      dtype='object')\n",
      "包含公司数量： 1994\n"
     ]
    }
   ],
   "execution_count": 11
  },
  {
   "metadata": {
    "ExecuteTime": {
     "end_time": "2024-05-10T05:53:51.142091Z",
     "start_time": "2024-05-10T05:53:51.119340Z"
    }
   },
   "cell_type": "code",
   "source": [
    "filtered_df = filtered_df.drop(columns=['当年是否ST或PT', '样本区间内是否ST或PT', '样本区间内是否退市', '省份', '地区', '城市', 'A股简称', '英文名称'])\n",
    "filtered_df = filtered_df.rename(columns={'Province': '省份', 'City': '城市', 'ShortName': 'A股简称'})"
   ],
   "id": "26abe0d822cae6c8",
   "outputs": [],
   "execution_count": 12
  },
  {
   "metadata": {
    "ExecuteTime": {
     "end_time": "2024-05-10T05:54:15.695069Z",
     "start_time": "2024-05-10T05:54:15.293934Z"
    }
   },
   "cell_type": "code",
   "source": [
    "# AI_{i,t}=AIDIC_{i,t}\\ast\\frac{AIGPT_{i,2022}}{AIDIC_{i,2022}}\n",
    "# 对于股票代码分组，计算每一组2022年的AIGPT除以AIDIC，然后将这个值乘到AIDIC上，得到新列AI\n",
    "ratios = filtered_df[filtered_df['年份'] == 2022].groupby('股票代码').apply(lambda x: x['AIGPT'].iloc[0] / x['AIDIC_累加后log'].iloc[0])\n",
    "filtered_df['AI'] = filtered_df.apply(lambda x: x['AIDIC_累加后log'] * ratios[x['股票代码']], axis=1)\n",
    "# filtered_df['AI'] = filtered_df['AI'].fillna(0)"
   ],
   "id": "8062ad8bb516e868",
   "outputs": [
    {
     "name": "stderr",
     "output_type": "stream",
     "text": [
      "C:\\Users\\25105\\AppData\\Local\\Temp\\ipykernel_21552\\3996110076.py:3: RuntimeWarning: divide by zero encountered in scalar divide\n",
      "  ratios = filtered_df[filtered_df['年份'] == 2022].groupby('股票代码').apply(lambda x: x['AIGPT'].iloc[0] / x['AIDIC_累加后log'].iloc[0])\n",
      "C:\\Users\\25105\\AppData\\Local\\Temp\\ipykernel_21552\\3996110076.py:3: DeprecationWarning: DataFrameGroupBy.apply operated on the grouping columns. This behavior is deprecated, and in a future version of pandas the grouping columns will be excluded from the operation. Either pass `include_groups=False` to exclude the groupings or explicitly select the grouping columns after groupby to silence this warning.\n",
      "  ratios = filtered_df[filtered_df['年份'] == 2022].groupby('股票代码').apply(lambda x: x['AIGPT'].iloc[0] / x['AIDIC_累加后log'].iloc[0])\n",
      "C:\\Users\\25105\\AppData\\Local\\Temp\\ipykernel_21552\\3996110076.py:4: RuntimeWarning: invalid value encountered in scalar multiply\n",
      "  filtered_df['AI'] = filtered_df.apply(lambda x: x['AIDIC_累加后log'] * ratios[x['股票代码']], axis=1)\n"
     ]
    }
   ],
   "execution_count": 13
  },
  {
   "metadata": {
    "ExecuteTime": {
     "end_time": "2024-05-10T05:54:30.478301Z",
     "start_time": "2024-05-10T05:54:30.465710Z"
    }
   },
   "cell_type": "code",
   "source": [
    "# 重排列的顺序\n",
    "columns = ['股票代码', '年份', 'A股简称', 'A股上市日期', '省份', '城市', '所属行业', '板块', 'GTFP', 'AIDIC', 'AIDIC_累加后log', 'AIGPT', 'AI',\n",
    "       'East', 'West', 'Mid', \n",
    "       'LnCit1', 'LnCit2', 'GreenInnov', 'grd', 'gcon', 'IIP', 'OIP',\n",
    "       'Size', 'Lev', 'Cashflow', 'FIXED', 'Growth',\n",
    "       'Board', 'Dual', 'Top1', 'TobinQ', 'FirmAge', 'Employee', 'REC', 'INV',\n",
    "       'Intangible', 'AssetGrowth', 'NetProfitGrowth', 'ITR', 'CAP', 'Invest1',\n",
    "       'Indep', 'Balance1', 'Seperate', 'BM', 'PB', 'Ofee', 'Mfee', 'ATO',\n",
    "       'SA', 'WW', 'FC', 'KZ',  'HighTech_1', 'HighTech_2', 'HighTech_3', 'HighTech_4', 'HighTech_5', \n",
    "       'Pollute_1', 'Pollute_2', 'Pollute_3', 'SOE', 'Loss']\n",
    "filtered_df = filtered_df[columns]"
   ],
   "id": "9433f25372e79584",
   "outputs": [],
   "execution_count": 14
  },
  {
   "metadata": {
    "ExecuteTime": {
     "end_time": "2024-05-10T05:56:48.654939Z",
     "start_time": "2024-05-10T05:56:48.578723Z"
    }
   },
   "cell_type": "code",
   "source": [
    "# 将nan和inf填充为0\n",
    "filtered_df = filtered_df.replace([np.inf, -np.inf], np.nan)\n",
    "filtered_df = filtered_df.fillna(0)"
   ],
   "id": "2b73aa07db4899db",
   "outputs": [],
   "execution_count": 15
  },
  {
   "metadata": {
    "ExecuteTime": {
     "end_time": "2024-05-10T05:57:56.301609Z",
     "start_time": "2024-05-10T05:57:56.296262Z"
    }
   },
   "cell_type": "code",
   "source": "print_df(filtered_df)",
   "id": "4240d83e6963cba9",
   "outputs": [
    {
     "name": "stdout",
     "output_type": "stream",
     "text": [
      "形状： (29489, 64)\n",
      "列名： Index(['股票代码', '年份', 'A股简称', 'A股上市日期', '省份', '城市', '所属行业', '板块', 'GTFP',\n",
      "       'AIDIC', 'AIDIC_累加后log', 'AIGPT', 'AI', 'East', 'West', 'Mid', 'LnCit1',\n",
      "       'LnCit2', 'GreenInnov', 'grd', 'gcon', 'IIP', 'OIP', 'Size', 'Lev',\n",
      "       'Cashflow', 'FIXED', 'Growth', 'Board', 'Dual', 'Top1', 'TobinQ',\n",
      "       'FirmAge', 'Employee', 'REC', 'INV', 'Intangible', 'AssetGrowth',\n",
      "       'NetProfitGrowth', 'ITR', 'CAP', 'Invest1', 'Indep', 'Balance1',\n",
      "       'Seperate', 'BM', 'PB', 'Ofee', 'Mfee', 'ATO', 'SA', 'WW', 'FC', 'KZ',\n",
      "       'HighTech_1', 'HighTech_2', 'HighTech_3', 'HighTech_4', 'HighTech_5',\n",
      "       'Pollute_1', 'Pollute_2', 'Pollute_3', 'SOE', 'Loss'],\n",
      "      dtype='object')\n",
      "包含公司数量： 1994\n"
     ]
    }
   ],
   "execution_count": 17
  },
  {
   "metadata": {
    "ExecuteTime": {
     "end_time": "2024-05-10T06:00:27.722281Z",
     "start_time": "2024-05-10T06:00:23.692939Z"
    }
   },
   "cell_type": "code",
   "source": [
    "# 1 99缩尾处理\n",
    "from scipy.stats.mstats import winsorize\n",
    "df_list=['GTFP', 'AIDIC', 'AIDIC_累加后log', 'AIGPT', 'AI', \n",
    "       'East', 'West', 'Mid', 'LnCit1', 'LnCit2', 'GreenInnov', 'grd', 'gcon', 'IIP', 'OIP', 'Size', 'Lev',\n",
    "       'Cashflow', 'FIXED', 'Growth', 'Board', 'Dual', 'Top1', 'TobinQ',\n",
    "       'FirmAge', 'Employee', 'REC', 'INV', 'Intangible', 'AssetGrowth',\n",
    "       'NetProfitGrowth', 'ITR', 'CAP', 'Invest1', 'Indep', 'Balance1',\n",
    "       'Seperate', 'BM', 'PB', 'Ofee', 'Mfee', 'ATO', 'SA', 'WW', 'FC', 'KZ',\n",
    "       'HighTech_1', 'HighTech_2', 'HighTech_3', 'HighTech_4', 'HighTech_5',\n",
    "       'Pollute_1', 'Pollute_2', 'Pollute_3', 'SOE', 'Loss']#需要进行缩尾的列名\n",
    "winsorize_df = filtered_df.copy()\n",
    "for i in df_list:\n",
    "    winsorize_df[i]=winsorize(winsorize_df[i],limits=[0.01, 0.01])"
   ],
   "id": "64c409d627531011",
   "outputs": [],
   "execution_count": 18
  },
  {
   "metadata": {
    "ExecuteTime": {
     "end_time": "2024-05-10T06:00:51.801841Z",
     "start_time": "2024-05-10T06:00:48.525505Z"
    }
   },
   "cell_type": "code",
   "source": "missing_df = missing_values(winsorize_df)",
   "id": "8fc3d67af4d879a2",
   "outputs": [
    {
     "name": "stdout",
     "output_type": "stream",
     "text": [
      "        股票代码  年份  A股简称  A股上市日期  省份  城市  所属行业  板块  GTFP  AIDIC  ...  \\\n",
      "股票代码                                                           ...   \n",
      "000002     0   0     0       0   0   0     0   0     0      0  ...   \n",
      "000006     0   0     0       0   0   0     0   0     0      0  ...   \n",
      "000008     0   0     0       0   0   0     0   0     0      0  ...   \n",
      "000010     0   0     0       0   0   0     0   0     0      0  ...   \n",
      "000011     0   0     0       0   0   0     0   0     0      0  ...   \n",
      "...      ...  ..   ...     ...  ..  ..   ...  ..   ...    ...  ...   \n",
      "603333     0   0     0       0   0   0     0   0     0      0  ...   \n",
      "603366     0   0     0       0   0   0     0   0     0      0  ...   \n",
      "603399     0   0     0       0   0   0     0   0     0      0  ...   \n",
      "603766     0   0     0       0   0   0     0   0     0      0  ...   \n",
      "603993     0   0     0       0   0   0     0   0     0      0  ...   \n",
      "\n",
      "        HighTech_1  HighTech_2  HighTech_3  HighTech_4  HighTech_5  Pollute_1  \\\n",
      "股票代码                                                                            \n",
      "000002           0           0           0           0           0          0   \n",
      "000006           0           0           0           0           0          0   \n",
      "000008           0           0           0           0           0          0   \n",
      "000010           0           0           0           0           0          0   \n",
      "000011           0           0           0           0           0          0   \n",
      "...            ...         ...         ...         ...         ...        ...   \n",
      "603333           0           0           0           0           0          0   \n",
      "603366           0           0           0           0           0          0   \n",
      "603399           0           0           0           0           0          0   \n",
      "603766           0           0           0           0           0          0   \n",
      "603993           0           0           0           0           0          0   \n",
      "\n",
      "        Pollute_2  Pollute_3  SOE  Loss  \n",
      "股票代码                                     \n",
      "000002          0          0    0     0  \n",
      "000006          0          0    0     0  \n",
      "000008          0          0    0     0  \n",
      "000010          0          0    0     0  \n",
      "000011          0          0    0     0  \n",
      "...           ...        ...  ...   ...  \n",
      "603333          0          0    0     0  \n",
      "603366          0          0    0     0  \n",
      "603399          0          0    0     0  \n",
      "603766          0          0    0     0  \n",
      "603993          0          0    0     0  \n",
      "\n",
      "[1994 rows x 64 columns]\n"
     ]
    },
    {
     "name": "stderr",
     "output_type": "stream",
     "text": [
      "C:\\Users\\25105\\AppData\\Local\\Temp\\ipykernel_21552\\2764837871.py:26: DeprecationWarning: DataFrameGroupBy.apply operated on the grouping columns. This behavior is deprecated, and in a future version of pandas the grouping columns will be excluded from the operation. Either pass `include_groups=False` to exclude the groupings or explicitly select the grouping columns after groupby to silence this warning.\n",
      "  missing_values_count = grouped.apply(lambda x: x.isnull().sum())\n"
     ]
    }
   ],
   "execution_count": 19
  },
  {
   "metadata": {
    "ExecuteTime": {
     "end_time": "2024-05-10T06:01:23.361672Z",
     "start_time": "2024-05-10T06:00:55.927659Z"
    }
   },
   "cell_type": "code",
   "source": [
    "missing_df.to_excel('regress/missing.xlsx', index=True)\n",
    "winsorize_df.to_excel('regress/d实证数据_筛选1994家企业_29489条数据.xlsx', index=False)"
   ],
   "id": "a1028b36a89cf292",
   "outputs": [],
   "execution_count": 20
  },
  {
   "metadata": {},
   "cell_type": "markdown",
   "source": "## 哑变量",
   "id": "ced008b7e50e77f9"
  },
  {
   "metadata": {
    "ExecuteTime": {
     "end_time": "2024-05-11T15:07:55.429345Z",
     "start_time": "2024-05-11T15:07:42.820583Z"
    }
   },
   "cell_type": "code",
   "source": [
    "regress_df = read_xlsx('regress/d实证数据_筛选1994家企业_29489条数据.xlsx', '股票代码', '年份')\n",
    "politics = read_xlsx('regress/e人工智能政策受益.xlsx', '股票代码', None)\n",
    "shichang = pd.read_excel('regress/e地市市场化分割指数.xlsx')\n",
    "print(shichang.columns)\n",
    "gdp = pd.read_excel('regress/e城市GDP.xlsx')\n",
    "print(gdp.columns)"
   ],
   "id": "fbb19cf27bb9fbd2",
   "outputs": [
    {
     "name": "stdout",
     "output_type": "stream",
     "text": [
      "形状： (29489, 64)\n",
      "列名： Index(['股票代码', '年份', 'A股简称', 'A股上市日期', '省份', '城市', '所属行业', '板块', 'GTFP',\n",
      "       'AIDIC', 'AIDIC_累加后log', 'AIGPT', 'AI', 'East', 'West', 'Mid', 'LnCit1',\n",
      "       'LnCit2', 'GreenInnov', 'grd', 'gcon', 'IIP', 'OIP', 'Size', 'Lev',\n",
      "       'Cashflow', 'FIXED', 'Growth', 'Board', 'Dual', 'Top1', 'TobinQ',\n",
      "       'FirmAge', 'Employee', 'REC', 'INV', 'Intangible', 'AssetGrowth',\n",
      "       'NetProfitGrowth', 'ITR', 'CAP', 'Invest1', 'Indep', 'Balance1',\n",
      "       'Seperate', 'BM', 'PB', 'Ofee', 'Mfee', 'ATO', 'SA', 'WW', 'FC', 'KZ',\n",
      "       'HighTech_1', 'HighTech_2', 'HighTech_3', 'HighTech_4', 'HighTech_5',\n",
      "       'Pollute_1', 'Pollute_2', 'Pollute_3', 'SOE', 'Loss'],\n",
      "      dtype='object')\n",
      "包含公司数量： 1994\n",
      "形状： (18658, 22)\n",
      "列名： Index(['序号', '代码_链接', '股票代码', '名称_链接', '名称', '相关_链接', '相关', '相关_链接1', '相关2',\n",
      "       '最新价', '今日涨跌幅', '今日主力净流入', '今日超大单净流入', '今日大单净流入', '今日中单净流入', '今日小单净流入',\n",
      "       '字段', '字段3', '字段4', '字段5', '字段6', '字段22'],\n",
      "      dtype='object')\n",
      "包含公司数量： 4499\n",
      "Index(['省份', '地级市', '年份', '市场分割指数', '市场一体化指数', 'Unnamed: 5', 'Unnamed: 6',\n",
      "       'Unnamed: 7', 'Unnamed: 8', 'Unnamed: 9', 'Unnamed: 10', 'Unnamed: 11'],\n",
      "      dtype='object')\n",
      "Index(['省份', '年份', 'GDP(亿元)', 'GDP增速(%)', '人均GDP(元)', '第一产业增加值(亿元)',\n",
      "       '第二产业增加值(亿元)', '第三产业增加值(亿元)', '人口(万人)', '工业增加值(亿元)', '工业总产值(亿元)',\n",
      "       '固定资产投资(亿元)', '进出口总额(亿美元)', '社会消费品零售总额(亿元)', '城镇居民人均可支配收入(元)',\n",
      "       '金融机构存款余额(本外币)(亿元)', '金融机构贷款余额(本外币)(亿元)', '一般公共预算收入(亿元)',\n",
      "       '一般公共预算收入增速(%)', '一般公共预算收入:税收收入(亿元)', '一般公共预算支出(亿元)', '政府性基金收入(亿元)',\n",
      "       '政府性基金收入:土地出让收入(亿元)', '政府性基金支出(亿元)', '国有资本经营收入(亿元)', '国有资本经营支出(亿元)',\n",
      "       '财政自给率(%)', '地方政府债务余额(亿元)', '一般债余额(亿元)', '专项债余额(亿元)', '地方政府债务限额(亿元)',\n",
      "       '城投平台有息债务(亿元)', '负债率(%)', '负债率(宽口径)(%)', '债务率(%)', '债务率(宽口径)(%)'],\n",
      "      dtype='object')\n"
     ]
    }
   ],
   "execution_count": 42
  },
  {
   "metadata": {
    "ExecuteTime": {
     "end_time": "2024-05-11T15:07:55.442563Z",
     "start_time": "2024-05-11T15:07:55.430469Z"
    }
   },
   "cell_type": "code",
   "source": [
    "missing_values1 = check_list(regress_df, '城市', shichang, '地级市')\n",
    "missing_values2 = check_list(regress_df, '省份', gdp, '省份')\n",
    "print(missing_values1)\n",
    "print(missing_values2)\n",
    "missing_chengshi = regress_df[regress_df['城市'].isin(missing_values1)]\n",
    "missing_chengshi = missing_chengshi[['城市', '省份']].drop_duplicates().reset_index(drop=True)\n",
    "print(missing_chengshi.head())"
   ],
   "id": "cb7d6720f1a8d18e",
   "outputs": [
    {
     "name": "stdout",
     "output_type": "stream",
     "text": [
      "['龙口市', '库尔勒市', '普宁市', '廊坊市', '新沂市', '安宁市', '林州市', '樟树市', '涿州市', '当阳市', '平顶山市', '集安市', '江阴市', '双河市', '衡水市', '荆州市', '宜兴市', '峨眉山市', '吉首市', '招远市', '新郑市', '高密市', '昌邑市', '项城市', '汾阳市', '胶州市', '如皋市', '义马市', '诸城市', '仁怀市', '余姚市', '临海市', '海东市', '江山市', '兴平市', '海门市', '临安市', '永安市', '兰溪市', '靖江市', '浏阳市', '灵武市', '宜春市', '锡林郭勒盟', '凌海市', '宜宾市', '武穴市', '汉川市', '南安市', '什邡市', '禹城市', '应城市', '凌源市', '寿光市', '启东市', '三河市', '泰州市', '即墨市', '武安市', '海宁市', '温岭市', '介休市', '西昌市', '常熟市', '沙河市', '瑞安市', '滁州市', '荣成市', '平湖市', '巢湖市', '建德市', '霍林郭勒市', '海安市', '东阳市', '青铜峡市', '慈溪市', '义乌市', '镇江市', '澄迈县', '宁国市', '和田市', '鹤山市', '玉环市', '福泉市', '沅江市', '奉化市', '曲阜市', '诸暨市', '邹城市', '江油市', '张家港市', '永城市', '丽江市', '永康市', '兴宁市', '昆山市', '福清市', '阜阳市', '贵溪市', '丹阳市', '丰城市', '晋江市', '广州市', '长葛市', '太仓市', '乐清市', '广安市', '巩义市', '仪征市', '林芝市', '孟州市', '敦化市', '偃师市', '柳州市', '阿克苏市', '莱州市', '桐乡市', '格尔木市', '昌吉市', '洛阳市']\n",
      "[]\n",
      "     城市   省份\n",
      "0   海安市  江苏省\n",
      "1   宜春市  江西省\n",
      "2  格尔木市  青海省\n",
      "3   广州市  广东省\n",
      "4   寿光市  山东省\n"
     ]
    }
   ],
   "execution_count": 43
  },
  {
   "metadata": {
    "ExecuteTime": {
     "end_time": "2024-05-11T15:07:55.467365Z",
     "start_time": "2024-05-11T15:07:55.443667Z"
    }
   },
   "cell_type": "code",
   "source": [
    "shichang = shichang[shichang['年份'] == 2022]\n",
    "shichang = shichang[['省份', '地级市', '年份', '市场分割指数', '市场一体化指数']]\n",
    "shichang = shichang.rename(columns={'地级市': '城市'})\n",
    "# 拼接\n",
    "shichang = pd.concat([shichang, missing_chengshi], axis=0)\n",
    "# 按照省份分组，将'市场分割指数', '市场一体化指数'的缺失值补充为组内均值\n",
    "shichang['市场分割指数'] = shichang.groupby('省份')['市场分割指数'].transform(lambda x: x.fillna(x.mean()))\n",
    "shichang['市场一体化指数'] = shichang.groupby('省份')['市场一体化指数'].transform(lambda x: x.fillna(x.mean()))\n",
    "# shichang数据框生成哑变量1：市场分割指数均值切分，以上为1，以下为0\n",
    "shichang['市场分割指数均值切分'] = shichang['市场分割指数'].apply(lambda x: 1 if x >= shichang['市场分割指数'].mean() else 0)\n",
    "# shichang数据框生成哑变量2：市场一体化指数均值切分，以上为1，以下为0\n",
    "shichang['市场一体化指数均值切分'] = shichang['市场一体化指数'].apply(lambda x: 1 if x >= shichang['市场一体化指数'].mean() else 0)\n",
    "print(shichang.columns)"
   ],
   "id": "23bd5ea155aabd54",
   "outputs": [
    {
     "name": "stdout",
     "output_type": "stream",
     "text": [
      "Index(['省份', '城市', '年份', '市场分割指数', '市场一体化指数', '市场分割指数均值切分', '市场一体化指数均值切分'], dtype='object')\n"
     ]
    }
   ],
   "execution_count": 44
  },
  {
   "metadata": {
    "ExecuteTime": {
     "end_time": "2024-05-11T15:07:55.474608Z",
     "start_time": "2024-05-11T15:07:55.468367Z"
    }
   },
   "cell_type": "code",
   "source": [
    "gdp = gdp[gdp['年份'] == 2022]\n",
    "gdp = gdp[['省份', '年份', '人均GDP(元)']]\n",
    "# gdp数据框生成哑变量3：人均gdp均值切分，以上为1，以下为0\n",
    "gdp['人均gdp均值切分'] = gdp['人均GDP(元)'].apply(lambda x: 1 if x >= gdp['人均GDP(元)'].mean() else 0)\n",
    "print(gdp.columns)"
   ],
   "id": "4a74bda6c51c98e7",
   "outputs": [
    {
     "name": "stdout",
     "output_type": "stream",
     "text": [
      "Index(['省份', '年份', '人均GDP(元)', '人均gdp均值切分'], dtype='object')\n"
     ]
    }
   ],
   "execution_count": 45
  },
  {
   "metadata": {
    "ExecuteTime": {
     "end_time": "2024-05-11T15:07:55.489613Z",
     "start_time": "2024-05-11T15:07:55.475611Z"
    }
   },
   "cell_type": "code",
   "source": [
    "politics = politics[['股票代码']]\n",
    "# DID\n",
    "politics['人工智能政策受益'] = 1\n",
    "# 删除重复行\n",
    "politics = politics.drop_duplicates().reset_index(drop=True)"
   ],
   "id": "7afc3813a1469819",
   "outputs": [],
   "execution_count": 46
  },
  {
   "metadata": {
    "ExecuteTime": {
     "end_time": "2024-05-11T15:07:55.529976Z",
     "start_time": "2024-05-11T15:07:55.490621Z"
    }
   },
   "cell_type": "code",
   "source": [
    "# 将哑变量merge到regress_df\n",
    "regress_df = pd.merge(regress_df, shichang[['城市', '市场分割指数均值切分', '市场一体化指数均值切分']], on='城市', how='left')\n",
    "regress_df = pd.merge(regress_df, gdp[['省份', '人均gdp均值切分']], on='省份', how='left')\n",
    "regress_df = pd.merge(regress_df, politics, on='股票代码', how='left')\n",
    "print(regress_df['市场分割指数均值切分'].isnull().sum())\n",
    "print(regress_df['市场一体化指数均值切分'].isnull().sum())\n",
    "print(regress_df['人均gdp均值切分'].isnull().sum())\n",
    "regress_df['人工智能政策受益'] = regress_df['人工智能政策受益'].fillna(0)"
   ],
   "id": "ec70c118d7bfd922",
   "outputs": [
    {
     "name": "stdout",
     "output_type": "stream",
     "text": [
      "0\n",
      "0\n",
      "0\n"
     ]
    }
   ],
   "execution_count": 47
  },
  {
   "metadata": {
    "ExecuteTime": {
     "end_time": "2024-05-11T15:08:23.181239Z",
     "start_time": "2024-05-11T15:08:07.099194Z"
    }
   },
   "cell_type": "code",
   "source": "regress_df.to_excel('regress/e实证数据_筛选1994家企业_29489条数据_哑变量.xlsx', index=False)",
   "id": "f1ca3cb41928ad0d",
   "outputs": [],
   "execution_count": 48
  },
  {
   "metadata": {},
   "cell_type": "markdown",
   "source": "## 劳动力结构",
   "id": "a4d62eaedbbcb142"
  },
  {
   "metadata": {
    "ExecuteTime": {
     "end_time": "2024-05-12T05:05:38.281584Z",
     "start_time": "2024-05-12T05:03:06.653040Z"
    }
   },
   "cell_type": "code",
   "source": [
    "address = r'E:\\ggq的文件\\比赛\\24统计建模\\regress\\e实证数据_筛选1994家企业_29489条数据_哑变量.xlsx'\n",
    "regress_df = read_xlsx(address, '股票代码', '年份')\n",
    "# address = r'E:\\ggq的文件\\比赛\\24统计建模\\regress\\e人员构成RESSET_EMPINFO_1.xlsx'\n",
    "# emp1 = read_xlsx(address, 'A股股票代码_A_StkCd', None)\n",
    "# address = r'E:\\ggq的文件\\比赛\\24统计建模\\regress\\e人员构成RESSET_EMPINFO_2.xlsx'\n",
    "# emp2 = read_xlsx(address, 'A股股票代码_A_StkCd', None)\n",
    "# emp = pd.concat([emp1, emp2], axis=0)\n",
    "address = r'E:\\ggq的文件\\比赛\\24统计建模\\regress\\e人员构成CSRR_CompanyStaff.xlsx'\n",
    "emp = read_xlsx(address, '股票代码', None)\n",
    "check_list(regress_df, '股票代码', emp,'股票代码')"
   ],
   "id": "56b9deeba9d414ac",
   "outputs": [
    {
     "name": "stdout",
     "output_type": "stream",
     "text": [
      "形状： (29489, 68)\n",
      "列名： Index(['股票代码', '年份', 'A股简称', 'A股上市日期', '省份', '城市', '所属行业', '板块', 'GTFP',\n",
      "       'AIDIC', 'AIDIC_累加后log', 'AIGPT', 'AI', 'East', 'West', 'Mid', 'LnCit1',\n",
      "       'LnCit2', 'GreenInnov', 'grd', 'gcon', 'IIP', 'OIP', 'Size', 'Lev',\n",
      "       'Cashflow', 'FIXED', 'Growth', 'Board', 'Dual', 'Top1', 'TobinQ',\n",
      "       'FirmAge', 'Employee', 'REC', 'INV', 'Intangible', 'AssetGrowth',\n",
      "       'NetProfitGrowth', 'ITR', 'CAP', 'Invest1', 'Indep', 'Balance1',\n",
      "       'Seperate', 'BM', 'PB', 'Ofee', 'Mfee', 'ATO', 'SA', 'WW', 'FC', 'KZ',\n",
      "       'HighTech_1', 'HighTech_2', 'HighTech_3', 'HighTech_4', 'HighTech_5',\n",
      "       'Pollute_1', 'Pollute_2', 'Pollute_3', 'SOE', 'Loss', '市场分割指数均值切分',\n",
      "       '市场一体化指数均值切分', '人均gdp均值切分', '人工智能政策受益'],\n",
      "      dtype='object')\n",
      "包含公司数量： 1994\n",
      "形状： (863111, 13)\n",
      "列名： Index(['股票代码', '统计截止日期', '数据来源', '口径编码', '人员结构编码', '序号', '股票简称', '公告日期',\n",
      "       '口径名称', '人员结构', '人员明细', '数量', '单位'],\n",
      "      dtype='object')\n",
      "包含公司数量： 5582\n"
     ]
    },
    {
     "data": {
      "text/plain": [
       "[]"
      ]
     },
     "execution_count": 11,
     "metadata": {},
     "output_type": "execute_result"
    }
   ],
   "execution_count": 11
  },
  {
   "metadata": {
    "ExecuteTime": {
     "end_time": "2024-05-12T05:05:38.649312Z",
     "start_time": "2024-05-12T05:05:38.282587Z"
    }
   },
   "cell_type": "code",
   "source": [
    "ID_list = regress_df['股票代码'].unique().tolist()\n",
    "emp = emp[emp['股票代码'].isin(ID_list)]\n",
    "print(emp.shape)\n",
    "print(emp['人员结构'].unique())\n",
    "emp = emp[emp['人员结构'].isin(['总人数', '专业结构'])]\n",
    "print(emp.shape)\n",
    "emp['统计截止日期'] = pd.to_datetime(emp['统计截止日期'])\n",
    "emp['年份'] = emp['统计截止日期'].apply(lambda x: x.year)\n",
    "emp = emp[['股票代码', '年份','人员结构编码', '序号', '人员结构', '人员明细', '数量', '单位']]"
   ],
   "id": "66e9a967757dd4d8",
   "outputs": [
    {
     "name": "stdout",
     "output_type": "stream",
     "text": [
      "(498261, 13)\n",
      "['总人数' '学历' '性别' '民族' '专业结构' '年龄' '所在地区' '其他' '职称' '职业资格' '入职年限']\n",
      "(315192, 13)\n"
     ]
    }
   ],
   "execution_count": 12
  },
  {
   "metadata": {
    "ExecuteTime": {
     "end_time": "2024-05-12T05:12:23.463303Z",
     "start_time": "2024-05-12T05:12:23.392445Z"
    }
   },
   "cell_type": "code",
   "source": [
    "# 查看'人员结构编码'与'人员结构'的对应关系\n",
    "structure_code_to_structure = emp.groupby('人员结构编码')['人员结构'].unique().apply(list).to_dict()\n",
    "# 查看'人员结构编码'与'人员明细'的对应关系\n",
    "structure_code_to_detail = emp.groupby('人员结构编码')['人员明细'].unique().apply(list).to_dict()\n",
    "print(structure_code_to_structure)\n",
    "# 把structure_code_to_detail导出为json，存在的汉字使用utf-8编码\n",
    "import json\n",
    "with open('E:/ggq的文件/比赛/24统计建模/regress/e人员结构_编码to明细.json', 'w', encoding='utf-8') as f:\n",
    "    json.dump(structure_code_to_detail, f, ensure_ascii=False)"
   ],
   "id": "6b6ce1662e2a86b5",
   "outputs": [
    {
     "name": "stdout",
     "output_type": "stream",
     "text": [
      "{'P5701': ['总人数'], 'P5709': ['专业结构']}\n"
     ]
    }
   ],
   "execution_count": 15
  },
  {
   "metadata": {
    "ExecuteTime": {
     "end_time": "2024-05-12T05:29:30.213092Z",
     "start_time": "2024-05-12T05:29:30.170634Z"
    }
   },
   "cell_type": "code",
   "source": [
    "emp_1 = emp[(emp['人员结构编码'] == 'P5701') & (emp['序号'] == 1)]\n",
    "print(emp_1[emp_1['人员结构编码'] == 'P5701']['人员明细'].unique())"
   ],
   "id": "1768f13f9fb3628a",
   "outputs": [
    {
     "name": "stdout",
     "output_type": "stream",
     "text": [
      "['在册员工' '员工总数' '在职员工' '总人数' '报告期末在职员工的数量合计' '共有在册员工' '母公司员工总数'\n",
      " '母公司在职员工的数量' '\\ufeff母公司在职员工的数量' '报告期末母公司在职员工的数量' '母公司在职员工' '现有员工' '员工总人数'\n",
      " '总部在职员工' '共有员工' '在职员工的数量合计' '主要子公司在职员工的数量' '在职员工人数' '母公司在职员工数量'\n",
      " '子公司在职员工数量' '公司需承担费用的离退休职工人数' '从业人员' '从业人员总数' '在职员工总数' '退休员工' '员工人数'\n",
      " '职工合计' '员工合计' '从业人员合计' '在册员工(未含控股子公司)' '在职员工的人数' '全球员工总数' '在岗员工总数'\n",
      " '母公司员工人数' '需承担费用的离退休职工人数' '公司共有员工' '公司总员工总数' '母公司在职人数' '在职正式员工'\n",
      " '公司员工人数合计' '公司在职职工总数' '期末从业人员人数' '员工数量' '集团员工总数' '公司及所属企业员工' '在册职工'\n",
      " '在岗职工' '本公司(包括控股子公司)共有在册员工' '公司在册员工人数' '在岗员工总人数' '公司需承担费用的退休人员' '离退休职工'\n",
      " '当期领取薪酬员工总人数' '在职员工总人数' '公司需承担费用的离退休人数' '公司在职员工' '凯傲公司人数' '全球劳动合同员工'\n",
      " '共有劳动合同员工' '拥有员工' '雇员总数' '在职员工数量' '在册员工总数' '在职员工的人' '职工总数'\n",
      " '母公司及主要子公司需承担费用的离退休职工人数' '在编员工总数' '员工' '在职职工总数' '在岗员工人数' '公司员工总数'\n",
      " '全体员工人数' '在册职工人数' '在岗员工' '公司及主要子公司在岗员工' '公司共有在职员工' '公司及主要子公司共有在职员工'\n",
      " '公司在册员工' '公司承担费用的离退休职工人数' '报告期末公司本部在职员工数量' '公司本部在职职工数量' '从业人员数'\n",
      " '母公司及主要子公司在职员工的人数' '在职员工数量总数' '公司需承担费用的离退休人员为' '在岗职工总数' '合同制员工' '公司现有员工'\n",
      " '在职职工人数' '在册职工总数' '公司在职人数' '公司现有员工总数' '公司员工数量' '在职职工' '母公司在册员工'\n",
      " '母公司从业人员总数' '全体员工' '正式员工' '公司在职员工总数' '集团公司共有人员' '公司共有人员' '集团公司共有员工'\n",
      " '期末职工人数' '在册人员' '公司(含主要所属企业)在岗员工' '共有职工' '在岗人员' '母公司在册职工' '公司员工'\n",
      " '本公司在职员工的数量' '退休人员' '母公司在职数量' '职员工的人数' '在编员工' '公司需承担费用的离、退养职工' '在职员工合计数'\n",
      " '公司离退休工人数' '集团员工' '在籍员工' '公司在籍员工' '在岗职工人数' '人员总数' '职工人数' '母公司共有职工'\n",
      " '盐湖股份在岗员工' '从业人数' '职员工的数量' '公司及控股子公司在岗职工' '本公司员工总数' '公司本部职工总数' '现有职工'\n",
      " '职工总人数' '年末职工人数' '母公司共有在册员工' '母公司现有员工' '在岗员工共计' '母公司总人数' '子公司总人数'\n",
      " '母公司在职职工' '在职员工人数合计' '现有在职员工' '主要子公司在职员工' '员工情况' '公司需承担费用的离退休职工'\n",
      " '子公司在职人员' '子公司在职人数' '母公司在职公司' '全公司人数' '年末职工总数' '在岗人数' '共有在职员工'\n",
      " '公司需要承担费用的离退休职工' '员⼯总数' '公司及主要子公司共有员工' '需要承担费用的离退休职工' '母公司在职员工的人数'\n",
      " '公司及子公司在职员工人数' '母公司在册员工总数' '子公司人员数' '在职员工合计' '在职人员' '在职员工的人数(母公司及子公司)'\n",
      " '全职员工' '公司拥有员工' '母公司在职员工总数' '母公司在职职工总数' '在职员工的数量' '公司需承担离退休职工的费用'\n",
      " '母公司的在职员工人数' '母公司在职员工人数' '本公司及控股子公司共有员工' '公司在职员工人数' '需公司承担费用的离退休职工'\n",
      " '母公司在职人员' '主要子公司在职人员' '公司需要承担费用的离退休职工人' '子公司在职员工' '总雇佣员工' '雇佣员工'\n",
      " '在职职工总人数' '母公司在职员工的数量合计' '和诚钛业在职职工' '本公司在册职工' '子公司员工总数'\n",
      " '公司签订正式劳动用工合同的员工人数' '公司共有在册员工' '公司在册员工总数' '公司员工人数' '需承担费用的离退休职工'\n",
      " '公司及子公司在职员工的人数' '全球员工总人数' '全职员工总人数' '现有注册员工' '就业人员' '\\ufeff在职员工的数量'\n",
      " '威海恒邦总人数' '威海恒邦员工总人数' '报告期末主要子公司在职员工的数量' '本部员工总数' '人员总量' '本部职工人数' '员工总数量'\n",
      " '在职员工数量合计' '集团公司员工总数' '合资公司员工总数' '员工数' '母公司共有员工' '在册员工人数' '公司及子公司在职员工'\n",
      " '现任员工的人数' '浙江仙琚制药股份有限公司总人数' '台州仙琚药业有限公司总人数' '在职职工的人数' '从业人员数量' '总从业人员数量'\n",
      " '研发人员' '员工共计' '已退休职工' '公司及主要子公司在职员工人数' '在册正式员工' '公司共有员工人数' '全球聘用员工总人数'\n",
      " '分公司人数' '合同员工' '在册全职人员' '纳入棕榈编制员工' '公司需要承担的离退休职工人数' '盛路通信在职员工总人数' '总员工数'\n",
      " '总员工人数(含劳务派遣制员工及兼职员工)' '报告期末在职总人数' '母公司及控股子公司员工' '女性员工人数'\n",
      " '\\ufeff当期领取薪酬员工总人数' '共有职工总数' '公司及其子公司在册员工总数' '母公司在职的员工情况'\n",
      " '需要公司承担费用的离退休职工' '公司及子公司在册员工' '公司需承担费用的离退休员工' '全体员工总人数' '生产人员'\n",
      " '需要公司承担费用的离退休员工' '公司需要承担费用的离退休员工' '在册正式员工总数' '雇员总人数' '研发人员数置' '母公司的员工人数'\n",
      " '公司需承担费用的离退休人员' '本公司共有员工' '共有在岗员工' '母公司在岗员工' '子公司在岗员工' '全部员工总数' '大禹集团总部'\n",
      " '母公司人数' '正式员工数量' '公司需承担费用离退休人员' '自有员工' '需承担费用的离退休人员' '需承担费用的离退休员工'\n",
      " '公司及全资子公司总人数' '正式在册员工人数' '需要承担费用的退休人员' '公司员工总人数' '公司需要承担费用的离退休人员'\n",
      " '公司共有在岗员工' '公司及主要子公司劳务派遣员工人数' '公司在职人员' '职员工总数' '公司需要承担费用的离退休员工人数'\n",
      " '公司需要承担费用的离退休职工人数' '本公司及子公司共有职工' '母公司在职人数合计' '现有员工总数' '子公司在职员工的数量' '职员人数'\n",
      " '员工总人(不包含153名临时工/劳务派遣人员/实习生)' '在册人数' '母公司在职员工的数量(' '离职员工' '正式员工总数'\n",
      " '正式员工数' '从业员工' '总雇佣人数' '母公司在职正式员工的数量' '本公司拥有员工' '中国石化销售股份有限公司拥有员工'\n",
      " '公司总人数' '全体雇员人数' '全部在岗职工' '厦门象屿本部员工数' '主要子公司在职员工数量' '从职人员' '母公司员工总人数'\n",
      " '母公司在职人员数量' '格力地产员工总数' '原有员工' '本集团员工人数' '公司总部及下属企业在职员工数量' '母公司' '主要子公司'\n",
      " '本部职员工的数量' '主要子公司总人数' '公司母公司及主要子公司在职员工' '上市公司在职员工的数量' '离退休人员' '公司在职职工'\n",
      " '员工总数-母公司' '公司在职员工的数量' '片仔癀药业集团员工总数' '通威农牧产业员工总数' '在册在岗职工'\n",
      " '公司承担费用的退休人员数量' '公司共有职工' '主要子公司在职员工数' '现有员工人数' '本集团在职员工' '在职员工人数总计'\n",
      " '母公司及子公司拥有在职员工' '在职总员工' '本部及控股子公司在职总员工' '雇佣员工总数' '现有职工总数' '中国境内员工人数'\n",
      " '现有员工数' '本公司在职员工总数' '全球拥有员工' '劳动合同制员工' '在职员工的总数' '母公司在职职工的数量'\n",
      " '华域汽车本部及主要子公司在职职工总数' '正式在岗职工' '隧道股份职工' '母公司在编员工的数量' '在编员工的数量合计'\n",
      " '各类从业人员总数' '母公司在职员工和数量' '境内员工总数' '全部员工' '雇佣员工人数' '公司从业人员总数' '公司在岗总人数'\n",
      " '博瑞传播本部在职员工' '公司职工' '合计' '外加子公司在职员工' '母公司在职员工总数为' '子公司员工总人数' '在册在岗员工人数'\n",
      " '在职员工的合计' '本公司(总部)在职员工的数量' '本公司总部在职员工的数量' '主要子公司在职员工总数' '本公司(含分公司)共有在职员工'\n",
      " '母公司(含分公司)在职员工的数量' '国航员工总数' '在岗总员工' '在册员工(含主要子公司)' '公司本部在职员工的数量'\n",
      " '公司总部在职员工的数量' '母公司在职员工数' '公司在岗员工人数' '在岗员工数' '在职员工人次' '在册员工总人数' '公司的员工总数'\n",
      " '勘探与生产' '油气和新能源' '在职员工(含劳务工)总数' '拥有员工数量' '在职员工数' '金隅集团在岗员工']\n"
     ]
    }
   ],
   "execution_count": 17
  },
  {
   "metadata": {},
   "cell_type": "code",
   "outputs": [],
   "execution_count": null,
   "source": "# 删除包含'退'、'女'的人员明细\n",
   "id": "5b109d3b4867769a"
  },
  {
   "metadata": {},
   "cell_type": "code",
   "outputs": [],
   "execution_count": null,
   "source": "",
   "id": "2ef3902ce477db05"
  },
  {
   "metadata": {},
   "cell_type": "markdown",
   "source": "## 工具变量",
   "id": "c09cf31e119acf78"
  },
  {
   "metadata": {
    "ExecuteTime": {
     "end_time": "2024-05-12T07:40:25.614870Z",
     "start_time": "2024-05-12T07:40:25.571897Z"
    }
   },
   "cell_type": "code",
   "source": [
    "address = r'E:\\ggq的文件\\比赛\\24统计建模\\regress\\e全球AI专利.xlsx'\n",
    "patent = pd.read_excel(address)\n",
    "print(patent.columns)\n",
    "address = r'E:\\ggq的文件\\比赛\\24统计建模\\regress\\e地市1984年邮局数和固定电话数.xlsx'\n",
    "post = pd.read_excel(address)\n",
    "print(post.columns)\n",
    "check_list(regress_df, '省份', post,'所属省份')"
   ],
   "id": "625a7db2924a371d",
   "outputs": [
    {
     "name": "stdout",
     "output_type": "stream",
     "text": [
      "Index(['Entity', 'Code', 'Year', 'Patent applications - Field: All'], dtype='object')\n",
      "Index(['行政区划代码', '地区', '所属省份', '长江经济带', '经度', '纬度', '1984年末总人口数（万人）',\n",
      "       '1984年末邮电局数（处）', '1984年末电话机数（部）', '1984年末邮电业务总量（万元）', '1984年每百万人邮局数',\n",
      "       '1984年每百人固定电话数'],\n",
      "      dtype='object')\n"
     ]
    },
    {
     "data": {
      "text/plain": [
       "['西藏自治区']"
      ]
     },
     "execution_count": 56,
     "metadata": {},
     "output_type": "execute_result"
    }
   ],
   "execution_count": 56
  },
  {
   "metadata": {
    "ExecuteTime": {
     "end_time": "2024-05-12T07:40:25.753591Z",
     "start_time": "2024-05-12T07:40:25.747742Z"
    }
   },
   "cell_type": "code",
   "source": [
    "post = post[['所属省份', '1984年每百人固定电话数']]\n",
    "# 按照省份分组并平均，得到截面数据框\n",
    "post = post.groupby('所属省份').mean().reset_index()\n",
    "print(post.head())"
   ],
   "id": "5df6c42be95bca6a",
   "outputs": [
    {
     "name": "stdout",
     "output_type": "stream",
     "text": [
      "     所属省份  1984年每百人固定电话数\n",
      "0     上海市       2.467471\n",
      "1     云南省       0.421092\n",
      "2  内蒙古自治区       1.087957\n",
      "3     北京市       4.079234\n",
      "4     吉林省       1.087668\n"
     ]
    }
   ],
   "execution_count": 57
  },
  {
   "metadata": {
    "ExecuteTime": {
     "end_time": "2024-05-12T07:40:25.930509Z",
     "start_time": "2024-05-12T07:40:25.923499Z"
    }
   },
   "cell_type": "code",
   "source": [
    "patent = patent[['Year', 'Patent applications - Field: All']]\n",
    "patent = patent.rename(columns={'Year': '年份', 'Patent applications - Field: All': '专利申请数'})\n",
    "patent['专利申请数_t-1'] = patent['专利申请数'].shift(-1)\n",
    "patent['专利申请数_t-1_log'] = np.log(patent['专利申请数_t-1'])\n",
    "patent = patent.drop(columns=['专利申请数'])\n",
    "patent = patent.dropna()\n",
    "print(patent.head())"
   ],
   "id": "25b3fe27d530352",
   "outputs": [
    {
     "name": "stdout",
     "output_type": "stream",
     "text": [
      "     年份  专利申请数_t-1  专利申请数_t-1_log\n",
      "0  2022   115838.0      11.659948\n",
      "1  2021    93828.0      11.449219\n",
      "2  2020    74418.0      11.217453\n",
      "3  2019    53303.0      10.883748\n",
      "4  2018    32029.0      10.374397\n"
     ]
    }
   ],
   "execution_count": 58
  },
  {
   "metadata": {
    "ExecuteTime": {
     "end_time": "2024-05-12T07:40:26.121181Z",
     "start_time": "2024-05-12T07:40:26.116006Z"
    }
   },
   "cell_type": "code",
   "source": [
    "from itertools import product\n",
    "provinces = post['所属省份'].tolist()\n",
    "# 添加['西藏自治区']到provinces\n",
    "provinces.append('西藏自治区')\n",
    "years = patent['年份'].tolist()\n",
    "combined_list = list(product(provinces, years))\n",
    "panel_data = pd.DataFrame(combined_list, columns=['所属省份', '年份'])\n",
    "print(panel_data)"
   ],
   "id": "29da84ed3873998",
   "outputs": [
    {
     "name": "stdout",
     "output_type": "stream",
     "text": [
      "      所属省份    年份\n",
      "0      上海市  2022\n",
      "1      上海市  2021\n",
      "2      上海市  2020\n",
      "3      上海市  2019\n",
      "4      上海市  2018\n",
      "..     ...   ...\n",
      "491  西藏自治区  2011\n",
      "492  西藏自治区  2010\n",
      "493  西藏自治区  2009\n",
      "494  西藏自治区  2008\n",
      "495  西藏自治区  2007\n",
      "\n",
      "[496 rows x 2 columns]\n"
     ]
    }
   ],
   "execution_count": 59
  },
  {
   "metadata": {
    "ExecuteTime": {
     "end_time": "2024-05-12T07:40:26.348967Z",
     "start_time": "2024-05-12T07:40:26.340066Z"
    }
   },
   "cell_type": "code",
   "source": [
    "# 合并截面数据\n",
    "panel_data = panel_data.merge(post, on='所属省份', how='left')\n",
    "panel_data = panel_data.merge(patent[['年份', '专利申请数_t-1_log']], on='年份', how='left')\n",
    "# 计算工具变量\n",
    "panel_data['工具变量'] = panel_data['1984年每百人固定电话数'] * panel_data['专利申请数_t-1_log']\n",
    "panel_data = panel_data.rename(columns={'所属省份': '省份'})\n",
    "panel_data = panel_data.fillna(0)\n",
    "print(panel_data.head())"
   ],
   "id": "1a4d3fb6c1985af0",
   "outputs": [
    {
     "name": "stdout",
     "output_type": "stream",
     "text": [
      "    省份    年份  1984年每百人固定电话数  专利申请数_t-1_log       工具变量\n",
      "0  上海市  2022       2.467471      11.659948  28.770586\n",
      "1  上海市  2021       2.467471      11.449219  28.250618\n",
      "2  上海市  2020       2.467471      11.217453  27.678743\n",
      "3  上海市  2019       2.467471      10.883748  26.855335\n",
      "4  上海市  2018       2.467471      10.374397  25.598526\n"
     ]
    }
   ],
   "execution_count": 60
  },
  {
   "metadata": {
    "ExecuteTime": {
     "end_time": "2024-05-12T07:41:15.304718Z",
     "start_time": "2024-05-12T07:40:47.304732Z"
    }
   },
   "cell_type": "code",
   "source": [
    "address = r'E:\\ggq的文件\\比赛\\24统计建模\\regress\\e实证数据_筛选1994家企业_29489条数据_哑变量.xlsx'\n",
    "regress_df = read_xlsx(address, '股票代码', '年份')\n",
    "# 工具变量合并\n",
    "regress_df = regress_df.merge(panel_data[['省份', '年份', '工具变量']], on=['省份', '年份'], how='left')\n",
    "regress_df.to_excel('regress/e实证数据_筛选1994家企业_29489条数据_哑变量_工具变量.xlsx', index=False)"
   ],
   "id": "19318c047a6b034b",
   "outputs": [
    {
     "name": "stdout",
     "output_type": "stream",
     "text": [
      "形状： (29489, 68)\n",
      "列名： Index(['股票代码', '年份', 'A股简称', 'A股上市日期', '省份', '城市', '所属行业', '板块', 'GTFP',\n",
      "       'AIDIC', 'AIDIC_累加后log', 'AIGPT', 'AI', 'East', 'West', 'Mid', 'LnCit1',\n",
      "       'LnCit2', 'GreenInnov', 'grd', 'gcon', 'IIP', 'OIP', 'Size', 'Lev',\n",
      "       'Cashflow', 'FIXED', 'Growth', 'Board', 'Dual', 'Top1', 'TobinQ',\n",
      "       'FirmAge', 'Employee', 'REC', 'INV', 'Intangible', 'AssetGrowth',\n",
      "       'NetProfitGrowth', 'ITR', 'CAP', 'Invest1', 'Indep', 'Balance1',\n",
      "       'Seperate', 'BM', 'PB', 'Ofee', 'Mfee', 'ATO', 'SA', 'WW', 'FC', 'KZ',\n",
      "       'HighTech_1', 'HighTech_2', 'HighTech_3', 'HighTech_4', 'HighTech_5',\n",
      "       'Pollute_1', 'Pollute_2', 'Pollute_3', 'SOE', 'Loss', '市场分割指数均值切分',\n",
      "       '市场一体化指数均值切分', '人均gdp均值切分', '人工智能政策受益'],\n",
      "      dtype='object')\n",
      "包含公司数量： 1994\n"
     ]
    }
   ],
   "execution_count": 62
  },
  {
   "metadata": {},
   "cell_type": "markdown",
   "source": "## 劳动力结构_垃圾版",
   "id": "e1969bbaae6830c2"
  },
  {
   "metadata": {
    "ExecuteTime": {
     "end_time": "2024-05-12T08:11:05.687805Z",
     "start_time": "2024-05-12T08:10:31.769067Z"
    }
   },
   "cell_type": "code",
   "source": [
    "address = r'E:\\ggq的文件\\比赛\\24统计建模\\regress\\b控制变量-人员构成.xlsx'\n",
    "labor = read_xlsx(address, '股票代码', '年份')\n",
    "labor = labor[['股票代码', '年份', '生产占比', '销售占比', '财务占比', '技术占比', '其他部门占比']]\n",
    "labor['常规低技能劳动力占比'] = labor['生产占比'] + labor['销售占比'] + labor['财务占比']\n",
    "labor['非常规高技能劳动力占比'] = labor['技术占比']\n",
    "address = r'E:\\ggq的文件\\比赛\\24统计建模\\regress\\e实证数据_筛选1994家企业_29489条数据_哑变量.xlsx'\n",
    "regress_df = read_xlsx(address, '股票代码', '年份')\n",
    "# labor变量合并\n",
    "regress_df = regress_df.merge(labor[['股票代码', '年份', '常规低技能劳动力占比', '非常规高技能劳动力占比']], on=['股票代码', '年份'], how='left')\n",
    "regress_df.to_excel('regress/e实证数据_筛选1994家企业_29489条数据_哑变量_工具变量_劳动力.xlsx', index=False)"
   ],
   "id": "d2d904f088d80878",
   "outputs": [
    {
     "name": "stdout",
     "output_type": "stream",
     "text": [
      "形状： (62176, 26)\n",
      "列名： Index(['年份', '股票代码', '证券简称', '员工总数', '人均创收万元', '人均创利万元', '研究生以上学历',\n",
      "       '研究生及以上学历占比', '本科', '本科学历占比', '专科以上学历', '专科以上学历占比', '高中及以下学历',\n",
      "       '高中及以下学历占比', '其他学历', '其他学历占比', '生产', '生产占比', '财务', '财务占比', '销售', '销售占比',\n",
      "       '技术', '技术占比', '其他部门', '其他部门占比'],\n",
      "      dtype='object')\n",
      "包含公司数量： 5224\n",
      "形状： (29489, 68)\n",
      "列名： Index(['股票代码', '年份', 'A股简称', 'A股上市日期', '省份', '城市', '所属行业', '板块', 'GTFP',\n",
      "       'AIDIC', 'AIDIC_累加后log', 'AIGPT', 'AI', 'East', 'West', 'Mid', 'LnCit1',\n",
      "       'LnCit2', 'GreenInnov', 'grd', 'gcon', 'IIP', 'OIP', 'Size', 'Lev',\n",
      "       'Cashflow', 'FIXED', 'Growth', 'Board', 'Dual', 'Top1', 'TobinQ',\n",
      "       'FirmAge', 'Employee', 'REC', 'INV', 'Intangible', 'AssetGrowth',\n",
      "       'NetProfitGrowth', 'ITR', 'CAP', 'Invest1', 'Indep', 'Balance1',\n",
      "       'Seperate', 'BM', 'PB', 'Ofee', 'Mfee', 'ATO', 'SA', 'WW', 'FC', 'KZ',\n",
      "       'HighTech_1', 'HighTech_2', 'HighTech_3', 'HighTech_4', 'HighTech_5',\n",
      "       'Pollute_1', 'Pollute_2', 'Pollute_3', 'SOE', 'Loss', '市场分割指数均值切分',\n",
      "       '市场一体化指数均值切分', '人均gdp均值切分', '人工智能政策受益'],\n",
      "      dtype='object')\n",
      "包含公司数量： 1994\n"
     ]
    }
   ],
   "execution_count": 64
  },
  {
   "metadata": {},
   "cell_type": "code",
   "outputs": [],
   "execution_count": null,
   "source": "",
   "id": "15220d940850f16c"
  }
 ],
 "metadata": {
  "kernelspec": {
   "display_name": "Python 3",
   "language": "python",
   "name": "python3"
  },
  "language_info": {
   "codemirror_mode": {
    "name": "ipython",
    "version": 2
   },
   "file_extension": ".py",
   "mimetype": "text/x-python",
   "name": "python",
   "nbconvert_exporter": "python",
   "pygments_lexer": "ipython2",
   "version": "2.7.6"
  }
 },
 "nbformat": 4,
 "nbformat_minor": 5
}
