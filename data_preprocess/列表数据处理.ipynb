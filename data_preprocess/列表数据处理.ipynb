{
 "cells": [
  {
   "metadata": {},
   "cell_type": "markdown",
   "source": "## 制作股票列表",
   "id": "6708df1e5145166a"
  },
  {
   "cell_type": "code",
   "id": "initial_id",
   "metadata": {
    "collapsed": true,
    "ExecuteTime": {
     "end_time": "2024-05-07T11:28:36.207060Z",
     "start_time": "2024-05-07T11:28:35.131437Z"
    }
   },
   "source": [
    "import pandas as pd\n",
    "import numpy as np"
   ],
   "outputs": [],
   "execution_count": 2
  },
  {
   "metadata": {
    "ExecuteTime": {
     "end_time": "2024-04-27T13:03:32.936033Z",
     "start_time": "2024-04-27T13:03:32.604972Z"
    }
   },
   "cell_type": "code",
   "source": [
    "# 检查编码\n",
    "import chardet\n",
    "with open('上交所主板600_.xlsx', 'rb') as f:\n",
    "    result = chardet.detect(f.read())\n",
    "print(result['encoding'])"
   ],
   "id": "940484b965a49867",
   "outputs": [
    {
     "name": "stdout",
     "output_type": "stream",
     "text": [
      "None\n"
     ]
    }
   ],
   "execution_count": 11
  },
  {
   "metadata": {
    "ExecuteTime": {
     "end_time": "2024-04-27T13:03:34.710589Z",
     "start_time": "2024-04-27T13:03:33.856668Z"
    }
   },
   "cell_type": "code",
   "source": [
    "# 上交所主板\n",
    "df_600 = pd.read_excel('上交所主板600_.xlsx', dtype={'A股代码': str})\n",
    "print(df_600.columns)\n",
    "# 上交所科创板\n",
    "df_688 = pd.read_excel('上交所科创板688_.xlsx', dtype={'A股代码': str})\n",
    "print(df_688.columns)\n",
    "# 深交所主板\n",
    "df_000 = pd.read_excel('深交所主板000_.xlsx', dtype={'A股代码': str})\n",
    "print(df_000.columns)\n",
    "# 深交所创业板\n",
    "df_300 = pd.read_excel('深交所创业板300_.xlsx', dtype={'A股代码': str})\n",
    "print(df_300.columns)"
   ],
   "id": "768d522e89cdab75",
   "outputs": [
    {
     "name": "stdout",
     "output_type": "stream",
     "text": [
      "Index(['A股代码', 'B股代码', '证券简称', '扩位证券简称', '公司英文全称', '上市日期'], dtype='object')\n",
      "Index(['A股代码', 'B股代码', '证券简称', '扩位证券简称', '公司英文全称', '上市日期'], dtype='object')\n",
      "Index(['板块', '公司全称', '英文名称', '注册地址', 'A股代码', 'A股简称', 'A股上市日期', 'A股总股本',\n",
      "       'A股流通股本', 'B股代码', 'B股 简 称', 'B股上市日期', 'B股总股本', 'B股流通股本', '地      区',\n",
      "       '省    份', '城     市', '所属行业', '公司网址', '未盈利', '具有表决权差异安排', '具有协议控制架构'],\n",
      "      dtype='object')\n",
      "Index(['板块', '公司全称', '英文名称', '注册地址', 'A股代码', 'A股简称', 'A股上市日期', 'A股总股本',\n",
      "       'A股流通股本', 'B股代码', 'B股 简 称', 'B股上市日期', 'B股总股本', 'B股流通股本', '地      区',\n",
      "       '省    份', '城     市', '所属行业', '公司网址', '未盈利', '具有表决权差异安排', '具有协议控制架构'],\n",
      "      dtype='object')\n"
     ]
    }
   ],
   "execution_count": 12
  },
  {
   "metadata": {
    "ExecuteTime": {
     "end_time": "2024-04-27T13:03:35.522185Z",
     "start_time": "2024-04-27T13:03:35.519304Z"
    }
   },
   "cell_type": "code",
   "source": [
    "# 检查每一列的数据类型\n",
    "print(df_000.dtypes)"
   ],
   "id": "54b591ee6aa2dbe9",
   "outputs": [
    {
     "name": "stdout",
     "output_type": "stream",
     "text": [
      "板块            object\n",
      "公司全称          object\n",
      "英文名称          object\n",
      "注册地址          object\n",
      "A股代码          object\n",
      "A股简称          object\n",
      "A股上市日期        object\n",
      "A股总股本         object\n",
      "A股流通股本        object\n",
      "B股代码         float64\n",
      "B股 简 称        object\n",
      "B股上市日期        object\n",
      "B股总股本         object\n",
      "B股流通股本        object\n",
      "地      区      object\n",
      "省    份        object\n",
      "城     市       object\n",
      "所属行业          object\n",
      "公司网址          object\n",
      "未盈利           object\n",
      "具有表决权差异安排     object\n",
      "具有协议控制架构      object\n",
      "dtype: object\n"
     ]
    }
   ],
   "execution_count": 13
  },
  {
   "metadata": {
    "ExecuteTime": {
     "end_time": "2024-04-27T13:03:37.011184Z",
     "start_time": "2024-04-27T13:03:37.002941Z"
    }
   },
   "cell_type": "code",
   "source": [
    "# 筛选列\n",
    "df_600 = df_600[['A股代码', '证券简称', '公司英文全称', '上市日期']]\n",
    "df_600['板块'] = '上交所主板'\n",
    "df_688 = df_688[['A股代码', '证券简称', '公司英文全称', '上市日期']]\n",
    "df_688['板块'] = '上交所科创板'\n",
    "df_000 = df_000[['A股代码', 'A股简称', '英文名称', 'A股上市日期', '地      区', '省    份', '城     市', '所属行业']]\n",
    "df_000['板块'] = '深交所主板'\n",
    "df_300 = df_300[['A股代码', 'A股简称', '英文名称', 'A股上市日期', '地      区', '省    份', '城     市', '所属行业']]\n",
    "df_300['板块'] = '深交所创业板'\n",
    "# 删除空格\n",
    "df_000.columns = df_000.columns.str.strip()\n",
    "df_300.columns = df_300.columns.str.strip()"
   ],
   "id": "10499e75f8932c69",
   "outputs": [],
   "execution_count": 14
  },
  {
   "metadata": {
    "ExecuteTime": {
     "end_time": "2024-04-27T13:03:37.874029Z",
     "start_time": "2024-04-27T13:03:37.871091Z"
    }
   },
   "cell_type": "code",
   "source": [
    "# 重命名列\n",
    "df_600.columns = ['A股代码', 'A股简称', '英文名称', 'A股上市日期', '板块']\n",
    "df_688.columns = ['A股代码', 'A股简称', '英文名称', 'A股上市日期', '板块']"
   ],
   "id": "68b1bf63699bc3d",
   "outputs": [],
   "execution_count": 15
  },
  {
   "metadata": {
    "ExecuteTime": {
     "end_time": "2024-04-27T13:03:39.409767Z",
     "start_time": "2024-04-27T13:03:38.678409Z"
    }
   },
   "cell_type": "code",
   "source": [
    "# 分别输出四个数据框\n",
    "df_600.to_excel('b上交所主板.xlsx', index=False)\n",
    "df_688.to_excel('b上交所科创板.xlsx', index=False)\n",
    "df_000.to_excel('b深交所主板.xlsx', index=False)\n",
    "df_300.to_excel('b深交所创业板.xlsx', index=False)"
   ],
   "id": "3af9e73ab3791653",
   "outputs": [],
   "execution_count": 16
  },
  {
   "metadata": {},
   "cell_type": "markdown",
   "source": "## 为上交所主板_年报链接添加A股简称",
   "id": "a1149855d8147a45"
  },
  {
   "metadata": {
    "ExecuteTime": {
     "end_time": "2024-04-28T14:52:30.566Z",
     "start_time": "2024-04-28T14:52:29.313033Z"
    }
   },
   "cell_type": "code",
   "source": [
    "df = pd.read_excel('c上交所主板_年报链接.xlsx')\n",
    "print(df.head())"
   ],
   "id": "55f05053212df80",
   "outputs": [
    {
     "name": "stdout",
     "output_type": "stream",
     "text": [
      "                               报告名称  \\\n",
      "0                浦发银行：2022年年度报告(全文)   \n",
      "1  浦发银行：上海浦东发展银行股份有限公司2021年年度报告（全文）   \n",
      "2  浦发银行：上海浦东发展银行股份有限公司2020年年度报告(全文)   \n",
      "3                     浦发银行2019年年度报告   \n",
      "4                     浦发银行2018年年度报告   \n",
      "\n",
      "                                                报告链接         股票代码      流通市值  \\\n",
      "0  https://money.finance.sina.com.cn/corp/view/vC...  (600000.SH)  2177.93亿   \n",
      "1  https://money.finance.sina.com.cn/corp/view/vC...  (600000.SH)  2177.93亿   \n",
      "2  https://money.finance.sina.com.cn/corp/view/vC...  (600000.SH)  2177.93亿   \n",
      "3  https://money.finance.sina.com.cn/corp/view/vC...  (600000.SH)  2177.93亿   \n",
      "4  https://money.finance.sina.com.cn/corp/view/vC...  (600000.SH)  2177.93亿   \n",
      "\n",
      "        总市值   市盈率   市净率  \n",
      "0  2177.93亿  5.63  0.36  \n",
      "1  2177.93亿  5.63  0.36  \n",
      "2  2177.93亿  5.63  0.36  \n",
      "3  2177.93亿  5.63  0.36  \n",
      "4  2177.93亿  5.63  0.36  \n"
     ]
    }
   ],
   "execution_count": 8
  },
  {
   "metadata": {
    "ExecuteTime": {
     "end_time": "2024-04-28T14:52:31.392929Z",
     "start_time": "2024-04-28T14:52:31.246337Z"
    }
   },
   "cell_type": "code",
   "source": [
    "# 上交所主板\n",
    "df_600 = pd.read_excel('a上交所主板600_.xlsx', dtype={'A股代码': str})\n",
    "print(df_600.columns)"
   ],
   "id": "5ff936eb78fd91b2",
   "outputs": [
    {
     "name": "stdout",
     "output_type": "stream",
     "text": [
      "Index(['A股代码', 'B股代码', '证券简称', '扩位证券简称', '公司英文全称', '上市日期'], dtype='object')\n"
     ]
    }
   ],
   "execution_count": 9
  },
  {
   "metadata": {
    "ExecuteTime": {
     "end_time": "2024-04-28T14:52:32.514119Z",
     "start_time": "2024-04-28T14:52:32.413157Z"
    }
   },
   "cell_type": "code",
   "source": [
    "# df股票代码列删除标点符号和英文字符\n",
    "df['股票代码_delete'] = df['股票代码'].str.extract(r'(\\d+)')\n",
    "print(df.head())"
   ],
   "id": "6ca20869ae018c",
   "outputs": [
    {
     "name": "stdout",
     "output_type": "stream",
     "text": [
      "                               报告名称  \\\n",
      "0                浦发银行：2022年年度报告(全文)   \n",
      "1  浦发银行：上海浦东发展银行股份有限公司2021年年度报告（全文）   \n",
      "2  浦发银行：上海浦东发展银行股份有限公司2020年年度报告(全文)   \n",
      "3                     浦发银行2019年年度报告   \n",
      "4                     浦发银行2018年年度报告   \n",
      "\n",
      "                                                报告链接         股票代码      流通市值  \\\n",
      "0  https://money.finance.sina.com.cn/corp/view/vC...  (600000.SH)  2177.93亿   \n",
      "1  https://money.finance.sina.com.cn/corp/view/vC...  (600000.SH)  2177.93亿   \n",
      "2  https://money.finance.sina.com.cn/corp/view/vC...  (600000.SH)  2177.93亿   \n",
      "3  https://money.finance.sina.com.cn/corp/view/vC...  (600000.SH)  2177.93亿   \n",
      "4  https://money.finance.sina.com.cn/corp/view/vC...  (600000.SH)  2177.93亿   \n",
      "\n",
      "        总市值   市盈率   市净率 股票代码_delete  \n",
      "0  2177.93亿  5.63  0.36      600000  \n",
      "1  2177.93亿  5.63  0.36      600000  \n",
      "2  2177.93亿  5.63  0.36      600000  \n",
      "3  2177.93亿  5.63  0.36      600000  \n",
      "4  2177.93亿  5.63  0.36      600000  \n"
     ]
    }
   ],
   "execution_count": 10
  },
  {
   "metadata": {
    "ExecuteTime": {
     "end_time": "2024-04-28T14:52:45.126178Z",
     "start_time": "2024-04-28T14:52:45.099884Z"
    }
   },
   "cell_type": "code",
   "source": [
    "# 按照df_600中'A股代码'和'证券简称'的一一对应关系，为df中的'股票代码'添加'A股简称'\n",
    "df = pd.merge(df, df_600[['A股代码', '证券简称']], left_on='股票代码_delete', right_on='A股代码', how='left')\n",
    "# 重命名df['证券简称']为'A股简称'\n",
    "df = df.rename(columns={'证券简称': 'A股简称'})\n",
    "print(df.head())"
   ],
   "id": "9e1e48c3d3223634",
   "outputs": [
    {
     "name": "stdout",
     "output_type": "stream",
     "text": [
      "                               报告名称  \\\n",
      "0                浦发银行：2022年年度报告(全文)   \n",
      "1  浦发银行：上海浦东发展银行股份有限公司2021年年度报告（全文）   \n",
      "2  浦发银行：上海浦东发展银行股份有限公司2020年年度报告(全文)   \n",
      "3                     浦发银行2019年年度报告   \n",
      "4                     浦发银行2018年年度报告   \n",
      "\n",
      "                                                报告链接         股票代码      流通市值  \\\n",
      "0  https://money.finance.sina.com.cn/corp/view/vC...  (600000.SH)  2177.93亿   \n",
      "1  https://money.finance.sina.com.cn/corp/view/vC...  (600000.SH)  2177.93亿   \n",
      "2  https://money.finance.sina.com.cn/corp/view/vC...  (600000.SH)  2177.93亿   \n",
      "3  https://money.finance.sina.com.cn/corp/view/vC...  (600000.SH)  2177.93亿   \n",
      "4  https://money.finance.sina.com.cn/corp/view/vC...  (600000.SH)  2177.93亿   \n",
      "\n",
      "        总市值   市盈率   市净率 股票代码_delete    A股代码  A股简称  \n",
      "0  2177.93亿  5.63  0.36      600000  600000  浦发银行  \n",
      "1  2177.93亿  5.63  0.36      600000  600000  浦发银行  \n",
      "2  2177.93亿  5.63  0.36      600000  600000  浦发银行  \n",
      "3  2177.93亿  5.63  0.36      600000  600000  浦发银行  \n",
      "4  2177.93亿  5.63  0.36      600000  600000  浦发银行  \n",
      "报告名称           14419\n",
      "报告链接           14419\n",
      "股票代码           14419\n",
      "流通市值           14419\n",
      "总市值            14419\n",
      "市盈率            14419\n",
      "市净率            14419\n",
      "股票代码_delete    14419\n",
      "A股代码           14419\n",
      "A股简称           14419\n",
      "dtype: int64\n"
     ]
    }
   ],
   "execution_count": 11
  },
  {
   "metadata": {
    "ExecuteTime": {
     "end_time": "2024-04-28T14:55:18.597528Z",
     "start_time": "2024-04-28T14:55:18.580173Z"
    }
   },
   "cell_type": "code",
   "source": [
    "df = df.drop(columns=['股票代码_delete','A股代码'])\n",
    "# 检查缺失值\n",
    "print(df.isnull().sum())"
   ],
   "id": "4870c9062cc97ad7",
   "outputs": [
    {
     "name": "stdout",
     "output_type": "stream",
     "text": [
      "报告名称    0\n",
      "报告链接    0\n",
      "股票代码    0\n",
      "流通市值    0\n",
      "总市值     0\n",
      "市盈率     0\n",
      "市净率     0\n",
      "A股简称    0\n",
      "dtype: int64\n"
     ]
    }
   ],
   "execution_count": 13
  },
  {
   "metadata": {
    "ExecuteTime": {
     "end_time": "2024-04-28T15:00:36.480175Z",
     "start_time": "2024-04-28T15:00:33.986903Z"
    }
   },
   "cell_type": "code",
   "source": "df.to_excel('c上交所主板_年报链接.xlsx', index=False)",
   "id": "796d63f9cbec1b70",
   "outputs": [],
   "execution_count": 14
  },
  {
   "metadata": {},
   "cell_type": "markdown",
   "source": "## 为股票列表添加地区和行业",
   "id": "fc5dccfa7089e2ed"
  },
  {
   "metadata": {
    "ExecuteTime": {
     "end_time": "2024-05-03T07:25:06.235246Z",
     "start_time": "2024-05-03T07:25:05.588861Z"
    }
   },
   "cell_type": "code",
   "source": [
    "import pandas as pd\n",
    "# 上交所主板\n",
    "df_600 = pd.read_excel('E:/ggq的文件/比赛/24统计建模/data/b上交所主板.xlsx', dtype={'A股代码': str})\n",
    "print(df_600.columns)\n",
    "# 上交所科创板\n",
    "df_688 = pd.read_excel('E:/ggq的文件/比赛/24统计建模/data/b上交所科创板.xlsx', dtype={'A股代码': str})\n",
    "print(df_688.columns)\n",
    "# 深交所主板\n",
    "df_000 = pd.read_excel('E:/ggq的文件/比赛/24统计建模/data/b深交所主板.xlsx', dtype={'A股代码': str})\n",
    "print(df_000.columns)\n",
    "# 深交所创业板\n",
    "df_300 = pd.read_excel('E:/ggq的文件/比赛/24统计建模/data/b深交所创业板.xlsx', dtype={'A股代码': str})\n",
    "print(df_300.columns)"
   ],
   "id": "85551cc469debf6",
   "outputs": [
    {
     "name": "stdout",
     "output_type": "stream",
     "text": [
      "Index(['A股代码', 'A股简称', '英文名称', 'A股上市日期', '板块'], dtype='object')\n",
      "Index(['A股代码', 'A股简称', '英文名称', 'A股上市日期', '板块'], dtype='object')\n",
      "Index(['A股代码', 'A股简称', '英文名称', 'A股上市日期', '地区', '省份', '城市', '所属行业', '板块'], dtype='object')\n",
      "Index(['A股代码', 'A股简称', '英文名称', 'A股上市日期', '地区', '省份', '城市', '所属行业', '板块'], dtype='object')\n"
     ]
    }
   ],
   "execution_count": 3
  },
  {
   "metadata": {
    "ExecuteTime": {
     "end_time": "2024-05-03T07:31:24.989339Z",
     "start_time": "2024-05-03T07:31:24.984774Z"
    }
   },
   "cell_type": "code",
   "source": [
    "industry_ID_LIST = df_000['所属行业'].unique().tolist()\n",
    "print(industry_ID_LIST)"
   ],
   "id": "5df1a833820b0199",
   "outputs": [
    {
     "name": "stdout",
     "output_type": "stream",
     "text": [
      "['J 金融业', 'K 房地产', 'I 信息技术', 'C 制造业', 'E 建筑业', 'F 批发零售', 'D 水电煤气', 'N 公共环保', 'A 农林牧渔', 'L 商务服务', 'M 科研服务', 'G 运输仓储', 'B 采矿业', 'H 住宿餐饮', 'Q 卫生', 'P 教育', 'S 综合', 'R 文化传播']\n"
     ]
    }
   ],
   "execution_count": 11
  },
  {
   "metadata": {
    "ExecuteTime": {
     "end_time": "2024-05-03T07:30:37.926340Z",
     "start_time": "2024-05-03T07:30:37.727093Z"
    }
   },
   "cell_type": "code",
   "source": [
    "# 上交所行业列表\n",
    "df_industry = pd.read_excel('E:/ggq的文件/比赛/24统计建模/data/上市公司行业分类列表_上海证券交易所.xlsx')\n",
    "df_industry = df_industry[['A股代码', '行业名称', '行业代码']]\n",
    "print(df_industry.columns)\n",
    "print(df_industry.head())"
   ],
   "id": "67eaaba748efde83",
   "outputs": [
    {
     "name": "stdout",
     "output_type": "stream",
     "text": [
      "Index(['A股代码', '行业名称', '行业代码'], dtype='object')\n",
      "     A股代码 行业名称 行业代码\n",
      "0  600108   农业  A01\n",
      "1  600359   农业  A01\n",
      "2  600540   农业  A01\n",
      "3  600598   农业  A01\n",
      "4  601118   农业  A01\n"
     ]
    }
   ],
   "execution_count": 9
  },
  {
   "metadata": {
    "ExecuteTime": {
     "end_time": "2024-05-03T07:32:04.259243Z",
     "start_time": "2024-05-03T07:32:04.254708Z"
    }
   },
   "cell_type": "code",
   "source": [
    "industry_ID_LIST_shangjiaosuo = df_industry['行业代码'].unique().tolist()\n",
    "print(industry_ID_LIST_shangjiaosuo)"
   ],
   "id": "67e207108794e31d",
   "outputs": [
    {
     "name": "stdout",
     "output_type": "stream",
     "text": [
      "['A01', 'A03', 'A04', 'A05', 'B06', 'B07', 'B08', 'B09', 'B10', 'B11', 'C13', 'C14', 'C15', 'C17', 'C18', 'C19', 'C20', 'C21', 'C22', 'C23', 'C24', 'C25', 'C26', 'C27', 'C28', 'C29', 'C30', 'C31', 'C32', 'C33', 'C34', 'C35', 'C36', 'C37', 'C38', 'C39', 'C40', 'C41', 'C42', 'D44', 'D45', 'D46', 'E47', 'E48', 'E49', 'E50', 'F51', 'F52', 'G53', 'G54', 'G55', 'G56', 'G57', 'G58', 'G59', 'G60', 'H61', 'H62', 'I63', 'I64', 'I65', 'J66', 'J67', 'J68', 'J69', 'K70', 'L71', 'L72', 'M73', 'M74', 'N77', 'N78', 'P83', 'Q84', 'R86', 'R87', 'R88', 'R89', 'S91']\n"
     ]
    }
   ],
   "execution_count": 12
  },
  {
   "metadata": {
    "ExecuteTime": {
     "end_time": "2024-05-03T07:35:00.777444Z",
     "start_time": "2024-05-03T07:35:00.769336Z"
    }
   },
   "cell_type": "code",
   "source": [
    "industry_mapping = {x.split(' ')[0]: x for x in industry_ID_LIST}\n",
    "print(industry_mapping)\n",
    "df_industry['所属行业'] = df_industry['行业代码'].apply(lambda x: industry_mapping.get(x[0], '未知行业'))\n",
    "print(df_industry.head())\n",
    "print(df_industry['所属行业'].unique())"
   ],
   "id": "a40e66c63d1b6d8a",
   "outputs": [
    {
     "name": "stdout",
     "output_type": "stream",
     "text": [
      "{'J': 'J 金融业', 'K': 'K 房地产', 'I': 'I 信息技术', 'C': 'C 制造业', 'E': 'E 建筑业', 'F': 'F 批发零售', 'D': 'D 水电煤气', 'N': 'N 公共环保', 'A': 'A 农林牧渔', 'L': 'L 商务服务', 'M': 'M 科研服务', 'G': 'G 运输仓储', 'B': 'B 采矿业', 'H': 'H 住宿餐饮', 'Q': 'Q 卫生', 'P': 'P 教育', 'S': 'S 综合', 'R': 'R 文化传播'}\n",
      "     A股代码 行业名称 行业代码    所属行业\n",
      "0  600108   农业  A01  A 农林牧渔\n",
      "1  600359   农业  A01  A 农林牧渔\n",
      "2  600540   农业  A01  A 农林牧渔\n",
      "3  600598   农业  A01  A 农林牧渔\n",
      "4  601118   农业  A01  A 农林牧渔\n",
      "['A 农林牧渔' 'B 采矿业' 'C 制造业' 'D 水电煤气' 'E 建筑业' 'F 批发零售' 'G 运输仓储' 'H 住宿餐饮'\n",
      " 'I 信息技术' 'J 金融业' 'K 房地产' 'L 商务服务' 'M 科研服务' 'N 公共环保' 'P 教育' 'Q 卫生'\n",
      " 'R 文化传播' 'S 综合']\n"
     ]
    }
   ],
   "execution_count": 14
  },
  {
   "metadata": {
    "ExecuteTime": {
     "end_time": "2024-05-03T07:38:32.887550Z",
     "start_time": "2024-05-03T07:38:32.879482Z"
    }
   },
   "cell_type": "code",
   "source": [
    "df_industry = df_industry[['A股代码', '所属行业']]\n",
    "print(df_industry.head())"
   ],
   "id": "3bc08e5339045ede",
   "outputs": [
    {
     "name": "stdout",
     "output_type": "stream",
     "text": [
      "     A股代码    所属行业\n",
      "0  600108  A 农林牧渔\n",
      "1  600359  A 农林牧渔\n",
      "2  600540  A 农林牧渔\n",
      "3  600598  A 农林牧渔\n",
      "4  601118  A 农林牧渔\n"
     ]
    }
   ],
   "execution_count": 16
  },
  {
   "metadata": {
    "ExecuteTime": {
     "end_time": "2024-05-03T07:37:06.063433Z",
     "start_time": "2024-05-03T07:37:06.053838Z"
    }
   },
   "cell_type": "code",
   "source": [
    "print(df_600.head())\n",
    "print(df_688.head())"
   ],
   "id": "83075126e7e71efe",
   "outputs": [
    {
     "name": "stdout",
     "output_type": "stream",
     "text": [
      "     A股代码  A股简称                                               英文名称    A股上市日期  \\\n",
      "0  600000  浦发银行          Shanghai Pudong Development Bank Co.,Ltd.  19991110   \n",
      "1  600004  白云机场  Guangzhou Baiyun International Airport Company...  20030428   \n",
      "2  600006  东风汽车                       DONGFENG AUTOMOBILE CO.,LTD.  19990727   \n",
      "3  600007  中国国贸                  China World Trade Center Co.,Ltd.  19990312   \n",
      "4  600008  首创环保  BEIJING CAPITAL ECO-ENVIRONMENT PROTECTION GRO...  20000427   \n",
      "\n",
      "      板块  \n",
      "0  上交所主板  \n",
      "1  上交所主板  \n",
      "2  上交所主板  \n",
      "3  上交所主板  \n",
      "4  上交所主板  \n",
      "     A股代码  A股简称                                          英文名称    A股上市日期  \\\n",
      "0  688001  华兴源创                 SUZHOU HYC TECHNOLOGY CO.,LTD  20190722   \n",
      "1  688002  睿创微纳                   RAYTRON TECHNOLOGY CO.,LTD.  20190722   \n",
      "2  688003  天准科技              SUZHOU TZTEK TECHNOLOGY CO., LTD  20190722   \n",
      "3  688004  博汇科技    BEIJING BOHUI SCIENCE & TECHNOLOGY CO.,LTD  20200612   \n",
      "4  688005  容百科技  Ningbo Ronbay New Energy Technology Co.,Ltd.  20190722   \n",
      "\n",
      "       板块  \n",
      "0  上交所科创板  \n",
      "1  上交所科创板  \n",
      "2  上交所科创板  \n",
      "3  上交所科创板  \n",
      "4  上交所科创板  \n"
     ]
    }
   ],
   "execution_count": 15
  },
  {
   "metadata": {
    "ExecuteTime": {
     "end_time": "2024-05-03T07:30:41.191311Z",
     "start_time": "2024-05-03T07:30:41.036987Z"
    }
   },
   "cell_type": "code",
   "source": [
    "# 上交所地区列表\n",
    "df_area = pd.read_excel('E:/ggq的文件/比赛/24统计建模/data/上市公司地区分类列表_上海证券交易所.xlsx')\n",
    "df_area = df_area[['A股代码', '地区']]\n",
    "print(df_area.columns)\n",
    "print(df_area.head())"
   ],
   "id": "3fbf4e7bb8e07d7d",
   "outputs": [
    {
     "name": "stdout",
     "output_type": "stream",
     "text": [
      "Index(['A股代码', '地区'], dtype='object')\n",
      "     A股代码   地区\n",
      "0  600012  安徽省\n",
      "1  600054  安徽省\n",
      "2  600063  安徽省\n",
      "3  600199  安徽省\n",
      "4  600218  安徽省\n"
     ]
    }
   ],
   "execution_count": 10
  },
  {
   "metadata": {
    "ExecuteTime": {
     "end_time": "2024-05-03T07:38:57.665058Z",
     "start_time": "2024-05-03T07:38:57.640491Z"
    }
   },
   "cell_type": "code",
   "source": [
    "# 按照A股代码将'所属行业'和'地区'对应拼接到df_600和df_688\n",
    "df_600 = pd.merge(df_600, df_industry, on='A股代码', how='left')\n",
    "df_600 = pd.merge(df_600, df_area, on='A股代码', how='left')\n",
    "df_688 = pd.merge(df_688, df_industry, on='A股代码', how='left')\n",
    "df_688 = pd.merge(df_688, df_area, on='A股代码', how='left')"
   ],
   "id": "c5805e88808c48e6",
   "outputs": [],
   "execution_count": 17
  },
  {
   "metadata": {
    "ExecuteTime": {
     "end_time": "2024-05-03T07:38:59.269287Z",
     "start_time": "2024-05-03T07:38:59.260093Z"
    }
   },
   "cell_type": "code",
   "source": [
    "print(df_600.head())\n",
    "print(df_688.head())"
   ],
   "id": "e55e97a82cf6a8db",
   "outputs": [
    {
     "name": "stdout",
     "output_type": "stream",
     "text": [
      "     A股代码  A股简称                                               英文名称    A股上市日期  \\\n",
      "0  600000  浦发银行          Shanghai Pudong Development Bank Co.,Ltd.  19991110   \n",
      "1  600004  白云机场  Guangzhou Baiyun International Airport Company...  20030428   \n",
      "2  600006  东风汽车                       DONGFENG AUTOMOBILE CO.,LTD.  19990727   \n",
      "3  600007  中国国贸                  China World Trade Center Co.,Ltd.  19990312   \n",
      "4  600008  首创环保  BEIJING CAPITAL ECO-ENVIRONMENT PROTECTION GRO...  20000427   \n",
      "\n",
      "      板块    所属行业   地区  \n",
      "0  上交所主板   J 金融业  上海市  \n",
      "1  上交所主板  G 运输仓储  广东省  \n",
      "2  上交所主板   C 制造业  湖北省  \n",
      "3  上交所主板   K 房地产  北京市  \n",
      "4  上交所主板  D 水电煤气  北京市  \n",
      "     A股代码  A股简称                                          英文名称    A股上市日期  \\\n",
      "0  688001  华兴源创                 SUZHOU HYC TECHNOLOGY CO.,LTD  20190722   \n",
      "1  688002  睿创微纳                   RAYTRON TECHNOLOGY CO.,LTD.  20190722   \n",
      "2  688003  天准科技              SUZHOU TZTEK TECHNOLOGY CO., LTD  20190722   \n",
      "3  688004  博汇科技    BEIJING BOHUI SCIENCE & TECHNOLOGY CO.,LTD  20200612   \n",
      "4  688005  容百科技  Ningbo Ronbay New Energy Technology Co.,Ltd.  20190722   \n",
      "\n",
      "       板块    所属行业   地区  \n",
      "0  上交所科创板   C 制造业  江苏省  \n",
      "1  上交所科创板   C 制造业  山东省  \n",
      "2  上交所科创板   C 制造业  江苏省  \n",
      "3  上交所科创板  I 信息技术  北京市  \n",
      "4  上交所科创板   C 制造业  浙江省  \n"
     ]
    }
   ],
   "execution_count": 18
  },
  {
   "metadata": {
    "ExecuteTime": {
     "end_time": "2024-05-03T07:39:25.640013Z",
     "start_time": "2024-05-03T07:39:25.635145Z"
    }
   },
   "cell_type": "code",
   "source": [
    "print(df_600.columns)\n",
    "print(df_688.columns)\n",
    "print(df_000.columns)\n",
    "print(df_300.columns)"
   ],
   "id": "dde60dc7f7f2ddf",
   "outputs": [
    {
     "name": "stdout",
     "output_type": "stream",
     "text": [
      "Index(['A股代码', 'A股简称', '英文名称', 'A股上市日期', '板块', '所属行业', '地区'], dtype='object')\n",
      "Index(['A股代码', 'A股简称', '英文名称', 'A股上市日期', '板块', '所属行业', '地区'], dtype='object')\n",
      "Index(['A股代码', 'A股简称', '英文名称', 'A股上市日期', '地区', '省份', '城市', '所属行业', '板块'], dtype='object')\n",
      "Index(['A股代码', 'A股简称', '英文名称', 'A股上市日期', '地区', '省份', '城市', '所属行业', '板块'], dtype='object')\n"
     ]
    }
   ],
   "execution_count": 19
  },
  {
   "metadata": {
    "ExecuteTime": {
     "end_time": "2024-05-03T07:40:12.589002Z",
     "start_time": "2024-05-03T07:40:12.584352Z"
    }
   },
   "cell_type": "code",
   "source": [
    "# 检查缺失值\n",
    "print(df_688.isnull().sum())"
   ],
   "id": "33529690bd9f523c",
   "outputs": [
    {
     "name": "stdout",
     "output_type": "stream",
     "text": [
      "A股代码      0\n",
      "A股简称      0\n",
      "英文名称      0\n",
      "A股上市日期    0\n",
      "板块        0\n",
      "所属行业      0\n",
      "地区        0\n",
      "dtype: int64\n"
     ]
    }
   ],
   "execution_count": 21
  },
  {
   "metadata": {
    "ExecuteTime": {
     "end_time": "2024-05-03T07:40:58.694596Z",
     "start_time": "2024-05-03T07:40:58.689483Z"
    }
   },
   "cell_type": "code",
   "source": [
    "# 统一列的排序\n",
    "df_600 = df_600[['A股代码', 'A股简称', '英文名称', 'A股上市日期', '地区', '所属行业', '板块']]\n",
    "df_688 = df_688[['A股代码', 'A股简称', '英文名称', 'A股上市日期', '地区', '所属行业', '板块']]"
   ],
   "id": "ddfe6c68ff3407e5",
   "outputs": [],
   "execution_count": 22
  },
  {
   "metadata": {
    "ExecuteTime": {
     "end_time": "2024-05-03T07:45:42.134324Z",
     "start_time": "2024-05-03T07:45:42.126083Z"
    }
   },
   "cell_type": "code",
   "source": [
    "# 重命名为省份\n",
    "df_600 = df_600.rename(columns={'地区': '省份'})\n",
    "df_688 = df_688.rename(columns={'地区': '省份'})"
   ],
   "id": "846e8477100c0466",
   "outputs": [],
   "execution_count": 24
  },
  {
   "metadata": {
    "ExecuteTime": {
     "end_time": "2024-05-03T07:46:23.867875Z",
     "start_time": "2024-05-03T07:46:23.862890Z"
    }
   },
   "cell_type": "code",
   "source": [
    "print(df_600['省份'].unique())\n",
    "print(df_688['省份'].unique())"
   ],
   "id": "a9acadf1afab3d42",
   "outputs": [
    {
     "name": "stdout",
     "output_type": "stream",
     "text": [
      "['上海市' '广东省' '湖北省' '北京市' '内蒙古自治区' '安徽省' '山东省' '河南省' '浙江省' '云南省' '福建省'\n",
      " '黑龙江省' '四川省' '江西省' '江苏省' '新疆维吾尔自治区' '陕西省' '天津市' '重庆市' '甘肃省' '吉林省' '贵州省'\n",
      " '青海省' '山西省' '辽宁省' '湖南省' '河北省' '宁夏回族自治区' '西藏自治区' '海南省' '广西壮族自治区' '境外']\n",
      "['江苏省' '山东省' '北京市' '浙江省' '广东省' '上海市' '福建省' '黑龙江省' '安徽省' '辽宁省' '湖北省' '天津市'\n",
      " '四川省' '江西省' '湖南省' '陕西省' '河南省' '河北省' '境外' '贵州省' '吉林省' '新疆维吾尔自治区' '重庆市'\n",
      " '海南省']\n"
     ]
    }
   ],
   "execution_count": 26
  },
  {
   "metadata": {
    "ExecuteTime": {
     "end_time": "2024-05-03T11:13:54.454147Z",
     "start_time": "2024-05-03T11:13:54.450128Z"
    }
   },
   "cell_type": "code",
   "source": [
    "print(df_000['省份'].unique())\n",
    "print(df_300['省份'].unique())"
   ],
   "id": "1885cef6871ea0de",
   "outputs": [
    {
     "name": "stdout",
     "output_type": "stream",
     "text": [
      "['广东' '北京' '吉林' '江苏' '辽宁' '安徽' '四川' '浙江' '湖南' '河北' '新疆' '山东' '河南' '山西'\n",
      " '江西' '青海' '湖北' '内蒙古' '海南' '重庆' '陕西' '福建' '广西' '天津' '云南' '甘肃' '宁夏' '贵州'\n",
      " '黑龙江' '西藏' '上海']\n",
      "['山东' '北京' '广东' '重庆' '河南' '上海' '安徽' '湖南' '湖北' '四川' '浙江' '甘肃' '辽宁' '天津'\n",
      " '江苏' '黑龙江' '内蒙古' '福建' '江西' '山西' '海南' '陕西' '新疆' '河北' '吉林' '云南' '贵州' '广西'\n",
      " '西藏' '宁夏']\n"
     ]
    }
   ],
   "execution_count": 27
  },
  {
   "metadata": {
    "ExecuteTime": {
     "end_time": "2024-05-03T11:21:19.485719Z",
     "start_time": "2024-05-03T11:21:19.480115Z"
    }
   },
   "cell_type": "code",
   "source": [
    "province_mapping = {\n",
    "    '上海市': '上海',\n",
    "    '广东省': '广东',\n",
    "    '湖北省': '湖北',\n",
    "    '北京市': '北京',\n",
    "    '内蒙古自治区': '内蒙古',\n",
    "    '安徽省': '安徽',\n",
    "    '山东省': '山东',\n",
    "    '河南省': '河南',\n",
    "    '浙江省': '浙江',\n",
    "    '云南省': '云南',\n",
    "    '福建省': '福建',\n",
    "    '黑龙江省': '黑龙江',\n",
    "    '四川省': '四川',\n",
    "    '江西省': '江西',\n",
    "    '江苏省': '江苏',\n",
    "    '新疆维吾尔自治区': '新疆',\n",
    "    '陕西省': '陕西',\n",
    "    '天津市': '天津',\n",
    "    '重庆市': '重庆',\n",
    "    '甘肃省': '甘肃',\n",
    "    '吉林省': '吉林',\n",
    "    '贵州省': '贵州',\n",
    "    '青海省': '青海',\n",
    "    '山西省': '山西',\n",
    "    '辽宁省': '辽宁',\n",
    "    '湖南省': '湖南',\n",
    "    '河北省': '河北',\n",
    "    '宁夏回族自治区': '宁夏',\n",
    "    '西藏自治区': '西藏',\n",
    "    '海南省': '海南',\n",
    "    '广西壮族自治区': '广西',\n",
    "    '境外': '境外'\n",
    "}\n",
    "\n",
    "df_600['省份'] = df_600['省份'].map(province_mapping)\n",
    "df_688['省份'] = df_688['省份'].map(province_mapping)"
   ],
   "id": "32d3f0df63ee3135",
   "outputs": [],
   "execution_count": 28
  },
  {
   "metadata": {
    "ExecuteTime": {
     "end_time": "2024-05-03T11:22:49.842826Z",
     "start_time": "2024-05-03T11:22:49.585396Z"
    }
   },
   "cell_type": "code",
   "source": [
    "df_600.to_excel('E:/ggq的文件/比赛/24统计建模/data/b上交所主板.xlsx', index=False)\n",
    "df_688.to_excel('E:/ggq的文件/比赛/24统计建模/data/b上交所科创板.xlsx', index=False)"
   ],
   "id": "f654ec70054618a4",
   "outputs": [],
   "execution_count": 29
  },
  {
   "metadata": {},
   "cell_type": "markdown",
   "source": "## 其他",
   "id": "30de23642a0852cf"
  },
  {
   "metadata": {
    "ExecuteTime": {
     "end_time": "2024-05-03T14:05:05.030819Z",
     "start_time": "2024-05-03T14:05:03.477062Z"
    }
   },
   "cell_type": "code",
   "source": [
    "green =pd.read_excel('E:/ggq的文件/比赛/24统计建模/regress/a股上市公司绿色+控制变量07-22.xlsx', dtype={'证券代码': str})\n",
    "print(green.shape)\n",
    "print(green.columns)\n",
    "# 计算有多少个公司\n",
    "print(green['证券代码'].nunique())"
   ],
   "id": "5d906de0220a79cd",
   "outputs": [
    {
     "name": "stdout",
     "output_type": "stream",
     "text": [
      "(46424, 5)\n",
      "Index(['证券代码', 'year', '企业绿色全要素生产率', '绿色技术效率变化指数', '绿色技术进步变化指数'], dtype='object')\n",
      "4582\n"
     ]
    }
   ],
   "execution_count": 55
  },
  {
   "metadata": {
    "ExecuteTime": {
     "end_time": "2024-05-03T14:05:06.094657Z",
     "start_time": "2024-05-03T14:05:05.709555Z"
    }
   },
   "cell_type": "code",
   "source": [
    "df_600  = pd.read_excel('E:/ggq的文件/比赛/24统计建模/data/b上交所主板.xlsx', dtype={'A股代码': str})\n",
    "df_688  = pd.read_excel('E:/ggq的文件/比赛/24统计建模/data/b上交所科创板.xlsx', dtype={'A股代码': str})\n",
    "df_000  = pd.read_excel('E:/ggq的文件/比赛/24统计建模/data/b深交所主板.xlsx', dtype={'A股代码': str})\n",
    "df_300  = pd.read_excel('E:/ggq的文件/比赛/24统计建模/data/b深交所创业板.xlsx', dtype={'A股代码': str})\n",
    "df_all = pd.concat([df_600, df_688, df_000, df_300], axis=0)\n",
    "print(df_all.shape)\n",
    "print(df_all.columns)"
   ],
   "id": "a27422297646f3db",
   "outputs": [
    {
     "name": "stdout",
     "output_type": "stream",
     "text": [
      "(5113, 9)\n",
      "Index(['A股代码', 'A股简称', '英文名称', 'A股上市日期', '省份', '所属行业', '板块', '地区', '城市'], dtype='object')\n"
     ]
    }
   ],
   "execution_count": 56
  },
  {
   "metadata": {
    "ExecuteTime": {
     "end_time": "2024-05-03T14:05:06.700965Z",
     "start_time": "2024-05-03T14:05:06.686135Z"
    }
   },
   "cell_type": "code",
   "source": [
    "# 按照代码将省份、所属行业和板块拼接到green\n",
    "df_merge = df_all[['A股代码', '省份', '所属行业', '板块']]\n",
    "green = pd.merge(green, df_merge, left_on='证券代码', right_on='A股代码', how='left')\n",
    "print(green.shape)\n",
    "print(green.columns)"
   ],
   "id": "f52b68890f36b43b",
   "outputs": [
    {
     "name": "stdout",
     "output_type": "stream",
     "text": [
      "(46424, 9)\n",
      "Index(['证券代码', 'year', '企业绿色全要素生产率', '绿色技术效率变化指数', '绿色技术进步变化指数', 'A股代码', '省份',\n",
      "       '所属行业', '板块'],\n",
      "      dtype='object')\n"
     ]
    }
   ],
   "execution_count": 57
  },
  {
   "metadata": {
    "ExecuteTime": {
     "end_time": "2024-05-03T14:05:08.650231Z",
     "start_time": "2024-05-03T14:05:08.642972Z"
    }
   },
   "cell_type": "code",
   "source": "green = green.rename(columns={'year': '年份'})",
   "id": "3dabb6ce9e7eecc9",
   "outputs": [],
   "execution_count": 58
  },
  {
   "metadata": {
    "ExecuteTime": {
     "end_time": "2024-05-03T14:05:09.844668Z",
     "start_time": "2024-05-03T14:05:09.840Z"
    }
   },
   "cell_type": "code",
   "source": [
    "# 统计不同板块各有多少个数据\n",
    "print(green['板块'].value_counts())"
   ],
   "id": "50bedadd51c6bc95",
   "outputs": [
    {
     "name": "stdout",
     "output_type": "stream",
     "text": [
      "板块\n",
      "深交所主板     17082\n",
      "上交所主板     16893\n",
      "深交所创业板     6497\n",
      "上交所科创板      563\n",
      "Name: count, dtype: int64\n"
     ]
    }
   ],
   "execution_count": 59
  },
  {
   "metadata": {
    "ExecuteTime": {
     "end_time": "2024-05-03T14:05:11.228931Z",
     "start_time": "2024-05-03T14:05:11.224300Z"
    }
   },
   "cell_type": "code",
   "source": [
    "# 统计板块列为空的值有多少个\n",
    "print(green['板块'].isnull().sum())"
   ],
   "id": "657a67e7c6bc0c06",
   "outputs": [
    {
     "name": "stdout",
     "output_type": "stream",
     "text": [
      "5389\n"
     ]
    }
   ],
   "execution_count": 60
  },
  {
   "metadata": {
    "ExecuteTime": {
     "end_time": "2024-05-03T14:05:42.032753Z",
     "start_time": "2024-05-03T14:05:38.242851Z"
    }
   },
   "cell_type": "code",
   "source": "green.to_excel('E:/ggq的文件/比赛/24统计建模/regress/加信息a股上市公司绿色变量07-22.xlsx', index=False)",
   "id": "22a4d52b6d833298",
   "outputs": [],
   "execution_count": 62
  },
  {
   "metadata": {
    "ExecuteTime": {
     "end_time": "2024-05-03T14:10:33.041551Z",
     "start_time": "2024-05-03T14:10:29.873643Z"
    }
   },
   "cell_type": "code",
   "source": [
    "control = pd.read_excel(\n",
    "    'E:/ggq的文件/比赛/24统计建模/regress/a股上市公司绿色+控制变量07-22.xlsx',\n",
    "    sheet_name='控制变量07-22',\n",
    "    dtype={'证券代码ID': str}  \n",
    ")\n",
    "# 重命名\n",
    "control = control.rename(columns={'证券代码ID': '证券代码'})\n",
    "print(control.shape)\n",
    "print(control.columns)\n",
    "print(control['证券代码'].nunique())"
   ],
   "id": "6bd84ce4f0af6f0b",
   "outputs": [
    {
     "name": "stdout",
     "output_type": "stream",
     "text": [
      "(48713, 12)\n",
      "Index(['证券代码', '年份', '企业规模', '资产负债率', '总资产增长率', '董事会规模', '两职合一',\n",
      "       '第一大股东持股数量/总股数', '托宾Q值', '产权性质，国企为1，否则为0', '上市年限', '成立年限'],\n",
      "      dtype='object')\n",
      "5281\n"
     ]
    }
   ],
   "execution_count": 66
  },
  {
   "metadata": {
    "ExecuteTime": {
     "end_time": "2024-05-03T14:12:24.842503Z",
     "start_time": "2024-05-03T14:12:24.802298Z"
    }
   },
   "cell_type": "code",
   "source": [
    "control['证券代码'] = control['证券代码'].astype(str).str.zfill(6)\n",
    "print(control.head())"
   ],
   "id": "ec260880a09e6a82",
   "outputs": [
    {
     "name": "stdout",
     "output_type": "stream",
     "text": [
      "     证券代码    年份       企业规模     资产负债率    总资产增长率     董事会规模  两职合一  第一大股东持股数量/总股数  \\\n",
      "0  000001  2007  26.588428  0.963107  0.352922  2.639057     0        16.6963   \n",
      "1  000001  2008  26.885401  0.965431  0.345779  2.639057     0        16.7582   \n",
      "2  000001  2009  27.099670  0.965177  0.238957  2.708050     0        16.7582   \n",
      "3  000001  2010  27.312477  0.954349  0.237144  2.708050     0        14.9632   \n",
      "4  000001  2011  27.860685  0.940087  0.730150  2.890372     0        42.1562   \n",
      "\n",
      "       托宾Q值  产权性质，国企为1，否则为0      上市年限      成立年限  \n",
      "0  1.164096             0.0  2.833213  3.044523  \n",
      "1  1.024526             0.0  2.890372  3.091043  \n",
      "2  1.088440             0.0  2.944439  3.135494  \n",
      "3  1.026750             0.0  2.995732  3.178054  \n",
      "4  1.002164             0.0  3.044523  3.218876  \n"
     ]
    }
   ],
   "execution_count": 68
  },
  {
   "metadata": {
    "ExecuteTime": {
     "end_time": "2024-05-03T14:12:30.917880Z",
     "start_time": "2024-05-03T14:12:30.889597Z"
    }
   },
   "cell_type": "code",
   "source": [
    "# 拼接green和control\n",
    "all_green_control = pd.merge(green, control, on=['证券代码','年份'], how='left')\n",
    "print(all_green_control.shape)\n",
    "print(all_green_control.columns)\n",
    "print(all_green_control.isnull().sum())"
   ],
   "id": "8a7ab87312c4863c",
   "outputs": [
    {
     "name": "stdout",
     "output_type": "stream",
     "text": [
      "(46424, 19)\n",
      "Index(['证券代码', '年份', '企业绿色全要素生产率', '绿色技术效率变化指数', '绿色技术进步变化指数', 'A股代码', '省份',\n",
      "       '所属行业', '板块', '企业规模', '资产负债率', '总资产增长率', '董事会规模', '两职合一',\n",
      "       '第一大股东持股数量/总股数', '托宾Q值', '产权性质，国企为1，否则为0', '上市年限', '成立年限'],\n",
      "      dtype='object')\n",
      "证券代码                 0\n",
      "年份                   0\n",
      "企业绿色全要素生产率           0\n",
      "绿色技术效率变化指数           0\n",
      "绿色技术进步变化指数           0\n",
      "A股代码              5389\n",
      "省份                5389\n",
      "所属行业              5389\n",
      "板块                5389\n",
      "企业规模              3393\n",
      "资产负债率             3393\n",
      "总资产增长率            3393\n",
      "董事会规模             3395\n",
      "两职合一              3390\n",
      "第一大股东持股数量/总股数     3391\n",
      "托宾Q值              4353\n",
      "产权性质，国企为1，否则为0    4417\n",
      "上市年限              3390\n",
      "成立年限              3390\n",
      "dtype: int64\n"
     ]
    }
   ],
   "execution_count": 69
  },
  {
   "metadata": {
    "ExecuteTime": {
     "end_time": "2024-05-03T14:24:11.382447Z",
     "start_time": "2024-05-03T14:24:11.363114Z"
    }
   },
   "cell_type": "code",
   "source": [
    "# 剔除90开头股票代码的行\n",
    "all_green_control = all_green_control[~all_green_control['证券代码'].str.startswith('90')]\n",
    "print(all_green_control.shape)\n",
    "print(all_green_control['证券代码'].nunique())\n",
    "print(all_green_control.isnull().sum())"
   ],
   "id": "b354f1657e7ad756",
   "outputs": [
    {
     "name": "stdout",
     "output_type": "stream",
     "text": [
      "(45544, 19)\n",
      "4527\n",
      "证券代码                 0\n",
      "年份                   0\n",
      "企业绿色全要素生产率           0\n",
      "绿色技术效率变化指数           0\n",
      "绿色技术进步变化指数           0\n",
      "A股代码              4509\n",
      "省份                4509\n",
      "所属行业              4509\n",
      "板块                4509\n",
      "企业规模              2513\n",
      "资产负债率             2513\n",
      "总资产增长率            2513\n",
      "董事会规模             2515\n",
      "两职合一              2510\n",
      "第一大股东持股数量/总股数     2511\n",
      "托宾Q值              3473\n",
      "产权性质，国企为1，否则为0    3537\n",
      "上市年限              2510\n",
      "成立年限              2510\n",
      "dtype: int64\n"
     ]
    }
   ],
   "execution_count": 73
  },
  {
   "metadata": {
    "ExecuteTime": {
     "end_time": "2024-05-03T14:24:24.197669Z",
     "start_time": "2024-05-03T14:24:24.192591Z"
    }
   },
   "cell_type": "code",
   "source": [
    "# A股代码为空导出为一个数据框\n",
    "all_green_control_null = all_green_control[all_green_control['A股代码'].isnull()]\n",
    "print(all_green_control_null.shape)\n",
    "print(all_green_control_null['证券代码'].nunique())"
   ],
   "id": "eb1e2430972a32ae",
   "outputs": [
    {
     "name": "stdout",
     "output_type": "stream",
     "text": [
      "(4509, 19)\n",
      "306\n"
     ]
    }
   ],
   "execution_count": 74
  },
  {
   "metadata": {
    "ExecuteTime": {
     "end_time": "2024-05-03T14:37:17.546611Z",
     "start_time": "2024-05-03T14:37:17.535241Z"
    }
   },
   "cell_type": "code",
   "source": [
    "# 剔除A股代码为空\n",
    "all_green_control = all_green_control[~all_green_control['A股代码'].isnull()]\n",
    "print(all_green_control.shape)\n",
    "print(all_green_control['证券代码'].nunique())"
   ],
   "id": "cbb5455fd1ea311e",
   "outputs": [
    {
     "name": "stdout",
     "output_type": "stream",
     "text": [
      "(41035, 19)\n",
      "4221\n"
     ]
    }
   ],
   "execution_count": 75
  },
  {
   "metadata": {
    "ExecuteTime": {
     "end_time": "2024-05-03T14:37:44.771810Z",
     "start_time": "2024-05-03T14:37:38.291234Z"
    }
   },
   "cell_type": "code",
   "source": "all_green_control.to_excel('E:/ggq的文件/比赛/24统计建模/regress/剔除退市公司a股上市公司绿色+控制变量07-22.xlsx', index=False)",
   "id": "bbafb61b0124edd4",
   "outputs": [],
   "execution_count": 76
  },
  {
   "metadata": {},
   "cell_type": "markdown",
   "source": "## 剔除",
   "id": "7bdfaae209292e1a"
  },
  {
   "metadata": {
    "ExecuteTime": {
     "end_time": "2024-05-04T04:46:46.878663Z",
     "start_time": "2024-05-04T04:46:45.656070Z"
    }
   },
   "cell_type": "code",
   "source": [
    "import pandas as pd\n",
    "df_600  = pd.read_excel('E:/ggq的文件/比赛/24统计建模/data/b上交所主板.xlsx', dtype={'A股代码': str})\n",
    "df_688  = pd.read_excel('E:/ggq的文件/比赛/24统计建模/data/b上交所科创板.xlsx', dtype={'A股代码': str})\n",
    "df_000  = pd.read_excel('E:/ggq的文件/比赛/24统计建模/data/b深交所主板.xlsx', dtype={'A股代码': str})\n",
    "df_300  = pd.read_excel('E:/ggq的文件/比赛/24统计建模/data/b深交所创业板.xlsx', dtype={'A股代码': str})\n",
    "df_all = pd.concat([df_600, df_688, df_000, df_300], axis=0)\n",
    "print(df_all.shape)\n",
    "print(df_all.columns)"
   ],
   "id": "cb197117d3d67617",
   "outputs": [
    {
     "name": "stdout",
     "output_type": "stream",
     "text": [
      "(5113, 9)\n",
      "Index(['A股代码', 'A股简称', '英文名称', 'A股上市日期', '省份', '所属行业', '板块', '地区', '城市'], dtype='object')\n"
     ]
    }
   ],
   "execution_count": 77
  },
  {
   "metadata": {
    "ExecuteTime": {
     "end_time": "2024-05-04T04:53:57.613226Z",
     "start_time": "2024-05-04T04:53:57.573981Z"
    }
   },
   "cell_type": "code",
   "source": [
    "# 筛选'所属行业'为'I 信息技术' 'J 金融业' 'M 科研服务'\n",
    "df_x1 = df_all[df_all['所属行业'].isin(['I 信息技术', 'J 金融业', 'M 科研服务'])]\n",
    "print(df_x1.shape)\n",
    "# 筛选'A股简称'以'ST'开头的行\n",
    "df_x2 = df_all[df_all['A股简称'].str.startswith('ST')]\n",
    "print(df_x2.shape)"
   ],
   "id": "277cc878843d7e76",
   "outputs": [
    {
     "name": "stdout",
     "output_type": "stream",
     "text": [
      "(647, 9)\n",
      "(64, 9)\n"
     ]
    }
   ],
   "execution_count": 78
  },
  {
   "metadata": {
    "ExecuteTime": {
     "end_time": "2024-05-04T04:55:16.548238Z",
     "start_time": "2024-05-04T04:55:16.354674Z"
    }
   },
   "cell_type": "code",
   "source": [
    "# 合并要剔除的数据框\n",
    "df_drop = pd.concat([df_x1, df_x2], axis=0)\n",
    "# 输出为csv\n",
    "df_drop.to_excel('E:/ggq的文件/比赛/24统计建模/regress/剔除数据.xlsx', index=False)"
   ],
   "id": "d3a5d8964c83abf1",
   "outputs": [],
   "execution_count": 80
  },
  {
   "metadata": {},
   "cell_type": "markdown",
   "source": "## 实证数据",
   "id": "5a1e7b16480cd54c"
  },
  {
   "metadata": {
    "ExecuteTime": {
     "end_time": "2024-05-05T07:54:12.354985Z",
     "start_time": "2024-05-05T07:54:08.389764Z"
    }
   },
   "cell_type": "code",
   "source": [
    "df_drop = pd.read_excel('E:/ggq的文件/比赛/24统计建模/regress/剔除数据.xlsx', dtype={'A股代码': str})\n",
    "print(df_drop.shape)\n",
    "print(df_drop.columns)\n",
    "df_green = pd.read_excel('E:/ggq的文件/比赛/24统计建模/regress/a剔除退市公司上市公司绿色+控制变量07-22.xlsx', dtype={'证券代码': str})\n",
    "print(df_green.shape)\n",
    "print(df_green.columns)"
   ],
   "id": "95286f7ef71a151",
   "outputs": [
    {
     "name": "stdout",
     "output_type": "stream",
     "text": [
      "(711, 7)\n",
      "Index(['A股代码', 'A股简称', '英文名称', 'A股上市日期', '省份', '所属行业', '板块'], dtype='object')\n",
      "(41035, 18)\n",
      "Index(['股票代码', '年份', '企业绿色全要素生产率', '绿色技术效率变化指数', '绿色技术进步变化指数', '省份', '所属行业',\n",
      "       '板块', '企业规模', '资产负债率', '总资产增长率', '董事会规模', '两职合一', '第一大股东持股数量/总股数',\n",
      "       '托宾Q值', '产权性质，国企为1，否则为0', '上市年限', '成立年限'],\n",
      "      dtype='object')\n"
     ]
    }
   ],
   "execution_count": 3
  },
  {
   "metadata": {
    "ExecuteTime": {
     "end_time": "2024-05-05T07:54:36.548475Z",
     "start_time": "2024-05-05T07:54:12.354985Z"
    }
   },
   "cell_type": "code",
   "source": [
    "df_1 = pd.read_excel('E:/ggq的文件/比赛/24统计建模/regress/b人员构成.xlsx', dtype={'证券代码': str})\n",
    "print(df_1.shape)\n",
    "print(df_1.columns)\n",
    "df_2 = pd.read_excel('E:/ggq的文件/比赛/24统计建模/regress/b企业创新.xlsx', dtype={'证券代码': str})\n",
    "print(df_2.shape)\n",
    "print(df_2.columns)\n",
    "df_3 = pd.read_excel('E:/ggq的文件/比赛/24统计建模/regress/b企业绿色技术创新.xlsx', dtype={'证券代码': str})\n",
    "print(df_3.shape)\n",
    "print(df_3.columns)\n",
    "df_4 = pd.read_excel('E:/ggq的文件/比赛/24统计建模/regress/b环保投资.xlsx', dtype={'证券代码': str})\n",
    "print(df_4.shape)\n",
    "print(df_4.columns)\n",
    "df_5 = pd.read_excel('E:/ggq的文件/比赛/24统计建模/regress/b绿色投资.xlsx', dtype={'证券代码': str})\n",
    "print(df_5.shape)\n",
    "print(df_5.columns)\n",
    "df_6 = pd.read_excel('E:/ggq的文件/比赛/24统计建模/regress/b融资约束SA指数.xlsx', dtype={'证券代码': str})\n",
    "print(df_6.shape)\n",
    "print(df_6.columns)"
   ],
   "id": "e2402654d0e17937",
   "outputs": [
    {
     "name": "stdout",
     "output_type": "stream",
     "text": [
      "(62176, 26)\n",
      "Index(['年份', '股票代码', '证券简称', '员工总数', '人均创收万元', '人均创利万元', '研究生以上学历',\n",
      "       '研究生及以上学历占比', '本科', '本科学历占比', '专科以上学历', '专科以上学历占比', '高中及以下学历',\n",
      "       '高中及以下学历占比', '其他学历', '其他学历占比', '生产', '生产占比', '财务', '财务占比', '销售', '销售占比',\n",
      "       '技术', '技术占比', '其他部门', '其他部门占比'],\n",
      "      dtype='object')\n",
      "(47168, 16)\n",
      "Index(['股票代码', '证券简称', '上市日期', '年份', 'RD1', 'RD2', 'Patent1', 'Patent2',\n",
      "       'Patent3', 'Patent4', 'Patent_Award1', 'Patent_Award2', 'Patent_Award3',\n",
      "       'Patent_Award4', 'InnoEff1', 'InnoEff2'],\n",
      "      dtype='object')\n",
      "(55975, 23)\n",
      "Index(['股票代码', '年份', '股票简称', '行业名称-证监会2012年版', '行业代码-证监会2012年版',\n",
      "       '重污染行业为1，否则为0。判断标准见网盘链接的参考文献，有详细说明',\n",
      "       '企业绿色技术创新(徐佳,2020),绿色创新总量(王馨,2021) ：绿色发明专利申请数+绿色实用新型申请数+1，取自然对数',\n",
      "       '绿色发明型专利(徐佳,2020),绿色创新质量(王馨,2021) ：绿色发明专利申请数+1，取自然对数',\n",
      "       '绿色实用新型专利(徐佳,2020),绿色创新数量(王馨,2021) ：绿色实用新型申请数+1，取自然对数',\n",
      "       '绿色专利申请数量占比(徐佳,2020)：绿色专利申请数占当年专利申请数的比值，用于稳健性',\n",
      "       '绿色发明型专利申请数量占比(徐佳,2020)：绿色发明专利申请数占当年专利申请数的比值，用于稳健性',\n",
      "       '绿色实用新型专利申请数量占比(徐佳,2020)：绿色实用新型专利申请数占当年专利申请数的比值，用于稳健性', '当年独立申请的绿色发明数量',\n",
      "       '当年独立申请的绿色实用新型数量', '当年独立申请的发明数量', '当年独立申请的实用新型数量', '当年独立申请的外观设计数量',\n",
      "       'ST或PT为1，否则为0', '金融业为1，否则为0', '总负债大于总资产为1，否则为0', '沪深A股为1，否则为0',\n",
      "       '北京A股为1，否则为0', '制造业取两位代码，其他行业用大类'],\n",
      "      dtype='object')\n",
      "(40999, 6)\n",
      "Index(['股票代码', '年份', '在建工程_环保金额数', 'stkcd', '资产总计', '环保投资资产比'], dtype='object')\n",
      "(44804, 6)\n",
      "Index(['股票代码', '年份', '管理费用_环保金额数', 'stkcd', '营业收入', '环保投资营收比'], dtype='object')\n",
      "(52494, 11)\n",
      "Index(['股票代码', '证券简称', '统计截止日期', '是否发生ST或*ST或PT', '是否发生暂停上市', '行业代码', '行业名称',\n",
      "       '上市日期', '总资产_百万元', '企业经营年度_年', 'SA指数'],\n",
      "      dtype='object')\n"
     ]
    }
   ],
   "execution_count": 4
  },
  {
   "metadata": {
    "ExecuteTime": {
     "end_time": "2024-05-05T07:54:36.906678Z",
     "start_time": "2024-05-05T07:54:36.549474Z"
    }
   },
   "cell_type": "code",
   "source": [
    "# 统一格式\n",
    "df_green['股票代码'] = df_green['股票代码'].astype(str).str.extract('(\\d+)')\n",
    "df_1['股票代码'] = df_1['股票代码'].astype(str).str.extract('(\\d+)')\n",
    "df_2['股票代码'] = df_2['股票代码'].astype(str).str.extract('(\\d+)')\n",
    "df_3['股票代码'] = df_3['股票代码'].astype(str).str.extract('(\\d+)')\n",
    "df_4['股票代码'] = df_4['股票代码'].astype(str).str.extract('(\\d+)')\n",
    "df_5['股票代码'] = df_5['股票代码'].astype(str).str.extract('(\\d+)')\n",
    "df_6['股票代码'] = df_6['股票代码'].astype(str).str.extract('(\\d+)')\n",
    "df_green['股票代码'] = df_green['股票代码'].astype(str).str.zfill(6)\n",
    "df_1['股票代码'] = df_1['股票代码'].astype(str).str.zfill(6)\n",
    "df_2['股票代码'] = df_2['股票代码'].astype(str).str.zfill(6)\n",
    "df_3['股票代码'] = df_3['股票代码'].astype(str).str.zfill(6)\n",
    "df_4['股票代码'] = df_4['股票代码'].astype(str).str.zfill(6)\n",
    "df_5['股票代码'] = df_5['股票代码'].astype(str).str.zfill(6)\n",
    "df_6['股票代码'] = df_6['股票代码'].astype(str).str.zfill(6)"
   ],
   "id": "e82256ca1af1072b",
   "outputs": [
    {
     "name": "stderr",
     "output_type": "stream",
     "text": [
      "<>:3: SyntaxWarning: invalid escape sequence '\\d'\n",
      "<>:4: SyntaxWarning: invalid escape sequence '\\d'\n",
      "<>:5: SyntaxWarning: invalid escape sequence '\\d'\n",
      "<>:6: SyntaxWarning: invalid escape sequence '\\d'\n",
      "<>:7: SyntaxWarning: invalid escape sequence '\\d'\n",
      "<>:8: SyntaxWarning: invalid escape sequence '\\d'\n",
      "<>:9: SyntaxWarning: invalid escape sequence '\\d'\n",
      "<>:3: SyntaxWarning: invalid escape sequence '\\d'\n",
      "<>:4: SyntaxWarning: invalid escape sequence '\\d'\n",
      "<>:5: SyntaxWarning: invalid escape sequence '\\d'\n",
      "<>:6: SyntaxWarning: invalid escape sequence '\\d'\n",
      "<>:7: SyntaxWarning: invalid escape sequence '\\d'\n",
      "<>:8: SyntaxWarning: invalid escape sequence '\\d'\n",
      "<>:9: SyntaxWarning: invalid escape sequence '\\d'\n",
      "C:\\Users\\25105\\AppData\\Local\\Temp\\ipykernel_7548\\1518121820.py:3: SyntaxWarning: invalid escape sequence '\\d'\n",
      "  df_green['股票代码'] = df_green['股票代码'].astype(str).str.extract('(\\d+)')\n",
      "C:\\Users\\25105\\AppData\\Local\\Temp\\ipykernel_7548\\1518121820.py:4: SyntaxWarning: invalid escape sequence '\\d'\n",
      "  df_1['股票代码'] = df_1['股票代码'].astype(str).str.extract('(\\d+)')\n",
      "C:\\Users\\25105\\AppData\\Local\\Temp\\ipykernel_7548\\1518121820.py:5: SyntaxWarning: invalid escape sequence '\\d'\n",
      "  df_2['股票代码'] = df_2['股票代码'].astype(str).str.extract('(\\d+)')\n",
      "C:\\Users\\25105\\AppData\\Local\\Temp\\ipykernel_7548\\1518121820.py:6: SyntaxWarning: invalid escape sequence '\\d'\n",
      "  df_3['股票代码'] = df_3['股票代码'].astype(str).str.extract('(\\d+)')\n",
      "C:\\Users\\25105\\AppData\\Local\\Temp\\ipykernel_7548\\1518121820.py:7: SyntaxWarning: invalid escape sequence '\\d'\n",
      "  df_4['股票代码'] = df_4['股票代码'].astype(str).str.extract('(\\d+)')\n",
      "C:\\Users\\25105\\AppData\\Local\\Temp\\ipykernel_7548\\1518121820.py:8: SyntaxWarning: invalid escape sequence '\\d'\n",
      "  df_5['股票代码'] = df_5['股票代码'].astype(str).str.extract('(\\d+)')\n",
      "C:\\Users\\25105\\AppData\\Local\\Temp\\ipykernel_7548\\1518121820.py:9: SyntaxWarning: invalid escape sequence '\\d'\n",
      "  df_6['股票代码'] = df_6['股票代码'].astype(str).str.extract('(\\d+)')\n"
     ]
    }
   ],
   "execution_count": 5
  },
  {
   "metadata": {
    "ExecuteTime": {
     "end_time": "2024-05-05T07:58:19.931102Z",
     "start_time": "2024-05-05T07:58:19.886573Z"
    }
   },
   "cell_type": "code",
   "source": [
    "# df_6统计截止日期2000-12-31转换为年份2000\n",
    "df_6['统计截止日期'] = pd.to_datetime(df_6['统计截止日期'])\n",
    "df_6['年份'] = df_6['统计截止日期'].dt.year"
   ],
   "id": "2b3b8da1644ddd2c",
   "outputs": [],
   "execution_count": 8
  },
  {
   "metadata": {
    "ExecuteTime": {
     "end_time": "2024-05-05T07:58:21.953991Z",
     "start_time": "2024-05-05T07:58:21.717304Z"
    }
   },
   "cell_type": "code",
   "source": [
    "# 按照股票代码和年份将所有df拼接到df_green\n",
    "df_all = pd.merge(df_green, df_1, on=['股票代码', '年份'], how='left')\n",
    "df_all = pd.merge(df_all, df_2, on=['股票代码', '年份'], how='left')\n",
    "df_all = pd.merge(df_all, df_3, on=['股票代码', '年份'], how='left')\n",
    "df_all = pd.merge(df_all, df_4, on=['股票代码', '年份'], how='left')\n",
    "df_all = pd.merge(df_all, df_5, on=['股票代码', '年份'], how='left')\n",
    "df_all = pd.merge(df_all, df_6, on=['股票代码', '年份'], how='left')\n",
    "# 删除重复列\n",
    "df_all = df_all.loc[:, ~df_all.columns.duplicated()]\n",
    "print(df_all.shape)\n",
    "print(df_all.columns)"
   ],
   "id": "4fb58d61007681f9",
   "outputs": [
    {
     "name": "stdout",
     "output_type": "stream",
     "text": [
      "(41035, 95)\n",
      "Index(['股票代码', '年份', '企业绿色全要素生产率', '绿色技术效率变化指数', '绿色技术进步变化指数', '省份', '所属行业',\n",
      "       '板块', '企业规模', '资产负债率', '总资产增长率', '董事会规模', '两职合一', '第一大股东持股数量/总股数',\n",
      "       '托宾Q值', '产权性质，国企为1，否则为0', '上市年限', '成立年限', '证券简称_x', '员工总数', '人均创收万元',\n",
      "       '人均创利万元', '研究生以上学历', '研究生及以上学历占比', '本科', '本科学历占比', '专科以上学历', '专科以上学历占比',\n",
      "       '高中及以下学历', '高中及以下学历占比', '其他学历', '其他学历占比', '生产', '生产占比', '财务', '财务占比',\n",
      "       '销售', '销售占比', '技术', '技术占比', '其他部门', '其他部门占比', '证券简称_y', '上市日期_x', 'RD1',\n",
      "       'RD2', 'Patent1', 'Patent2', 'Patent3', 'Patent4', 'Patent_Award1',\n",
      "       'Patent_Award2', 'Patent_Award3', 'Patent_Award4', 'InnoEff1',\n",
      "       'InnoEff2', '股票简称', '行业名称-证监会2012年版', '行业代码-证监会2012年版',\n",
      "       '重污染行业为1，否则为0。判断标准见网盘链接的参考文献，有详细说明',\n",
      "       '企业绿色技术创新(徐佳,2020),绿色创新总量(王馨,2021) ：绿色发明专利申请数+绿色实用新型申请数+1，取自然对数',\n",
      "       '绿色发明型专利(徐佳,2020),绿色创新质量(王馨,2021) ：绿色发明专利申请数+1，取自然对数',\n",
      "       '绿色实用新型专利(徐佳,2020),绿色创新数量(王馨,2021) ：绿色实用新型申请数+1，取自然对数',\n",
      "       '绿色专利申请数量占比(徐佳,2020)：绿色专利申请数占当年专利申请数的比值，用于稳健性',\n",
      "       '绿色发明型专利申请数量占比(徐佳,2020)：绿色发明专利申请数占当年专利申请数的比值，用于稳健性',\n",
      "       '绿色实用新型专利申请数量占比(徐佳,2020)：绿色实用新型专利申请数占当年专利申请数的比值，用于稳健性', '当年独立申请的绿色发明数量',\n",
      "       '当年独立申请的绿色实用新型数量', '当年独立申请的发明数量', '当年独立申请的实用新型数量', '当年独立申请的外观设计数量',\n",
      "       'ST或PT为1，否则为0', '金融业为1，否则为0', '总负债大于总资产为1，否则为0', '沪深A股为1，否则为0',\n",
      "       '北京A股为1，否则为0', '制造业取两位代码，其他行业用大类', '在建工程_环保金额数', 'stkcd_x', '资产总计',\n",
      "       '环保投资资产比', '管理费用_环保金额数', 'stkcd_y', '营业收入', '环保投资营收比', '证券简称', '统计截止日期',\n",
      "       '是否发生ST或*ST或PT', '是否发生暂停上市', '行业代码', '行业名称', '上市日期_y', '总资产_百万元',\n",
      "       '企业经营年度_年', 'SA指数'],\n",
      "      dtype='object')\n"
     ]
    }
   ],
   "execution_count": 9
  },
  {
   "metadata": {
    "ExecuteTime": {
     "end_time": "2024-05-05T08:07:54.944710Z",
     "start_time": "2024-05-05T08:07:54.932507Z"
    }
   },
   "cell_type": "code",
   "source": [
    "drop_list = df_drop['A股代码'].unique().tolist()\n",
    "print(len(drop_list))\n",
    "print(drop_list)"
   ],
   "id": "18008907822f8c88",
   "outputs": [
    {
     "name": "stdout",
     "output_type": "stream",
     "text": [
      "701\n",
      "['600000', '600015', '600016', '600030', '600036', '600037', '600050', '600053', '600061', '600095', '600109', '600120', '600131', '600155', '600225', '600228', '600271', '600289', '600318', '600369', '600390', '600406', '600410', '600446', '600476', '600517', '600536', '600556', '600570', '600571', '600588', '600602', '600621', '600629', '600633', '600636', '600637', '600640', '600643', '600705', '600718', '600721', '600728', '600734', '600756', '600783', '600797', '600804', '600816', '600830', '600831', '600837', '600845', '600850', '600864', '600868', '600892', '600901', '600906', '600908', '600909', '600918', '600919', '600926', '600927', '600928', '600936', '600941', '600958', '600959', '600986', '600996', '600999', '601009', '601059', '601066', '601077', '601099', '601108', '601128', '601136', '601162', '601166', '601169', '601187', '601198', '601211', '601226', '601229', '601236', '601288', '601318', '601319', '601328', '601336', '601360', '601375', '601377', '601398', '601456', '601519', '601528', '601555', '601577', '601601', '601628', '601658', '601665', '601688', '601696', '601698', '601728', '601788', '601818', '601825', '601838', '601860', '601878', '601881', '601901', '601916', '601929', '601939', '601963', '601965', '601988', '601990', '601995', '601997', '601998', '603000', '603017', '603018', '603039', '603060', '603093', '603126', '603127', '603138', '603153', '603171', '603183', '603189', '603206', '603220', '603232', '603258', '603259', '603322', '603323', '603357', '603383', '603444', '603458', '603528', '603533', '603559', '603602', '603613', '603636', '603776', '603859', '603860', '603869', '603881', '603887', '603888', '603909', '603918', '603927', '603990', '605398', '688004', '688018', '688023', '688030', '688031', '688038', '688039', '688045', '688046', '688051', '688052', '688053', '688058', '688060', '688061', '688066', '688073', '688078', '688083', '688088', '688095', '688099', '688105', '688109', '688111', '688118', '688130', '688131', '688133', '688137', '688141', '688152', '688158', '688168', '688171', '688173', '688179', '688188', '688191', '688201', '688202', '688206', '688207', '688213', '688222', '688225', '688227', '688228', '688229', '688232', '688238', '688244', '688246', '688248', '688252', '688256', '688258', '688259', '688262', '688265', '688279', '688291', '688292', '688293', '688296', '688315', '688316', '688318', '688325', '688327', '688334', '688343', '688365', '688368', '688369', '688372', '688391', '688435', '688479', '688484', '688486', '688500', '688507', '688508', '688509', '688515', '688521', '688536', '688561', '688562', '688568', '688579', '688588', '688589', '688590', '688593', '688619', '688621', '688631', '688651', '688657', '688682', '688691', '688695', '688699', '688702', '688777', '688787', '000001', '000004', '000009', '000068', '000156', '000158', '000166', '000409', '000416', '000503', '000504', '000555', '000563', '000567', '000617', '000627', '000638', '000665', '000681', '000682', '000686', '000710', '000712', '000728', '000750', '000776', '000779', '000783', '000820', '000839', '000889', '000917', '000948', '000971', '000987', '000997', '001227', '001236', '002063', '002065', '002093', '002095', '002123', '002142', '002148', '002153', '002174', '002178', '002195', '002197', '002212', '002230', '002232', '002238', '002253', '002261', '002264', '002268', '002279', '002291', '002298', '002315', '002316', '002322', '002331', '002354', '002368', '002373', '002380', '002401', '002405', '002410', '002421', '002423', '002425', '002439', '002467', '002474', '002500', '002502', '002517', '002544', '002555', '002558', '002602', '002605', '002609', '002624', '002642', '002647', '002649', '002657', '002670', '002673', '002736', '002771', '002777', '002797', '002807', '002811', '002839', '002883', '002908', '002912', '002926', '002929', '002936', '002939', '002945', '002948', '002949', '002958', '002961', '002966', '002967', '002970', '002987', '002990', '003004', '003005', '003007', '003008', '003010', '003013', '003029', '003035', '300002', '300007', '300010', '300012', '300017', '300020', '300025', '300031', '300033', '300036', '300043', '300044', '300047', '300050', '300051', '300052', '300059', '300074', '300075', '300081', '300085', '300096', '300098', '300101', '300113', '300148', '300149', '300150', '300166', '300167', '300168', '300170', '300188', '300212', '300215', '300229', '300231', '300235', '300245', '300248', '300249', '300250', '300253', '300264', '300271', '300275', '300277', '300284', '300287', '300288', '300290', '300292', '300295', '300299', '300300', '300302', '300310', '300311', '300315', '300324', '300333', '300339', '300344', '300347', '300348', '300349', '300350', '300352', '300359', '300365', '300366', '300368', '300369', '300377', '300378', '300379', '300380', '300383', '300384', '300386', '300399', '300404', '300413', '300416', '300418', '300419', '300440', '300442', '300448', '300451', '300454', '300459', '300465', '300467', '300468', '300469', '300492', '300494', '300496', '300500', '300513', '300518', '300520', '300523', '300525', '300532', '300533', '300541', '300542', '300550', '300556', '300559', '300560', '300561', '300564', '300578', '300579', '300588', '300597', '300598', '300603', '300605', '300608', '300609', '300613', '300624', '300634', '300635', '300645', '300659', '300663', '300668', '300671', '300674', '300675', '300676', '300678', '300682', '300687', '300725', '300730', '300732', '300738', '300746', '300759', '300766', '300768', '300770', '300773', '300778', '300785', '300789', '300792', '300797', '300799', '300803', '300810', '300825', '300826', '300830', '300844', '300845', '300846', '300851', '300872', '300887', '300895', '300901', '300921', '300925', '300928', '300935', '300938', '300941', '300949', '300959', '300977', '300983', '300987', '300989', '300996', '301024', '301027', '301038', '301047', '301058', '301080', '301085', '301091', '301095', '301096', '301110', '301115', '301117', '301136', '301139', '301153', '301159', '301162', '301167', '301171', '301172', '301178', '301179', '301185', '301195', '301197', '301208', '301213', '301215', '301218', '301221', '301228', '301230', '301236', '301248', '301257', '301262', '301269', '301270', '301289', '301297', '301299', '301302', '301306', '301313', '301315', '301316', '301333', '301337', '301339', '301365', '301378', '301380', '301382', '301390', '301396', '301428', '301505', '301508', '301520', '600070', '600078', '600112', '600165', '600265', '600303', '600365', '600462', '600518', '600530', '600568', '600599', '600608', '600654', '600666', '600759', '600823', '603001', '603007', '603117', '603557', '603880', '000023', '000525', '000564', '000584', '000637', '000669', '000909', '000961', '000976', '000989', '002005', '002024', '002200', '002259', '002289', '002485', '002490', '002569', '002592', '002656', '002700', '002742', '002800', '002808', '002822', '002872', '300029', '300108', '300205', '300209', '300220', '300555']\n"
     ]
    }
   ],
   "execution_count": 13
  },
  {
   "metadata": {
    "ExecuteTime": {
     "end_time": "2024-05-05T08:08:19.203198Z",
     "start_time": "2024-05-05T08:08:19.150931Z"
    }
   },
   "cell_type": "code",
   "source": [
    "df_all = df_all[~df_all['股票代码'].isin(drop_list)]\n",
    "print(df_all.shape)"
   ],
   "id": "a10d7abfe9aec878",
   "outputs": [
    {
     "name": "stdout",
     "output_type": "stream",
     "text": [
      "(35886, 95)\n"
     ]
    }
   ],
   "execution_count": 14
  },
  {
   "metadata": {
    "ExecuteTime": {
     "end_time": "2024-05-05T08:08:27.320785Z",
     "start_time": "2024-05-05T08:08:27.316937Z"
    }
   },
   "cell_type": "code",
   "source": "print(len(df_all['股票代码'].unique().tolist()))",
   "id": "f065573a9f02adb4",
   "outputs": [
    {
     "name": "stdout",
     "output_type": "stream",
     "text": [
      "3653\n"
     ]
    }
   ],
   "execution_count": 15
  },
  {
   "metadata": {
    "ExecuteTime": {
     "end_time": "2024-05-05T09:25:47.144696Z",
     "start_time": "2024-05-05T09:25:25.776842Z"
    }
   },
   "cell_type": "code",
   "source": [
    "df_aidic = pd.read_excel('E:/ggq的文件/比赛/24统计建模/regress/c上市公司-人工智能-词频明细.xlsx', dtype={'证券代码': str})\n",
    "df_aidic['股票代码'] = df_aidic['股票代码'].astype(str).str.extract('(\\d+)')\n",
    "df_aidic['股票代码'] = df_aidic['股票代码'].astype(str).str.zfill(6)\n",
    "print(df_aidic.shape)\n",
    "print(df_aidic.columns)"
   ],
   "id": "37a02c224de5730a",
   "outputs": [
    {
     "name": "stderr",
     "output_type": "stream",
     "text": [
      "<>:2: SyntaxWarning: invalid escape sequence '\\d'\n",
      "<>:2: SyntaxWarning: invalid escape sequence '\\d'\n",
      "C:\\Users\\25105\\AppData\\Local\\Temp\\ipykernel_7548\\1695943639.py:2: SyntaxWarning: invalid escape sequence '\\d'\n",
      "  df_aidic['股票代码'] = df_aidic['股票代码'].astype(str).str.extract('(\\d+)')\n"
     ]
    },
    {
     "name": "stdout",
     "output_type": "stream",
     "text": [
      "(55354, 84)\n",
      "Index(['股票代码', '股票简称', '年报标题', '年份', '行业名称', '行业代码', '全文-文本总长度', '仅中英文-文本总长度',\n",
      "       '人工智能水平', '人工智能-词频和', '人工智能', '计算机视觉', '图像识别', '知识图谱', '智能教育', '增强现实',\n",
      "       '智能政务', '特征提取', '商业智能', '智能养老', '支持向量机|SVM', '知识表示', '模式识别', '物联网',\n",
      "       '人机对话', 'AI产品', '人机交互', '数据挖掘', '智慧银行', '智能客服', '虚拟现实', '自动驾驶', '无人驾驶',\n",
      "       '智慧金融', '大数据营销', '长短期记忆|LSTM', '智能芯片', '边缘计算', '云计算', '深度神经网络', 'AI芯片',\n",
      "       '深度学习', '特征识别', '智能保险', '智能零售', '智能医疗', '智能运输', '智能家居', '循环神经网络',\n",
      "       '大数据风控', '机器人流程自动化', '可穿戴产品', '大数据平台', '增强智能', '大数据运营', '机器翻译', '神经网络',\n",
      "       '语音合成', '人机协同', '智能农业', '智能音箱', '卷积神经网络', '问答系统', '强化学习', '大数据分析',\n",
      "       '自然语言处理', '大数据管理', '智能计算', '语音交互', '机器学习', '生物识别', '语音识别', '智能监管',\n",
      "       '智能投顾', '智能语音', '声纹识别', '人脸识别', '智能体', '大数据处理', '分布式计算', '智能传感器',\n",
      "       '智能搜索', '智能环保', 'Unnamed: 83'],\n",
      "      dtype='object')\n"
     ]
    }
   ],
   "execution_count": 24
  },
  {
   "metadata": {
    "ExecuteTime": {
     "end_time": "2024-05-05T09:26:06.469908Z",
     "start_time": "2024-05-05T09:26:06.346810Z"
    }
   },
   "cell_type": "code",
   "source": [
    "df_aidic = df_aidic[['股票代码', '年份', '人工智能-词频和']]\n",
    "df_all = pd.merge(df_all, df_aidic, on=['股票代码', '年份'], how='left')\n",
    "df_all = df_all.rename(columns={'人工智能-词频和': 'AI词频得分'})\n",
    "def min_max(df,cl,new_cl):\n",
    "    df[new_cl] = (df[cl]-df[cl].min())/(df[cl].max()-df[cl].min())\n",
    "min_max(df_all,'AI词频得分','AI词频得分')"
   ],
   "id": "c33e628805eb483e",
   "outputs": [],
   "execution_count": 25
  },
  {
   "metadata": {
    "ExecuteTime": {
     "end_time": "2024-05-05T09:26:42.634678Z",
     "start_time": "2024-05-05T09:26:12.157627Z"
    }
   },
   "cell_type": "code",
   "source": "df_all.to_excel('E:/ggq的文件/比赛/24统计建模/regress/实证数据.xlsx', index=False)",
   "id": "75d13fbddda298b9",
   "outputs": [],
   "execution_count": 26
  },
  {
   "metadata": {
    "ExecuteTime": {
     "end_time": "2024-05-05T09:26:42.681611Z",
     "start_time": "2024-05-05T09:26:42.635677Z"
    }
   },
   "cell_type": "code",
   "source": [
    "# 统计缺失值\n",
    "df_all.isnull().sum()"
   ],
   "id": "101083397811f9b7",
   "outputs": [
    {
     "data": {
      "text/plain": [
       "股票代码            0\n",
       "年份              0\n",
       "企业绿色全要素生产率      0\n",
       "绿色技术效率变化指数      0\n",
       "绿色技术进步变化指数      0\n",
       "             ... \n",
       "上市日期_y        589\n",
       "总资产_百万元       589\n",
       "企业经营年度_年      589\n",
       "SA指数          592\n",
       "AI词频得分         48\n",
       "Length: 96, dtype: int64"
      ]
     },
     "execution_count": 27,
     "metadata": {},
     "output_type": "execute_result"
    }
   ],
   "execution_count": 27
  },
  {
   "metadata": {
    "ExecuteTime": {
     "end_time": "2024-05-05T09:38:53.581445Z",
     "start_time": "2024-05-05T09:38:52.593132Z"
    }
   },
   "cell_type": "code",
   "source": [
    "grouped = df_all.groupby('股票代码')\n",
    "missing_values_count = grouped.apply(lambda x: x.isnull().sum())\n",
    "missing_values = missing_values_count.groupby(level=0).sum()\n",
    "print(missing_values)"
   ],
   "id": "791af1c5a70d9c4e",
   "outputs": [
    {
     "name": "stdout",
     "output_type": "stream",
     "text": [
      "        股票代码  年份  企业绿色全要素生产率  绿色技术效率变化指数  绿色技术进步变化指数  省份  所属行业  板块  企业规模  \\\n",
      "股票代码                                                                       \n",
      "000002     0   0           0           0           0   0     0   0     0   \n",
      "000006     0   0           0           0           0   0     0   0     0   \n",
      "000007     0   0           0           0           0   0     0   0     0   \n",
      "000008     0   0           0           0           0   0     0   0     0   \n",
      "000010     0   0           0           0           0   0     0   0     0   \n",
      "...      ...  ..         ...         ...         ...  ..   ...  ..   ...   \n",
      "688698     0   0           0           0           0   0     0   0     0   \n",
      "688788     0   0           0           0           0   0     0   0     0   \n",
      "688819     0   0           0           0           0   0     0   0     0   \n",
      "688981     0   0           0           0           0   0     0   0     0   \n",
      "689009     0   0           0           0           0   0     0   0     0   \n",
      "\n",
      "        资产负债率  ...  统计截止日期  是否发生ST或*ST或PT  是否发生暂停上市  行业代码  行业名称  上市日期_y  \\\n",
      "股票代码           ...                                                        \n",
      "000002      0  ...       0              0         0     0     0       0   \n",
      "000006      0  ...       0              0         0     0     0       0   \n",
      "000007      0  ...      16             16        16    16    16      16   \n",
      "000008      0  ...       0              0         0     0     0       0   \n",
      "000010      0  ...       0              0         0     0     0       0   \n",
      "...       ...  ...     ...            ...       ...   ...   ...     ...   \n",
      "688698      0  ...       0              0         0     0     0       0   \n",
      "688788      0  ...       0              0         0     0     0       0   \n",
      "688819      0  ...       0              0         0     0     0       0   \n",
      "688981      0  ...       0              0         0     0     0       0   \n",
      "689009      0  ...       0              0         0     0     0       0   \n",
      "\n",
      "        总资产_百万元  企业经营年度_年  SA指数  AI词频得分  \n",
      "股票代码                                     \n",
      "000002        0         0     0       0  \n",
      "000006        0         0     0       0  \n",
      "000007       16        16    16       0  \n",
      "000008        0         0     0       0  \n",
      "000010        0         0     0       0  \n",
      "...         ...       ...   ...     ...  \n",
      "688698        0         0     0       0  \n",
      "688788        0         0     0       0  \n",
      "688819        0         0     0       0  \n",
      "688981        0         0     0       0  \n",
      "689009        0         0     0       2  \n",
      "\n",
      "[3653 rows x 96 columns]\n"
     ]
    },
    {
     "name": "stderr",
     "output_type": "stream",
     "text": [
      "C:\\Users\\25105\\AppData\\Local\\Temp\\ipykernel_7548\\1309178396.py:2: DeprecationWarning: DataFrameGroupBy.apply operated on the grouping columns. This behavior is deprecated, and in a future version of pandas the grouping columns will be excluded from the operation. Either pass `include_groups=False` to exclude the groupings or explicitly select the grouping columns after groupby to silence this warning.\n",
      "  missing_values_count = grouped.apply(lambda x: x.isnull().sum())\n"
     ]
    }
   ],
   "execution_count": 28
  },
  {
   "metadata": {
    "ExecuteTime": {
     "end_time": "2024-05-05T09:40:58.035110Z",
     "start_time": "2024-05-05T09:40:55.821159Z"
    }
   },
   "cell_type": "code",
   "source": "missing_values.to_excel('E:/ggq的文件/比赛/24统计建模/regress/缺失值面板.xlsx', index=True)",
   "id": "b5d5658d38346926",
   "outputs": [],
   "execution_count": 30
  },
  {
   "metadata": {
    "ExecuteTime": {
     "end_time": "2024-05-05T13:37:09.060591Z",
     "start_time": "2024-05-05T13:36:26.758653Z"
    }
   },
   "cell_type": "code",
   "source": [
    "df_all = pd.read_excel('E:/ggq的文件/比赛/24统计建模/regress/实证数据.xlsx', dtype={'股票代码': str})\n",
    "df_all['股票代码'] = df_all['股票代码'].astype(str).str.extract('(\\d+)')\n",
    "df_all['股票代码'] = df_all['股票代码'].astype(str).str.zfill(6)\n",
    "df_aidic = pd.read_excel('E:/ggq的文件/比赛/24统计建模/regress/c上市公司-人工智能-词频明细.xlsx', dtype={'股票代码': str})\n",
    "df_aidic['股票代码'] = df_aidic['股票代码'].astype(str).str.extract('(\\d+)')\n",
    "df_aidic['股票代码'] = df_aidic['股票代码'].astype(str).str.zfill(6)\n",
    "print(df_aidic.shape)\n",
    "print(df_aidic.columns)\n",
    "df_aidic = df_aidic[['股票代码', '年份', '人工智能-词频和']]\n",
    "df_all = pd.merge(df_all, df_aidic, on=['股票代码', '年份'], how='left')\n",
    "df_all = df_all.rename(columns={'人工智能-词频和': 'AI词频得分'})\n",
    "# +1取对数\n",
    "df_all['AI词频得分'] = np.log(df_all['AI词频得分']+1)"
   ],
   "id": "6ae657aa55f9cad7",
   "outputs": [
    {
     "name": "stderr",
     "output_type": "stream",
     "text": [
      "<>:2: SyntaxWarning: invalid escape sequence '\\d'\n",
      "<>:5: SyntaxWarning: invalid escape sequence '\\d'\n",
      "<>:2: SyntaxWarning: invalid escape sequence '\\d'\n",
      "<>:5: SyntaxWarning: invalid escape sequence '\\d'\n",
      "C:\\Users\\25105\\AppData\\Local\\Temp\\ipykernel_35924\\4263193177.py:2: SyntaxWarning: invalid escape sequence '\\d'\n",
      "  df_all['股票代码'] = df_all['股票代码'].astype(str).str.extract('(\\d+)')\n",
      "C:\\Users\\25105\\AppData\\Local\\Temp\\ipykernel_35924\\4263193177.py:5: SyntaxWarning: invalid escape sequence '\\d'\n",
      "  df_aidic['股票代码'] = df_aidic['股票代码'].astype(str).str.extract('(\\d+)')\n"
     ]
    },
    {
     "name": "stdout",
     "output_type": "stream",
     "text": [
      "(55354, 84)\n",
      "Index(['股票代码', '股票简称', '年报标题', '年份', '行业名称', '行业代码', '全文-文本总长度', '仅中英文-文本总长度',\n",
      "       '人工智能水平', '人工智能-词频和', '人工智能', '计算机视觉', '图像识别', '知识图谱', '智能教育', '增强现实',\n",
      "       '智能政务', '特征提取', '商业智能', '智能养老', '支持向量机|SVM', '知识表示', '模式识别', '物联网',\n",
      "       '人机对话', 'AI产品', '人机交互', '数据挖掘', '智慧银行', '智能客服', '虚拟现实', '自动驾驶', '无人驾驶',\n",
      "       '智慧金融', '大数据营销', '长短期记忆|LSTM', '智能芯片', '边缘计算', '云计算', '深度神经网络', 'AI芯片',\n",
      "       '深度学习', '特征识别', '智能保险', '智能零售', '智能医疗', '智能运输', '智能家居', '循环神经网络',\n",
      "       '大数据风控', '机器人流程自动化', '可穿戴产品', '大数据平台', '增强智能', '大数据运营', '机器翻译', '神经网络',\n",
      "       '语音合成', '人机协同', '智能农业', '智能音箱', '卷积神经网络', '问答系统', '强化学习', '大数据分析',\n",
      "       '自然语言处理', '大数据管理', '智能计算', '语音交互', '机器学习', '生物识别', '语音识别', '智能监管',\n",
      "       '智能投顾', '智能语音', '声纹识别', '人脸识别', '智能体', '大数据处理', '分布式计算', '智能传感器',\n",
      "       '智能搜索', '智能环保', 'Unnamed: 83'],\n",
      "      dtype='object')\n"
     ]
    }
   ],
   "execution_count": 4
  },
  {
   "metadata": {
    "ExecuteTime": {
     "end_time": "2024-05-05T13:40:09.661177Z",
     "start_time": "2024-05-05T13:39:40.415750Z"
    }
   },
   "cell_type": "code",
   "source": "df_all.to_excel('E:/ggq的文件/比赛/24统计建模/regress/实证数据_log.xlsx', index=False)",
   "id": "82a80b9fa8c87bcf",
   "outputs": [],
   "execution_count": 5
  },
  {
   "metadata": {},
   "cell_type": "markdown",
   "source": "## 控制变量",
   "id": "7c8c315558a89fd9"
  },
  {
   "metadata": {
    "ExecuteTime": {
     "end_time": "2024-05-06T07:39:53.458629Z",
     "start_time": "2024-05-06T07:39:30.918041Z"
    }
   },
   "cell_type": "code",
   "source": [
    "df_all = pd.read_excel('E:/ggq的文件/比赛/24统计建模/regress/b实证数据_log.xlsx', dtype={'股票代码': str})\n",
    "df_all['股票代码'] = df_all['股票代码'].astype(str).str.extract('(\\d+)')\n",
    "df_all['股票代码'] = df_all['股票代码'].astype(str).str.zfill(6)\n",
    "print(df_all.shape)\n",
    "print(df_all.columns)"
   ],
   "id": "684882a906af5deb",
   "outputs": [
    {
     "name": "stderr",
     "output_type": "stream",
     "text": [
      "<>:2: SyntaxWarning: invalid escape sequence '\\d'\n",
      "<>:2: SyntaxWarning: invalid escape sequence '\\d'\n",
      "C:\\Users\\25105\\AppData\\Local\\Temp\\ipykernel_35924\\3835959593.py:2: SyntaxWarning: invalid escape sequence '\\d'\n",
      "  df_all['股票代码'] = df_all['股票代码'].astype(str).str.extract('(\\d+)')\n"
     ]
    },
    {
     "name": "stdout",
     "output_type": "stream",
     "text": [
      "(35886, 97)\n",
      "Index(['股票代码', '年份', '企业绿色全要素生产率', '绿色技术效率变化指数', '绿色技术进步变化指数', '省份', '所属行业',\n",
      "       '板块', '企业规模', '资产负债率', '总资产增长率', '董事会规模', '两职合一', '第一大股东持股数量/总股数',\n",
      "       '托宾Q值', '产权性质，国企为1，否则为0', '上市年限', '成立年限', '证券简称_x', '员工总数', '人均创收万元',\n",
      "       '人均创利万元', '研究生以上学历', '研究生及以上学历占比', '本科', '本科学历占比', '专科以上学历', '专科以上学历占比',\n",
      "       '高中及以下学历', '高中及以下学历占比', '其他学历', '其他学历占比', '生产', '生产占比', '财务', '财务占比',\n",
      "       '销售', '销售占比', '技术', '技术占比', '其他部门', '其他部门占比', '证券简称_y', '上市日期_x', 'RD1',\n",
      "       'RD2', 'Patent1', 'Patent2', 'Patent3', 'Patent4', 'Patent_Award1',\n",
      "       'Patent_Award2', 'Patent_Award3', 'Patent_Award4', 'InnoEff1',\n",
      "       'InnoEff2', '股票简称', '行业名称-证监会2012年版', '行业代码-证监会2012年版',\n",
      "       '重污染行业为1，否则为0。判断标准见网盘链接的参考文献，有详细说明',\n",
      "       '企业绿色技术创新(徐佳,2020),绿色创新总量(王馨,2021) ：绿色发明专利申请数+绿色实用新型申请数+1，取自然对数',\n",
      "       '绿色发明型专利(徐佳,2020),绿色创新质量(王馨,2021) ：绿色发明专利申请数+1，取自然对数',\n",
      "       '绿色实用新型专利(徐佳,2020),绿色创新数量(王馨,2021) ：绿色实用新型申请数+1，取自然对数',\n",
      "       '绿色专利申请数量占比(徐佳,2020)：绿色专利申请数占当年专利申请数的比值，用于稳健性',\n",
      "       '绿色发明型专利申请数量占比(徐佳,2020)：绿色发明专利申请数占当年专利申请数的比值，用于稳健性',\n",
      "       '绿色实用新型专利申请数量占比(徐佳,2020)：绿色实用新型专利申请数占当年专利申请数的比值，用于稳健性', '当年独立申请的绿色发明数量',\n",
      "       '当年独立申请的绿色实用新型数量', '当年独立申请的发明数量', '当年独立申请的实用新型数量', '当年独立申请的外观设计数量',\n",
      "       'ST或PT为1，否则为0', '金融业为1，否则为0', '总负债大于总资产为1，否则为0', '沪深A股为1，否则为0',\n",
      "       '北京A股为1，否则为0', '制造业取两位代码，其他行业用大类', '在建工程_环保金额数', 'stkcd_x', '资产总计',\n",
      "       '环保投资资产比', '管理费用_环保金额数', 'stkcd_y', '营业收入', '环保投资营收比', '证券简称', '统计截止日期',\n",
      "       '是否发生ST或*ST或PT', '是否发生暂停上市', '行业代码', '行业名称', '上市日期_y', '总资产_百万元',\n",
      "       '企业经营年度_年', 'SA指数', 'AI词频得分', 'AI词频得分_log'],\n",
      "      dtype='object')\n"
     ]
    }
   ],
   "execution_count": 9
  },
  {
   "metadata": {
    "ExecuteTime": {
     "end_time": "2024-05-06T07:40:33.286545Z",
     "start_time": "2024-05-06T07:40:33.278108Z"
    }
   },
   "cell_type": "code",
   "source": "df_all = df_all[['股票代码', '年份', '省份', '所属行业', '企业绿色全要素生产率', 'AI词频得分_log']]",
   "id": "12e7c53fed870e0",
   "outputs": [],
   "execution_count": 10
  },
  {
   "metadata": {
    "ExecuteTime": {
     "end_time": "2024-05-06T07:45:10.611508Z",
     "start_time": "2024-05-06T07:44:08.745898Z"
    }
   },
   "cell_type": "code",
   "source": [
    "df_control_new = pd.read_excel('E:/ggq的文件/比赛/24统计建模/regress/d常用控制变量-未剔除未缩尾.xlsx', dtype={'Symbol': str})\n",
    "df_control_new['Symbol'] =df_control_new['Symbol'].astype(str).str.extract('(\\d+)')\n",
    "df_control_new['Symbol'] = df_control_new['Symbol'].astype(str).str.zfill(6)\n",
    "df_control_new = df_control_new.rename(columns={'Symbol': '股票代码'})\n",
    "df_control_new = df_control_new.rename(columns={'year': '年份'})\n",
    "# 拼接\n",
    "df_all = pd.merge(df_all, df_control_new, on=['股票代码', '年份'], how='left')\n",
    "print(df_all.shape)\n",
    "print(df_all.columns)"
   ],
   "id": "b019fcb9702a1899",
   "outputs": [
    {
     "name": "stderr",
     "output_type": "stream",
     "text": [
      "<>:2: SyntaxWarning: invalid escape sequence '\\d'\n",
      "<>:2: SyntaxWarning: invalid escape sequence '\\d'\n",
      "C:\\Users\\25105\\AppData\\Local\\Temp\\ipykernel_35924\\3468953277.py:2: SyntaxWarning: invalid escape sequence '\\d'\n",
      "  df_control_new['Symbol'] =df_control_new['Symbol'].astype(str).str.extract('(\\d+)')\n"
     ]
    },
    {
     "name": "stdout",
     "output_type": "stream",
     "text": [
      "(35886, 131)\n",
      "Index(['股票代码', '年份', '省份', '所属行业', '企业绿色全要素生产率', 'AI词频得分_log', 'id',\n",
      "       'ShortName', 'IndustryName', 'Industry1',\n",
      "       ...\n",
      "       'HighTech_2', 'HighTech_3', 'HighTech_4', 'HighTech_5', 'Pollute_1',\n",
      "       'Pollute_2', 'Pollute_3', '劳动密集型', '技术密集型', '资产密集型'],\n",
      "      dtype='object', length=131)\n"
     ]
    }
   ],
   "execution_count": 12
  },
  {
   "metadata": {
    "ExecuteTime": {
     "end_time": "2024-05-06T07:45:40.497088Z",
     "start_time": "2024-05-06T07:45:40.493898Z"
    }
   },
   "cell_type": "code",
   "source": "print(df_all.columns.tolist())",
   "id": "b1b53c8baed616c",
   "outputs": [
    {
     "name": "stdout",
     "output_type": "stream",
     "text": [
      "['股票代码', '年份', '省份', '所属行业', '企业绿色全要素生产率', 'AI词频得分_log', 'id', 'ShortName', 'IndustryName', 'Industry1', 'Industry2', '当年是否ST或PT', '样本区间内是否ST或PT', '样本区间内是否退市', '金融业', '制造业', '沪深上市', '北京上市', '资不抵债', '市场类型', '是否当年上市', '是否属于上市前', 'SOE', 'Size', 'Lev', 'EM1', 'EM2', 'DER', 'DLCR', 'ROA1', 'ROA2', 'ROE', 'GrossProfit', 'NetProfit', 'Liquid', 'Quick', 'Cashflow', 'REC', 'INV', 'FIXED', 'Intangible', 'Tangible', 'Growth', 'AssetGrowth', 'NetProfitGrowth', 'CTR1', 'CTR2', 'ITR', 'CAP', 'CMIR', 'RCA', 'FL', 'OL', 'CL', '基本每股收益', '稀释每股收益', '年个股回报率1', '年个股回报率2', 'Invest1', 'Invest2', 'Invest3', 'Invest4', 'Loss', 'Board', 'Indep', 'Dual', 'Top1', 'Top3', 'Top5', 'Top10', 'Balance1', 'Balance2', 'Balance3', 'Herfindahl3', 'Herfindahl5', 'Herfindahl10', 'Seperate', 'BM', 'PB', 'TobinQ', 'ListAge', 'FirmAge', 'Ofee', 'Mfee', 'ATO', 'Occupy', 'Big4', 'Opinion', 'AuditFee', 'Employee', 'TMTAge', 'INST', 'Mshare', 'Bank', 'FinInst', 'Female', 'FinBack', 'OverseaBack', 'TMTPay1', 'TMTPay2', '股东总数', '前十大股东是否存在关联', 'ChairHold', 'ChairHoldR', 'CEOHold', 'CEOHoldR', 'SA', 'WW', 'FC', 'KZ', 'Province', 'City', 'Lng', 'Lat', 'Listedyear', 'Establishyear', 'Delistedyear', 'East', 'West', 'Mid', 'HighTech_1', 'HighTech_2', 'HighTech_3', 'HighTech_4', 'HighTech_5', 'Pollute_1', 'Pollute_2', 'Pollute_3', '劳动密集型', '技术密集型', '资产密集型']\n"
     ]
    }
   ],
   "execution_count": 13
  },
  {
   "metadata": {
    "ExecuteTime": {
     "end_time": "2024-05-06T07:47:06.178082Z",
     "start_time": "2024-05-06T07:47:06.160968Z"
    }
   },
   "cell_type": "code",
   "source": "df_all = df_all.drop(['id', 'ShortName', 'IndustryName', 'Industry1', 'Industry2', '当年是否ST或PT', '样本区间内是否ST或PT', '样本区间内是否退市', '金融业', '制造业', '沪深上市', '北京上市', '市场类型'], axis=1)",
   "id": "ea56c177d80e4f58",
   "outputs": [],
   "execution_count": 14
  },
  {
   "metadata": {
    "ExecuteTime": {
     "end_time": "2024-05-06T07:48:26.299931Z",
     "start_time": "2024-05-06T07:48:21.513738Z"
    }
   },
   "cell_type": "code",
   "source": [
    "# 统计缺失值情况\n",
    "grouped = df_all.groupby('股票代码')\n",
    "missing_values_count = grouped.apply(lambda x: x.isnull().sum())\n",
    "missing_values = missing_values_count.groupby(level=0).sum()\n",
    "print(missing_values)\n",
    "missing_values.to_excel('E:/ggq的文件/比赛/24统计建模/regress/d缺失值面板.xlsx', index=True)"
   ],
   "id": "7642bf983493a9c7",
   "outputs": [
    {
     "name": "stderr",
     "output_type": "stream",
     "text": [
      "C:\\Users\\25105\\AppData\\Local\\Temp\\ipykernel_35924\\3744196404.py:3: DeprecationWarning: DataFrameGroupBy.apply operated on the grouping columns. This behavior is deprecated, and in a future version of pandas the grouping columns will be excluded from the operation. Either pass `include_groups=False` to exclude the groupings or explicitly select the grouping columns after groupby to silence this warning.\n",
      "  missing_values_count = grouped.apply(lambda x: x.isnull().sum())\n"
     ]
    },
    {
     "name": "stdout",
     "output_type": "stream",
     "text": [
      "        股票代码  年份  省份  所属行业  企业绿色全要素生产率  AI词频得分_log  资不抵债  是否当年上市  是否属于上市前  \\\n",
      "股票代码                                                                        \n",
      "000002     0   0   0     0           0           0     0       0        0   \n",
      "000006     0   0   0     0           0           0     0       0        0   \n",
      "000007     0   0   0     0           0           0     0       0        0   \n",
      "000008     0   0   0     0           0           0     0       0        0   \n",
      "000010     0   0   0     0           0           0     0       0        0   \n",
      "...      ...  ..  ..   ...         ...         ...   ...     ...      ...   \n",
      "688698     0   0   0     0           0           0     0       0        0   \n",
      "688788     0   0   0     0           0           0     0       0        0   \n",
      "688819     0   0   0     0           0           0     0       0        0   \n",
      "688981     0   0   0     0           0           0     0       0        0   \n",
      "689009     0   0   0     0           0           2     0       0        0   \n",
      "\n",
      "        SOE  ...  HighTech_2  HighTech_3  HighTech_4  HighTech_5  Pollute_1  \\\n",
      "股票代码         ...                                                              \n",
      "000002    0  ...           0           0           0           0          0   \n",
      "000006    0  ...           0           0           0           0          0   \n",
      "000007    3  ...           0           0           0           0          0   \n",
      "000008    0  ...           0           0           0           0          0   \n",
      "000010    0  ...           0           0           0           0          0   \n",
      "...     ...  ...         ...         ...         ...         ...        ...   \n",
      "688698    0  ...           0           0           0           0          0   \n",
      "688788    0  ...           0           0           0           0          0   \n",
      "688819    0  ...           0           0           0           0          0   \n",
      "688981    2  ...           0           0           0           0          0   \n",
      "689009    0  ...           0           0           0           0          0   \n",
      "\n",
      "        Pollute_2  Pollute_3  劳动密集型  技术密集型  资产密集型  \n",
      "股票代码                                               \n",
      "000002          0          0      0      0      0  \n",
      "000006          0          0      0      0      0  \n",
      "000007          0          0      0      0      0  \n",
      "000008          0          0      0      0      0  \n",
      "000010          0          0      0      0      0  \n",
      "...           ...        ...    ...    ...    ...  \n",
      "688698          0          0      0      0      0  \n",
      "688788          0          0      0      0      0  \n",
      "688819          0          0      0      0      0  \n",
      "688981          0          0      0      0      0  \n",
      "689009          0          0      0      0      0  \n",
      "\n",
      "[3653 rows x 118 columns]\n"
     ]
    }
   ],
   "execution_count": 16
  },
  {
   "metadata": {
    "ExecuteTime": {
     "end_time": "2024-05-06T07:50:04.103445Z",
     "start_time": "2024-05-06T07:48:26.300930Z"
    }
   },
   "cell_type": "code",
   "source": "df_all.to_excel('E:/ggq的文件/比赛/24统计建模/regress/d实证数据_log_控制变量.xlsx', index=False)",
   "id": "1b3ebef1cff88d8f",
   "outputs": [],
   "execution_count": 17
  },
  {
   "metadata": {},
   "cell_type": "markdown",
   "source": "## 筛选和缩尾",
   "id": "96d27ad8e6045d16"
  },
  {
   "metadata": {
    "ExecuteTime": {
     "end_time": "2024-05-06T11:30:09.785589Z",
     "start_time": "2024-05-06T11:29:50.011611Z"
    }
   },
   "cell_type": "code",
   "source": [
    "df_all = pd.read_excel('E:/ggq的文件/比赛/24统计建模/regress/d实证数据_log_控制变量_缩尾_去不平衡.xlsx', dtype={'股票代码': str})\n",
    "df_all['股票代码'] = df_all['股票代码'].astype(str).str.extract('(\\d+)')\n",
    "df_all['股票代码'] = df_all['股票代码'].astype(str).str.zfill(6)\n",
    "print(df_all.shape)\n",
    "print(df_all.columns)"
   ],
   "id": "74158d921b602d8f",
   "outputs": [
    {
     "name": "stderr",
     "output_type": "stream",
     "text": [
      "<>:2: SyntaxWarning: invalid escape sequence '\\d'\n",
      "<>:2: SyntaxWarning: invalid escape sequence '\\d'\n",
      "C:\\Users\\25105\\AppData\\Local\\Temp\\ipykernel_18288\\1179800807.py:2: SyntaxWarning: invalid escape sequence '\\d'\n",
      "  df_all['股票代码'] = df_all['股票代码'].astype(str).str.extract('(\\d+)')\n"
     ]
    },
    {
     "name": "stdout",
     "output_type": "stream",
     "text": [
      "(35886, 93)\n",
      "Index(['股票代码', '年份', '省份', '所属行业', '企业绿色全要素生产率', 'AI词频得分_log', 'SOE', 'Size',\n",
      "       'Lev', 'EM1', 'EM2', 'DER', 'DLCR', 'ROA1', 'ROA2', 'ROE',\n",
      "       'GrossProfit', 'NetProfit', 'Liquid', 'Quick', 'Cashflow', 'REC', 'INV',\n",
      "       'FIXED', 'Intangible', 'Tangible', 'Growth', 'AssetGrowth',\n",
      "       'NetProfitGrowth', 'CTR1', 'CTR2', 'ITR', 'CAP', 'CMIR', 'RCA', 'FL',\n",
      "       'OL', 'CL', 'Invest1', 'Loss', 'Board', 'Indep', 'Dual', 'Top1',\n",
      "       'Balance1', 'Seperate', 'BM', 'PB', 'TobinQ', 'ListAge', 'FirmAge',\n",
      "       'Ofee', 'Mfee', 'ATO', 'Occupy', 'Big4', 'Opinion', 'AuditFee',\n",
      "       'Employee', 'TMTAge', 'INST', 'Mshare', 'Bank', 'FinInst', 'FinBack',\n",
      "       'OverseaBack', 'TMTPay1', 'TMTPay2', '股东总数', 'ChairHold', 'ChairHoldR',\n",
      "       'CEOHold', 'CEOHoldR', 'SA', 'WW', 'FC', 'KZ', 'Lng', 'Lat',\n",
      "       'Listedyear', 'Establishyear', 'Delistedyear', 'East', 'West', 'Mid',\n",
      "       'HighTech_1', 'HighTech_2', 'HighTech_3', 'HighTech_4', 'HighTech_5',\n",
      "       'Pollute_1', 'Pollute_2', 'Pollute_3'],\n",
      "      dtype='object')\n"
     ]
    }
   ],
   "execution_count": 2
  },
  {
   "metadata": {
    "ExecuteTime": {
     "end_time": "2024-05-06T11:30:09.818421Z",
     "start_time": "2024-05-06T11:30:09.786589Z"
    }
   },
   "cell_type": "code",
   "source": [
    "year_counts = df_all.groupby('股票代码')['年份'].nunique()\n",
    "# 筛选出'年份'数量大于三年的股票代码\n",
    "valid_stocks = year_counts[year_counts > 9].index.tolist()\n",
    "# 根据筛选后的股票代码重新筛选数据框\n",
    "filtered_df = df_all[df_all['股票代码'].isin(valid_stocks)]\n",
    "print(filtered_df.shape)\n",
    "print(filtered_df.columns)\n",
    "print(len(filtered_df['股票代码'].unique().tolist()))"
   ],
   "id": "61d8378bae912002",
   "outputs": [
    {
     "name": "stdout",
     "output_type": "stream",
     "text": [
      "(29051, 93)\n",
      "Index(['股票代码', '年份', '省份', '所属行业', '企业绿色全要素生产率', 'AI词频得分_log', 'SOE', 'Size',\n",
      "       'Lev', 'EM1', 'EM2', 'DER', 'DLCR', 'ROA1', 'ROA2', 'ROE',\n",
      "       'GrossProfit', 'NetProfit', 'Liquid', 'Quick', 'Cashflow', 'REC', 'INV',\n",
      "       'FIXED', 'Intangible', 'Tangible', 'Growth', 'AssetGrowth',\n",
      "       'NetProfitGrowth', 'CTR1', 'CTR2', 'ITR', 'CAP', 'CMIR', 'RCA', 'FL',\n",
      "       'OL', 'CL', 'Invest1', 'Loss', 'Board', 'Indep', 'Dual', 'Top1',\n",
      "       'Balance1', 'Seperate', 'BM', 'PB', 'TobinQ', 'ListAge', 'FirmAge',\n",
      "       'Ofee', 'Mfee', 'ATO', 'Occupy', 'Big4', 'Opinion', 'AuditFee',\n",
      "       'Employee', 'TMTAge', 'INST', 'Mshare', 'Bank', 'FinInst', 'FinBack',\n",
      "       'OverseaBack', 'TMTPay1', 'TMTPay2', '股东总数', 'ChairHold', 'ChairHoldR',\n",
      "       'CEOHold', 'CEOHoldR', 'SA', 'WW', 'FC', 'KZ', 'Lng', 'Lat',\n",
      "       'Listedyear', 'Establishyear', 'Delistedyear', 'East', 'West', 'Mid',\n",
      "       'HighTech_1', 'HighTech_2', 'HighTech_3', 'HighTech_4', 'HighTech_5',\n",
      "       'Pollute_1', 'Pollute_2', 'Pollute_3'],\n",
      "      dtype='object')\n",
      "2033\n"
     ]
    }
   ],
   "execution_count": 3
  },
  {
   "metadata": {
    "ExecuteTime": {
     "end_time": "2024-05-06T11:30:11.177128Z",
     "start_time": "2024-05-06T11:30:09.819436Z"
    }
   },
   "cell_type": "code",
   "source": [
    "from scipy.stats.mstats import winsorize\n",
    "df_list=['企业绿色全要素生产率', 'AI词频得分_log', 'SOE', 'Size',\n",
    "       'Lev', 'EM1', 'EM2', 'DER', 'DLCR', 'ROA1', 'ROA2', 'ROE',\n",
    "       'GrossProfit', 'NetProfit', 'Liquid', 'Quick', 'Cashflow', 'REC', 'INV',\n",
    "       'FIXED', 'Intangible', 'Tangible', 'Growth', 'AssetGrowth',\n",
    "       'NetProfitGrowth', 'CTR1', 'CTR2', 'ITR', 'CAP', 'CMIR', 'RCA', 'FL',\n",
    "       'OL', 'CL', 'Invest1', 'Loss', 'Board', 'Indep', 'Dual', 'Top1',\n",
    "       'Balance1', 'Seperate', 'BM', 'PB', 'TobinQ', 'ListAge', 'FirmAge',\n",
    "       'Ofee', 'Mfee', 'ATO', 'Occupy', 'Big4', 'Opinion', 'AuditFee',\n",
    "       'Employee', 'TMTAge', 'INST', 'Mshare', 'Bank', 'FinInst', 'FinBack',\n",
    "       'OverseaBack', 'TMTPay1', 'TMTPay2', '股东总数', 'ChairHold', 'ChairHoldR',\n",
    "       'CEOHold', 'CEOHoldR', 'SA', 'WW', 'FC', 'KZ', 'Lng', 'Lat',\n",
    "       'Listedyear', 'Establishyear', 'Delistedyear', 'East', 'West', 'Mid',\n",
    "       'HighTech_1', 'HighTech_2', 'HighTech_3', 'HighTech_4', 'HighTech_5',\n",
    "       'Pollute_1', 'Pollute_2', 'Pollute_3']#需要进行缩尾的列名\n",
    "df_winsorize_1 = filtered_df.copy()\n",
    "for i in df_list:\n",
    "    df_winsorize_1[i]=winsorize(df_winsorize_1[i],limits=[0.025, 0.025])\n",
    "df_winsorize_2 = filtered_df.copy()\n",
    "for i in df_list:\n",
    "    df_winsorize_2[i]=np.where(df_winsorize_2[i].isnull(), np.nan, winsorize(np.ma.masked_invalid(df_winsorize_2[i]),limits=(0.025, 0.025)))"
   ],
   "id": "38a98c100115db1c",
   "outputs": [],
   "execution_count": 4
  },
  {
   "metadata": {
    "ExecuteTime": {
     "end_time": "2024-05-06T11:31:42.963862Z",
     "start_time": "2024-05-06T11:30:11.178223Z"
    }
   },
   "cell_type": "code",
   "source": [
    "df_winsorize_1.to_excel('E:/ggq的文件/比赛/24统计建模/regress/d实证数据_log_控制变量_直接缩尾_去不平衡.xlsx', index=False)\n",
    "df_winsorize_2.to_excel('E:/ggq的文件/比赛/24统计建模/regress/d实证数据_log_控制变量_屏蔽空值缩尾_去不平衡.xlsx', index=False)"
   ],
   "id": "8c11e6197ba58b55",
   "outputs": [],
   "execution_count": 5
  },
  {
   "metadata": {},
   "cell_type": "markdown",
   "source": "## 企业创新控制变量",
   "id": "15c5c6d528066bbf"
  },
  {
   "metadata": {
    "ExecuteTime": {
     "end_time": "2024-05-07T03:03:52.996043Z",
     "start_time": "2024-05-07T03:03:35.458988Z"
    }
   },
   "cell_type": "code",
   "source": [
    "df_all = pd.read_excel('E:/ggq的文件/比赛/24统计建模/regress/d实证数据_log_控制变量_直接缩尾_去不平衡.xlsx')\n",
    "print(df_all.shape)\n",
    "print(df_all.columns)"
   ],
   "id": "9da056a7f75b4977",
   "outputs": [
    {
     "name": "stdout",
     "output_type": "stream",
     "text": [
      "(29051, 93)\n",
      "Index(['股票代码', '年份', '省份', '所属行业', '企业绿色全要素生产率', 'AI词频得分_log', 'SOE', 'Size',\n",
      "       'Lev', 'EM1', 'EM2', 'DER', 'DLCR', 'ROA1', 'ROA2', 'ROE',\n",
      "       'GrossProfit', 'NetProfit', 'Liquid', 'Quick', 'Cashflow', 'REC', 'INV',\n",
      "       'FIXED', 'Intangible', 'Tangible', 'Growth', 'AssetGrowth',\n",
      "       'NetProfitGrowth', 'CTR1', 'CTR2', 'ITR', 'CAP', 'CMIR', 'RCA', 'FL',\n",
      "       'OL', 'CL', 'Invest1', 'Loss', 'Board', 'Indep', 'Dual', 'Top1',\n",
      "       'Balance1', 'Seperate', 'BM', 'PB', 'TobinQ', 'ListAge', 'FirmAge',\n",
      "       'Ofee', 'Mfee', 'ATO', 'Occupy', 'Big4', 'Opinion', 'AuditFee',\n",
      "       'Employee', 'TMTAge', 'INST', 'Mshare', 'Bank', 'FinInst', 'FinBack',\n",
      "       'OverseaBack', 'TMTPay1', 'TMTPay2', '股东总数', 'ChairHold', 'ChairHoldR',\n",
      "       'CEOHold', 'CEOHoldR', 'SA', 'WW', 'FC', 'KZ', 'Lng', 'Lat',\n",
      "       'Listedyear', 'Establishyear', 'Delistedyear', 'East', 'West', 'Mid',\n",
      "       'HighTech_1', 'HighTech_2', 'HighTech_3', 'HighTech_4', 'HighTech_5',\n",
      "       'Pollute_1', 'Pollute_2', 'Pollute_3'],\n",
      "      dtype='object')\n"
     ]
    }
   ],
   "execution_count": 3
  },
  {
   "metadata": {
    "ExecuteTime": {
     "end_time": "2024-05-07T03:33:50.258815Z",
     "start_time": "2024-05-07T03:33:50.202602Z"
    }
   },
   "cell_type": "code",
   "source": [
    "df_all = df_all[['股票代码', '年份', '省份', '所属行业', '企业绿色全要素生产率', 'AI词频得分_log']]\n",
    "df_all['股票代码'] = df_all['股票代码'].astype(str).str.extract('(\\d+)')\n",
    "df_all['股票代码'] = df_all['股票代码'].astype(str).str.zfill(6)"
   ],
   "id": "10f02175e5ce71a2",
   "outputs": [
    {
     "name": "stderr",
     "output_type": "stream",
     "text": [
      "<>:2: SyntaxWarning: invalid escape sequence '\\d'\n",
      "<>:2: SyntaxWarning: invalid escape sequence '\\d'\n",
      "C:\\Users\\25105\\AppData\\Local\\Temp\\ipykernel_13792\\2021605586.py:2: SyntaxWarning: invalid escape sequence '\\d'\n",
      "  df_all['股票代码'] = df_all['股票代码'].astype(str).str.extract('(\\d+)')\n"
     ]
    }
   ],
   "execution_count": 9
  },
  {
   "metadata": {
    "ExecuteTime": {
     "end_time": "2024-05-07T03:16:04.959626Z",
     "start_time": "2024-05-07T03:16:01.505952Z"
    }
   },
   "cell_type": "code",
   "source": [
    "# 整体创新质量LnCit1\n",
    "df_LnCit1 = pd.read_excel('E:/ggq的文件/比赛/24统计建模/regress/e整体创新质量.xlsx', dtype={'stkcd': str})\n",
    "df_LnCit1 = df_LnCit1.rename(columns={'year': '年份'})\n",
    "df_LnCit1 = df_LnCit1.rename(columns={'stkcd': '股票代码'})\n",
    "df_LnCit1['股票代码'] = df_LnCit1['股票代码'].astype(str).str.extract('(\\d+)')\n",
    "df_LnCit1['股票代码'] = df_LnCit1['股票代码'].astype(str).str.zfill(6)\n",
    "print(df_LnCit1.shape)\n",
    "print(df_LnCit1.columns)\n",
    "# 平均创新质量LnCit2\n",
    "df_LnCit2 = pd.read_excel('E:/ggq的文件/比赛/24统计建模/regress/e平均创新质量.xlsx', dtype={'stkcd': str})\n",
    "df_LnCit2 = df_LnCit2.rename(columns={'year': '年份'})\n",
    "df_LnCit2 = df_LnCit2.rename(columns={'stkcd': '股票代码'})\n",
    "df_LnCit2['股票代码'] = df_LnCit2['股票代码'].astype(str).str.extract('(\\d+)')\n",
    "df_LnCit2['股票代码'] = df_LnCit2['股票代码'].astype(str).str.zfill(6)\n",
    "print(df_LnCit2.shape)\n",
    "print(df_LnCit2.columns)"
   ],
   "id": "abee1b47c696bed7",
   "outputs": [
    {
     "name": "stderr",
     "output_type": "stream",
     "text": [
      "<>:5: SyntaxWarning: invalid escape sequence '\\d'\n",
      "<>:13: SyntaxWarning: invalid escape sequence '\\d'\n",
      "<>:5: SyntaxWarning: invalid escape sequence '\\d'\n",
      "<>:13: SyntaxWarning: invalid escape sequence '\\d'\n",
      "C:\\Users\\25105\\AppData\\Local\\Temp\\ipykernel_13792\\3663790187.py:5: SyntaxWarning: invalid escape sequence '\\d'\n",
      "  df_LnCit1['股票代码'] = df_LnCit1['股票代码'].astype(str).str.extract('(\\d+)')\n",
      "C:\\Users\\25105\\AppData\\Local\\Temp\\ipykernel_13792\\3663790187.py:13: SyntaxWarning: invalid escape sequence '\\d'\n",
      "  df_LnCit2['股票代码'] = df_LnCit2['股票代码'].astype(str).str.extract('(\\d+)')\n"
     ]
    },
    {
     "name": "stdout",
     "output_type": "stream",
     "text": [
      "(36634, 3)\n",
      "Index(['股票代码', '年份', 'LnCit1'], dtype='object')\n",
      "(36634, 3)\n",
      "Index(['股票代码', '年份', 'LnCit2'], dtype='object')\n"
     ]
    }
   ],
   "execution_count": 5
  },
  {
   "metadata": {
    "ExecuteTime": {
     "end_time": "2024-05-07T03:26:49.580753Z",
     "start_time": "2024-05-07T03:26:39.515558Z"
    }
   },
   "cell_type": "code",
   "source": [
    "# 绿色创新效率GreenInnov\n",
    "df_GreenInnov = pd.read_excel('E:/ggq的文件/比赛/24统计建模/regress/e绿色创新效率测算.xlsx', dtype={'股票代码': str})\n",
    "df_GreenInnov['股票代码'] = df_GreenInnov['股票代码'].astype(str).str.extract('(\\d+)')\n",
    "df_GreenInnov['股票代码'] = df_GreenInnov['股票代码'].astype(str).str.zfill(6)\n",
    "df_GreenInnov = df_GreenInnov.rename(columns={'绿色创新效率': 'GreenInnov'})\n",
    "df_GreenInnov = df_GreenInnov[['股票代码', '年份', 'GreenInnov']]\n",
    "print(df_GreenInnov.shape)\n",
    "print(df_GreenInnov.columns)\n",
    "# 企业绿色科技研发效率grd和绿色科技成果转化效率gcon\n",
    "df_grd_gcon = pd.read_excel('E:/ggq的文件/比赛/24统计建模/regress/e绿色科技研发_成果转化效率.xlsx', dtype={'stkcd': str})\n",
    "df_grd_gcon = df_grd_gcon.rename(columns={'year': '年份'})\n",
    "df_grd_gcon = df_grd_gcon.rename(columns={'stkcd': '股票代码'})\n",
    "df_grd_gcon = df_grd_gcon.rename(columns={'绿色科技研发效率': 'grd'})\t\n",
    "df_grd_gcon = df_grd_gcon.rename(columns={'绿色成果转化效率': 'gcon'})\n",
    "print(df_grd_gcon.shape)\n",
    "print(df_grd_gcon.columns)"
   ],
   "id": "86b66f635365c8b2",
   "outputs": [
    {
     "name": "stderr",
     "output_type": "stream",
     "text": [
      "<>:3: SyntaxWarning: invalid escape sequence '\\d'\n",
      "<>:3: SyntaxWarning: invalid escape sequence '\\d'\n",
      "C:\\Users\\25105\\AppData\\Local\\Temp\\ipykernel_13792\\1482952681.py:3: SyntaxWarning: invalid escape sequence '\\d'\n",
      "  df_GreenInnov['股票代码'] = df_GreenInnov['股票代码'].astype(str).str.extract('(\\d+)')\n"
     ]
    },
    {
     "name": "stdout",
     "output_type": "stream",
     "text": [
      "(31043, 3)\n",
      "Index(['股票代码', '年份', 'GreenInnov'], dtype='object')\n",
      "(46408, 4)\n",
      "Index(['股票代码', '年份', 'grd', 'gcon'], dtype='object')\n"
     ]
    }
   ],
   "execution_count": 6
  },
  {
   "metadata": {
    "ExecuteTime": {
     "end_time": "2024-05-07T03:30:49.218915Z",
     "start_time": "2024-05-07T03:30:38.491703Z"
    }
   },
   "cell_type": "code",
   "source": [
    "# 创新投入持续性IIP和创新产出持续性OIP\n",
    "df_IIP_OIP = pd.read_excel('E:/ggq的文件/比赛/24统计建模/regress/e持续绿色创新水平.xlsx', dtype={'stkcd': str})\n",
    "df_IIP_OIP = df_IIP_OIP.rename(columns={'year': '年份'})\n",
    "df_IIP_OIP = df_IIP_OIP.rename(columns={'stkcd': '股票代码'})\n",
    "df_IIP_OIP = df_IIP_OIP [['股票代码', '年份', 'IIP', 'OIP']]\n",
    "print(df_IIP_OIP.shape)\n",
    "print(df_IIP_OIP.columns)"
   ],
   "id": "1c1f10a1005c569d",
   "outputs": [
    {
     "name": "stdout",
     "output_type": "stream",
     "text": [
      "(59989, 4)\n",
      "Index(['股票代码', '年份', 'IIP', 'OIP'], dtype='object')\n"
     ]
    }
   ],
   "execution_count": 7
  },
  {
   "metadata": {
    "ExecuteTime": {
     "end_time": "2024-05-07T03:33:56.939999Z",
     "start_time": "2024-05-07T03:33:56.794765Z"
    }
   },
   "cell_type": "code",
   "source": [
    "df_all = pd.merge(df_all, df_LnCit1, on=['股票代码', '年份'], how='left')\n",
    "df_all = pd.merge(df_all, df_LnCit2, on=['股票代码', '年份'], how='left')\n",
    "df_all = pd.merge(df_all, df_GreenInnov, on=['股票代码', '年份'], how='left')\n",
    "df_all = pd.merge(df_all, df_grd_gcon, on=['股票代码', '年份'], how='left')\n",
    "df_all = pd.merge(df_all, df_IIP_OIP, on=['股票代码', '年份'], how='left')\n",
    "print(df_all.shape)\n",
    "print(df_all.columns)"
   ],
   "id": "caecb9e23670acfb",
   "outputs": [
    {
     "name": "stdout",
     "output_type": "stream",
     "text": [
      "(29051, 13)\n",
      "Index(['股票代码', '年份', '省份', '所属行业', '企业绿色全要素生产率', 'AI词频得分_log', 'LnCit1',\n",
      "       'LnCit2', 'GreenInnov', 'grd', 'gcon', 'IIP', 'OIP'],\n",
      "      dtype='object')\n"
     ]
    }
   ],
   "execution_count": 10
  },
  {
   "metadata": {
    "ExecuteTime": {
     "end_time": "2024-05-07T03:36:45.823400Z",
     "start_time": "2024-05-07T03:36:40.149743Z"
    }
   },
   "cell_type": "code",
   "source": [
    "from scipy.stats.mstats import winsorize\n",
    "df_list=['LnCit1', 'LnCit2', 'GreenInnov', 'grd', 'gcon', 'IIP', 'OIP']#需要进行缩尾的列名\n",
    "df_winsorize_1 = df_all.copy()\n",
    "for i in df_list:\n",
    "    df_winsorize_1[i]=winsorize(df_winsorize_1[i],limits=[0.025, 0.025])"
   ],
   "id": "56a8435bff99a9e5",
   "outputs": [],
   "execution_count": 11
  },
  {
   "metadata": {
    "ExecuteTime": {
     "end_time": "2024-05-07T03:37:17.674725Z",
     "start_time": "2024-05-07T03:37:15.983925Z"
    }
   },
   "cell_type": "code",
   "source": [
    "# 统计缺失值情况\n",
    "grouped = df_all.groupby('股票代码')\n",
    "missing_values_count = grouped.apply(lambda x: x.isnull().sum())\n",
    "missing_values = missing_values_count.groupby(level=0).sum()\n",
    "print(missing_values)\n",
    "missing_values.to_excel('E:/ggq的文件/比赛/24统计建模/regress/e缺失值面板.xlsx', index=True)"
   ],
   "id": "9577dd57148ffda",
   "outputs": [
    {
     "name": "stderr",
     "output_type": "stream",
     "text": [
      "C:\\Users\\25105\\AppData\\Local\\Temp\\ipykernel_13792\\4111031628.py:3: DeprecationWarning: DataFrameGroupBy.apply operated on the grouping columns. This behavior is deprecated, and in a future version of pandas the grouping columns will be excluded from the operation. Either pass `include_groups=False` to exclude the groupings or explicitly select the grouping columns after groupby to silence this warning.\n",
      "  missing_values_count = grouped.apply(lambda x: x.isnull().sum())\n"
     ]
    },
    {
     "name": "stdout",
     "output_type": "stream",
     "text": [
      "        股票代码  年份  省份  所属行业  企业绿色全要素生产率  AI词频得分_log  LnCit1  LnCit2  \\\n",
      "股票代码                                                                 \n",
      "000002     0   0   0     0           0           0       1       1   \n",
      "000006     0   0   0     0           0           0      16      16   \n",
      "000007     0   0   0     0           0           0      16      16   \n",
      "000008     0   0   0     0           0           0       9       9   \n",
      "000010     0   0   0     0           0           0      15      15   \n",
      "...      ...  ..  ..   ...         ...         ...     ...     ...   \n",
      "603333     0   0   0     0           0           0       1       1   \n",
      "603366     0   0   0     0           0           0       1       1   \n",
      "603399     0   0   0     0           0           0       8       8   \n",
      "603766     0   0   0     0           0           0       1       1   \n",
      "603993     0   0   0     0           0           0       1       1   \n",
      "\n",
      "        GreenInnov  grd  gcon  IIP  OIP  \n",
      "股票代码                                     \n",
      "000002          12    0     0   12    4  \n",
      "000006          16    0     0   16   16  \n",
      "000007          15    0     0   13   16  \n",
      "000008           9    0     0    9    9  \n",
      "000010          12    0     0    9   14  \n",
      "...            ...  ...   ...  ...  ...  \n",
      "603333           1    0     0    1    5  \n",
      "603366           1    0     0    1    1  \n",
      "603399           1    0     0    1    3  \n",
      "603766           1    0     0    1    1  \n",
      "603993           1    0     0    1    2  \n",
      "\n",
      "[2033 rows x 13 columns]\n"
     ]
    }
   ],
   "execution_count": 12
  },
  {
   "metadata": {
    "ExecuteTime": {
     "end_time": "2024-05-07T03:37:28.464396Z",
     "start_time": "2024-05-07T03:37:20.942463Z"
    }
   },
   "cell_type": "code",
   "source": "df_winsorize_1.to_excel('E:/ggq的文件/比赛/24统计建模/regress/e实证数据_log_绿色控制变量_直接缩尾_去不平衡.xlsx', index=False)",
   "id": "ae845af3e3494b4",
   "outputs": [],
   "execution_count": 13
  },
  {
   "metadata": {},
   "cell_type": "markdown",
   "source": "## 累加",
   "id": "9fb05f452f335f85"
  },
  {
   "metadata": {
    "ExecuteTime": {
     "end_time": "2024-05-07T11:43:57.781679Z",
     "start_time": "2024-05-07T11:43:54.092585Z"
    }
   },
   "cell_type": "code",
   "source": [
    "df_sum_1 = pd.read_excel('E:/ggq的文件/比赛/24统计建模/regress/e实证数据_log_绿色控制变量_直接缩尾_去不平衡.xlsx', dtype={'股票代码': str})\n",
    "print(df_sum_1.shape)\n",
    "print(df_sum_1.columns)"
   ],
   "id": "93469ba095042a70",
   "outputs": [
    {
     "name": "stdout",
     "output_type": "stream",
     "text": [
      "(29051, 13)\n",
      "Index(['股票代码', '年份', '省份', '所属行业', '企业绿色全要素生产率', 'AI词频得分_log', 'LnCit1',\n",
      "       'LnCit2', 'GreenInnov', 'grd', 'gcon', 'IIP', 'OIP'],\n",
      "      dtype='object')\n"
     ]
    }
   ],
   "execution_count": 9
  },
  {
   "metadata": {
    "ExecuteTime": {
     "end_time": "2024-05-07T11:44:53.762672Z",
     "start_time": "2024-05-07T11:44:53.754198Z"
    }
   },
   "cell_type": "code",
   "source": [
    "# 反log\n",
    "df_sum_2 = df_sum_1.copy()\n",
    "df_sum_2['AI词频得分_log'] = np.exp(df_sum_2['AI词频得分_log']) - 1"
   ],
   "id": "f7a75d44ffe869a2",
   "outputs": [],
   "execution_count": 12
  },
  {
   "metadata": {
    "ExecuteTime": {
     "end_time": "2024-05-07T11:44:56.279174Z",
     "start_time": "2024-05-07T11:44:56.269797Z"
    }
   },
   "cell_type": "code",
   "source": [
    "df_sum_1['AI词频得分_log后累加'] = df_sum_1.groupby('股票代码')['AI词频得分_log'].cumsum()\n",
    "df_sum_2['AI词频得分_累加后log'] = df_sum_2.groupby('股票代码')['AI词频得分_log'].cumsum()"
   ],
   "id": "486fd7188c1a8e74",
   "outputs": [],
   "execution_count": 13
  },
  {
   "metadata": {
    "ExecuteTime": {
     "end_time": "2024-05-07T11:46:57.252298Z",
     "start_time": "2024-05-07T11:46:57.244729Z"
    }
   },
   "cell_type": "code",
   "source": [
    "# log\n",
    "df_sum_2['AI词频得分_累加后log'] = np.log(df_sum_2['AI词频得分_累加后log'] + 1)"
   ],
   "id": "82aff1110d2c42af",
   "outputs": [],
   "execution_count": 14
  },
  {
   "metadata": {
    "ExecuteTime": {
     "end_time": "2024-05-07T11:47:27.670261Z",
     "start_time": "2024-05-07T11:47:17.830646Z"
    }
   },
   "cell_type": "code",
   "source": [
    "df_sum_1.to_excel('E:/ggq的文件/比赛/24统计建模/regress/f实证数据_log_绿色控制变量_直接缩尾_去不平衡_log后累加.xlsx', index=False)\n",
    "df_sum_2.to_excel('E:/ggq的文件/比赛/24统计建模/regress/f实证数据_log_绿色控制变量_直接缩尾_去不平衡_累加后log.xlsx', index=False)"
   ],
   "id": "27ee64619c19f959",
   "outputs": [],
   "execution_count": 15
  },
  {
   "metadata": {},
   "cell_type": "markdown",
   "source": "## final_list",
   "id": "501f0df7039d0327"
  },
  {
   "metadata": {
    "ExecuteTime": {
     "end_time": "2024-05-08T02:11:05.023458Z",
     "start_time": "2024-05-08T02:11:03.750563Z"
    }
   },
   "cell_type": "code",
   "source": [
    "df_600  = pd.read_excel('E:/ggq的文件/比赛/24统计建模/data/b上交所主板.xlsx', dtype={'A股代码': str})\n",
    "df_688  = pd.read_excel('E:/ggq的文件/比赛/24统计建模/data/b上交所科创板.xlsx', dtype={'A股代码': str})\n",
    "df_000  = pd.read_excel('E:/ggq的文件/比赛/24统计建模/data/b深交所主板.xlsx', dtype={'A股代码': str})\n",
    "df_300  = pd.read_excel('E:/ggq的文件/比赛/24统计建模/data/b深交所创业板.xlsx', dtype={'A股代码': str})\n",
    "df_all = pd.concat([df_600, df_688, df_000, df_300], axis=0)\n",
    "df_all = df_all.rename(columns={'A股代码': '股票代码'})\n",
    "print(df_all.shape)\n",
    "print(df_all.columns)"
   ],
   "id": "19d17f8d4320939b",
   "outputs": [
    {
     "name": "stdout",
     "output_type": "stream",
     "text": [
      "(5113, 9)\n",
      "Index(['股票代码', 'A股简称', '英文名称', 'A股上市日期', '省份', '所属行业', '板块', '地区', '城市'], dtype='object')\n"
     ]
    }
   ],
   "execution_count": 16
  },
  {
   "metadata": {
    "ExecuteTime": {
     "end_time": "2024-05-08T02:11:31.042635Z",
     "start_time": "2024-05-08T02:11:30.101394Z"
    }
   },
   "cell_type": "code",
   "source": [
    "df_list = pd.read_excel('E:/ggq的文件/比赛/24统计建模/data/final_公司年报列表_dropST金融科研_去不平衡_29051条_2033家企业.xlsx', dtype={'股票代码': str})\n",
    "print(df_list.shape)\n",
    "print(df_list.columns)"
   ],
   "id": "399a9593f661db0c",
   "outputs": [
    {
     "name": "stdout",
     "output_type": "stream",
     "text": [
      "(29051, 3)\n",
      "Index(['股票代码', '年份', '省份'], dtype='object')\n"
     ]
    }
   ],
   "execution_count": 17
  },
  {
   "metadata": {
    "ExecuteTime": {
     "end_time": "2024-05-08T02:12:17.607326Z",
     "start_time": "2024-05-08T02:12:17.587203Z"
    }
   },
   "cell_type": "code",
   "source": [
    "# 将df_all的公司简称拼接到df_list\n",
    "df_list = pd.merge(df_list, df_all[['股票代码', 'A股简称', '所属行业', '板块']], on='股票代码', how='left')"
   ],
   "id": "145a96923e427af3",
   "outputs": [],
   "execution_count": 18
  },
  {
   "metadata": {
    "ExecuteTime": {
     "end_time": "2024-05-08T02:13:00.992755Z",
     "start_time": "2024-05-08T02:13:00.984783Z"
    }
   },
   "cell_type": "code",
   "source": [
    "# 排列df_list的列顺序\n",
    "df_list = df_list[['股票代码', '年份', 'A股简称', '所属行业', '板块', '省份']]\n",
    "print(df_list.shape)\n",
    "print(df_list.columns)"
   ],
   "id": "5cec509955363749",
   "outputs": [
    {
     "name": "stdout",
     "output_type": "stream",
     "text": [
      "(29051, 6)\n",
      "Index(['股票代码', '年份', 'A股简称', '所属行业', '板块', '省份'], dtype='object')\n"
     ]
    }
   ],
   "execution_count": 19
  },
  {
   "metadata": {
    "ExecuteTime": {
     "end_time": "2024-05-08T02:14:50.791263Z",
     "start_time": "2024-05-08T02:14:50.775030Z"
    }
   },
   "cell_type": "code",
   "source": [
    "# 删除所有标点符号和空格\n",
    "df_list['A股简称'] = df_list['A股简称'].str.replace(r'[^\\w\\s]+', '')\n",
    "df_list['A股简称'] = df_list['A股简称'].str.replace(r' ', '')"
   ],
   "id": "8ee59817b46f06d1",
   "outputs": [],
   "execution_count": 20
  },
  {
   "metadata": {
    "ExecuteTime": {
     "end_time": "2024-05-08T02:16:18.675855Z",
     "start_time": "2024-05-08T02:16:18.661149Z"
    }
   },
   "cell_type": "code",
   "source": [
    "# 删除以'*'开头的\n",
    "df_list = df_list[~df_list['A股简称'].str.startswith('*')]\n",
    "print(df_list.shape)\n",
    "print(len(df_list['A股简称'].unique().tolist()))"
   ],
   "id": "53ca11622f7c6da2",
   "outputs": [
    {
     "name": "stdout",
     "output_type": "stream",
     "text": [
      "(28483, 6)\n",
      "1994\n"
     ]
    }
   ],
   "execution_count": 22
  },
  {
   "metadata": {
    "ExecuteTime": {
     "end_time": "2024-05-08T02:17:48.675576Z",
     "start_time": "2024-05-08T02:17:45.878210Z"
    }
   },
   "cell_type": "code",
   "source": "df_list.to_excel('E:/ggq的文件/比赛/24统计建模/data/final_公司年报列表_dropST金融科研_去不平衡_28483条_1994家企业.xlsx', index=False)",
   "id": "ab02196555b977d3",
   "outputs": [],
   "execution_count": 23
  },
  {
   "metadata": {},
   "cell_type": "markdown",
   "source": "",
   "id": "6df7900da2c81f85"
  },
  {
   "metadata": {
    "ExecuteTime": {
     "end_time": "2024-05-08T11:26:40.133481Z",
     "start_time": "2024-05-08T11:26:28.627331Z"
    }
   },
   "cell_type": "code",
   "source": [
    "df_list = pd.read_excel('E:/ggq的文件/比赛/24统计建模/data/final_公司年报列表_dropST金融科研_去不平衡_28483条_1994家企业.xlsx', dtype={'股票代码': str})\n",
    "print(df_list.shape)\n",
    "print(df_list.columns)\n",
    "df_regress = pd.read_excel('E:/ggq的文件/比赛/24统计建模/regress/f实证数据_累加_筛选1994_控制变量与异质.xlsx', dtype={'股票代码': str})\n",
    "print(df_regress.shape)\n",
    "print(df_regress.columns)"
   ],
   "id": "96e27d80fb688419",
   "outputs": [
    {
     "name": "stdout",
     "output_type": "stream",
     "text": [
      "(28483, 6)\n",
      "Index(['股票代码', '年份', 'A股简称', '所属行业', '板块', '省份'], dtype='object')\n",
      "(29051, 59)\n",
      "Index(['股票代码', '年份', '省份', '所属行业', '企业绿色全要素生产率', 'AI词频得分', 'AI词频得分_log后累加',\n",
      "       'AI词频得分_累加后log', 'Size', 'Lev', 'Cashflow', 'FIXED', 'Growth', 'Board',\n",
      "       'Dual', 'Top1', 'TobinQ', 'FirmAge', 'Employee', 'REC', 'INV',\n",
      "       'Intangible', 'AssetGrowth', 'NetProfitGrowth', 'ITR', 'CAP', 'Invest1',\n",
      "       'Indep', 'Balance1', 'Seperate', 'BM', 'PB', 'Ofee', 'Mfee', 'ATO',\n",
      "       'SA', 'WW', 'FC', 'KZ', 'East', 'West', 'Mid', 'HighTech_1',\n",
      "       'HighTech_2', 'HighTech_3', 'HighTech_4', 'HighTech_5', 'Pollute_1',\n",
      "       'Pollute_2', 'Pollute_3', 'SOE', 'Loss', 'LnCit1', 'LnCit2',\n",
      "       'GreenInnov', 'grd', 'gcon', 'IIP', 'OIP'],\n",
      "      dtype='object')\n"
     ]
    }
   ],
   "execution_count": 24
  },
  {
   "metadata": {
    "ExecuteTime": {
     "end_time": "2024-05-08T11:27:13.580952Z",
     "start_time": "2024-05-08T11:27:13.552050Z"
    }
   },
   "cell_type": "code",
   "source": [
    "ID_list = df_list['股票代码'].unique().tolist()\n",
    "df_regress = df_regress[df_regress['股票代码'].isin(ID_list)]\n",
    "print(df_regress.shape)\n",
    "print(df_regress.columns)"
   ],
   "id": "ca1df10cd7427fe7",
   "outputs": [
    {
     "name": "stdout",
     "output_type": "stream",
     "text": [
      "(14821, 59)\n",
      "Index(['股票代码', '年份', '省份', '所属行业', '企业绿色全要素生产率', 'AI词频得分', 'AI词频得分_log后累加',\n",
      "       'AI词频得分_累加后log', 'Size', 'Lev', 'Cashflow', 'FIXED', 'Growth', 'Board',\n",
      "       'Dual', 'Top1', 'TobinQ', 'FirmAge', 'Employee', 'REC', 'INV',\n",
      "       'Intangible', 'AssetGrowth', 'NetProfitGrowth', 'ITR', 'CAP', 'Invest1',\n",
      "       'Indep', 'Balance1', 'Seperate', 'BM', 'PB', 'Ofee', 'Mfee', 'ATO',\n",
      "       'SA', 'WW', 'FC', 'KZ', 'East', 'West', 'Mid', 'HighTech_1',\n",
      "       'HighTech_2', 'HighTech_3', 'HighTech_4', 'HighTech_5', 'Pollute_1',\n",
      "       'Pollute_2', 'Pollute_3', 'SOE', 'Loss', 'LnCit1', 'LnCit2',\n",
      "       'GreenInnov', 'grd', 'gcon', 'IIP', 'OIP'],\n",
      "      dtype='object')\n"
     ]
    }
   ],
   "execution_count": 25
  },
  {
   "metadata": {
    "ExecuteTime": {
     "end_time": "2024-05-08T11:30:03.467289Z",
     "start_time": "2024-05-08T11:29:53.817164Z"
    }
   },
   "cell_type": "code",
   "source": "df_regress.to_excel('E:/ggq的文件/比赛/24统计建模/regress/g实证数据_累加_筛选1994_控制变量与异质.xlsx', index=False)",
   "id": "8f80a9755b046e18",
   "outputs": [],
   "execution_count": 26
  },
  {
   "metadata": {
    "ExecuteTime": {
     "end_time": "2024-05-08T11:37:25.514091Z",
     "start_time": "2024-05-08T11:37:25.505628Z"
    }
   },
   "cell_type": "code",
   "source": [
    "# 第一二产业\n",
    "industries = ['A 农林牧渔', 'B 采矿业', 'C 制造业', 'D 水电煤气', 'E 建筑业']\n",
    "df_regress_ind = df_regress[df_regress['所属行业'].isin(industries)]\n",
    "print(df_regress_ind.shape)\n",
    "print(df_regress_ind.columns)"
   ],
   "id": "7c45f7172c664d0d",
   "outputs": [
    {
     "name": "stdout",
     "output_type": "stream",
     "text": [
      "(11188, 59)\n",
      "Index(['股票代码', '年份', '省份', '所属行业', '企业绿色全要素生产率', 'AI词频得分', 'AI词频得分_log后累加',\n",
      "       'AI词频得分_累加后log', 'Size', 'Lev', 'Cashflow', 'FIXED', 'Growth', 'Board',\n",
      "       'Dual', 'Top1', 'TobinQ', 'FirmAge', 'Employee', 'REC', 'INV',\n",
      "       'Intangible', 'AssetGrowth', 'NetProfitGrowth', 'ITR', 'CAP', 'Invest1',\n",
      "       'Indep', 'Balance1', 'Seperate', 'BM', 'PB', 'Ofee', 'Mfee', 'ATO',\n",
      "       'SA', 'WW', 'FC', 'KZ', 'East', 'West', 'Mid', 'HighTech_1',\n",
      "       'HighTech_2', 'HighTech_3', 'HighTech_4', 'HighTech_5', 'Pollute_1',\n",
      "       'Pollute_2', 'Pollute_3', 'SOE', 'Loss', 'LnCit1', 'LnCit2',\n",
      "       'GreenInnov', 'grd', 'gcon', 'IIP', 'OIP'],\n",
      "      dtype='object')\n"
     ]
    }
   ],
   "execution_count": 28
  },
  {
   "metadata": {
    "ExecuteTime": {
     "end_time": "2024-05-08T11:38:14.603973Z",
     "start_time": "2024-05-08T11:38:14.599941Z"
    }
   },
   "cell_type": "code",
   "source": "print(len(df_regress_ind['股票代码'].unique().tolist()))",
   "id": "50b884552a52091d",
   "outputs": [
    {
     "name": "stdout",
     "output_type": "stream",
     "text": [
      "786\n"
     ]
    }
   ],
   "execution_count": 29
  },
  {
   "metadata": {
    "ExecuteTime": {
     "end_time": "2024-05-08T11:38:26.646115Z",
     "start_time": "2024-05-08T11:38:20.591763Z"
    }
   },
   "cell_type": "code",
   "source": "df_regress_ind.to_excel('E:/ggq的文件/比赛/24统计建模/regress/g实证数据_累加_筛选一二产业786_控制变量与异质.xlsx', index=False)",
   "id": "90aa9d6ffd8864a8",
   "outputs": [],
   "execution_count": 30
  },
  {
   "metadata": {},
   "cell_type": "code",
   "outputs": [],
   "execution_count": null,
   "source": "",
   "id": "7da992e6109607ec"
  }
 ],
 "metadata": {
  "kernelspec": {
   "display_name": "Python 3",
   "language": "python",
   "name": "python3"
  },
  "language_info": {
   "codemirror_mode": {
    "name": "ipython",
    "version": 2
   },
   "file_extension": ".py",
   "mimetype": "text/x-python",
   "name": "python",
   "nbconvert_exporter": "python",
   "pygments_lexer": "ipython2",
   "version": "2.7.6"
  }
 },
 "nbformat": 4,
 "nbformat_minor": 5
}
